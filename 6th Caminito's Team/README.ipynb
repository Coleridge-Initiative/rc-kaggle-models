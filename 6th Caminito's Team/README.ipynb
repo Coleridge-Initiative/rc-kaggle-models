{
 "cells": [
  {
   "cell_type": "markdown",
   "id": "8325e9a1",
   "metadata": {},
   "source": [
    "## Hardware used to train spaCy NLP models.\n",
    "***\n",
    "* System:\n",
    "    Host: fede-dsk Kernel: 5.4.0-77-generic x86_64 bits: 64 \n",
    "    Desktop: Cinnamon 4.8.6 Distro: Linux Mint 20.1 Ulyssa \n",
    "* Machine:\n",
    "    Mobo: ASUSTeK model: PRIME Z490-A v: Rev 1.xx\n",
    "* CPU:\n",
    "    8-Core: Intel Core i7-10700K type: MT MCP speed: 800 MHz \n",
    "    min/max: 800/5100 MHz \n",
    "* Graphics:\n",
    "    Device-1: NVIDIA TU104 [GeForce RTX 2080 SUPER] driver: nvidia v: 460.80  \n",
    "* Drives:\n",
    "    Local Storage: total: 2.29 TiB used: 46.90 GiB (2.0%) \n",
    "* Info:\n",
    "    Processes: 352 Uptime: 43m Memory: 31.26 GiB used: 2.89 GiB (9.3%) \n",
    "    Shell: bash inxi: 3.0.38\n"
   ]
  },
  {
   "cell_type": "markdown",
   "id": "4104f982",
   "metadata": {},
   "source": [
    "## Hardware used to train Gensim Vectors (python packages are detailed separately in `mac_gensim_requirements.txt`):\n",
    "***\n",
    "* Model Name:              MacBook Pro\n",
    "* Model Identifier         MacBookPro14,2\n",
    "* Processor Name:          Dual-Core Intel Core i5\n",
    "* Processor Speed:         3.1 GHz\n",
    "* Number of Processors:    1\n",
    "* Total Number of Cores:   2\n",
    "* L2 Cache (per Core):     256 KB\n",
    "* L3 Cache:                4 MB\n",
    "* Hyper-Threading Technology: Enabled\n",
    "* Memory:                  8 GB\n",
    "* System Firmware Version: 429.120.4.0.0\n",
    "* SMC Version (system):    2.4416"
   ]
  },
  {
   "cell_type": "markdown",
   "id": "e0aeeba3",
   "metadata": {},
   "source": [
    "## SOFTWARE (python packages are detailed separately in `requirements.txt`):\n",
    "***\n",
    "1. Python 3.8.5 \n",
    "2. spaCy v2.3.5 (https://v2.spacy.io/)\n",
    "3. scispaCy (https://github.com/allenai/scispacy)\n",
    "4. Gensim (https://github.com/RaRe-Technologies/gensim)\n",
    "5. Jupyter Notebook and Conda 4.10.1 were used.\n"
   ]
  },
  {
   "cell_type": "markdown",
   "id": "a6fdab80",
   "metadata": {},
   "source": [
    "## MODEL BUILD: There are three options to produce the solution.\n",
    "1) very fast prediction\n",
    "    a) runs in a few minutes\n",
    "    b) uses precomputed neural network predictions\n",
    "\n",
    "### shell command to run each build is below\n",
    "1) very fast prediction (Model for training NER)\n",
    "!python -m spacy train en models/NER-LAST-VEC-1100 'data/processed/train_last_sent_929_format.json' 'data/processed/dev_last_sent_164_format.json' --base-model 'en_core_web_sm' --vectors 'models/gensim_vectors'  -p ner -R"
   ]
  },
  {
   "cell_type": "markdown",
   "id": "86ea5f8e",
   "metadata": {},
   "source": [
    "## To train TEXTCAT models\n",
    "***\n",
    "* Use train Jupyter Notebook or train.py"
   ]
  },
  {
   "cell_type": "markdown",
   "id": "d66e77c3",
   "metadata": {},
   "source": [
    "## To make new predictions\n",
    "***\n",
    "* Use predict Jupyter Notebook or predict.py"
   ]
  },
  {
   "cell_type": "markdown",
   "id": "29d90bc1",
   "metadata": {},
   "source": [
    "## To train Gensim Vectors\n",
    "***\n",
    "* Use generate_vectors_with_spacy_v2.py and mac_gensim_requirements.txt"
   ]
  }
 ],
 "metadata": {
  "kernelspec": {
   "display_name": "Python 3",
   "language": "python",
   "name": "python3"
  },
  "language_info": {
   "codemirror_mode": {
    "name": "ipython",
    "version": 3
   },
   "file_extension": ".py",
   "mimetype": "text/x-python",
   "name": "python",
   "nbconvert_exporter": "python",
   "pygments_lexer": "ipython3",
   "version": "3.8.5"
  }
 },
 "nbformat": 4,
 "nbformat_minor": 5
}
