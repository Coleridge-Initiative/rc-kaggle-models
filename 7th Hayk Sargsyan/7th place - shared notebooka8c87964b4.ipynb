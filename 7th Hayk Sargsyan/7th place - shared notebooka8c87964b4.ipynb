{
 "cells": [
  {
   "cell_type": "code",
   "execution_count": 1,
   "id": "twelve-michael",
   "metadata": {
    "_cell_guid": "b1076dfc-b9ad-4769-8c92-a6c4dae69d19",
    "_uuid": "8f2839f25d086af736a60e9eeb907d3b93b6e0e5",
    "execution": {
     "iopub.execute_input": "2021-06-22T21:23:21.894999Z",
     "iopub.status.busy": "2021-06-22T21:23:21.894331Z",
     "iopub.status.idle": "2021-06-22T21:23:21.899665Z",
     "shell.execute_reply": "2021-06-22T21:23:21.899153Z",
     "shell.execute_reply.started": "2021-06-22T21:20:47.124688Z"
    },
    "papermill": {
     "duration": 0.055349,
     "end_time": "2021-06-22T21:23:21.899794",
     "exception": false,
     "start_time": "2021-06-22T21:23:21.844445",
     "status": "completed"
    },
    "tags": []
   },
   "outputs": [],
   "source": [
    "import warnings\n",
    "warnings.filterwarnings('ignore', category=DeprecationWarning)\n",
    "warnings.filterwarnings('ignore', category=FutureWarning)\n",
    "\n",
    "import re\n",
    "import pandas as pd\n",
    "import numpy as np\n",
    "import json\n",
    "import os\n",
    "import string\n",
    "from functools import partial\n",
    "from collections import defaultdict, Counter\n",
    "from tqdm.autonotebook import tqdm\n",
    "import gc"
   ]
  },
  {
   "cell_type": "code",
   "execution_count": 2,
   "id": "dominican-equation",
   "metadata": {
    "execution": {
     "iopub.execute_input": "2021-06-22T21:23:21.996147Z",
     "iopub.status.busy": "2021-06-22T21:23:21.980934Z",
     "iopub.status.idle": "2021-06-22T21:23:30.679043Z",
     "shell.execute_reply": "2021-06-22T21:23:30.678156Z",
     "shell.execute_reply.started": "2021-06-22T21:20:47.144502Z"
    },
    "papermill": {
     "duration": 8.742623,
     "end_time": "2021-06-22T21:23:30.679201",
     "exception": false,
     "start_time": "2021-06-22T21:23:21.936578",
     "status": "completed"
    },
    "tags": []
   },
   "outputs": [],
   "source": [
    "# Offline installation of spacy v3\n",
    "!mkdir -p /tmp/pip/cache/\n",
    "!cp ../input/spacy-v3/spacy_v3_download/smart_open-3.0.0.xyz /tmp/pip/cache/smart_open-3.0.0.tar.gz\n",
    "!cp ../input/spacy-v3/spacy_v3_download/spacy-3.0.6-cp37-cp37m-manylinux2014_x86_64.whl /tmp/pip/cache/\n",
    "!cp ../input/spacy-v3/spacy_v3_download/pydantic-1.7.3-cp37-cp37m-manylinux2014_x86_64.whl /tmp/pip/cache/\n",
    "!cp ../input/spacy-v3/spacy_v3_download/srsly-2.4.1-cp37-cp37m-manylinux2014_x86_64.whl /tmp/pip/cache/\n",
    "!cp ../input/spacy-v3/spacy_v3_download/thinc-8.0.3-cp37-cp37m-manylinux2014_x86_64.whl  /tmp/pip/cache/\n",
    "!cp ../input/spacy-v3/spacy_v3_download/catalogue-2.0.3-py3-none-any.whl  /tmp/pip/cache/\n",
    "!cp ../input/spacy-v3/spacy_v3_download/pathy-0.5.0-py3-none-any.whl  /tmp/pip/cache/\n",
    "!cp ../input/spacy-v3/spacy_v3_download/spacy_legacy-3.0.4-py2.py3-none-any.whl  /tmp/pip/cache/\n",
    "!cp ../input/spacy-v3/spacy_v3_download/typer-0.3.2-py3-none-any.whl  /tmp/pip/cache/\n",
    "!cp ../input/spacy-v3/spacy_v3_download/spacy_transformers-1.0.3-py2.py3-none-any.whl  /tmp/pip/cache/\n",
    "!cp ../input/spacy-v3/spacy_v3_download/spacy_alignments-0.8.3-cp37-cp37m-manylinux2014_x86_64.whl  /tmp/pip/cache/"
   ]
  },
  {
   "cell_type": "code",
   "execution_count": 3,
   "id": "greater-pharmacology",
   "metadata": {
    "execution": {
     "iopub.execute_input": "2021-06-22T21:23:30.763231Z",
     "iopub.status.busy": "2021-06-22T21:23:30.762337Z",
     "iopub.status.idle": "2021-06-22T21:23:57.246802Z",
     "shell.execute_reply": "2021-06-22T21:23:57.246288Z",
     "shell.execute_reply.started": "2021-06-22T21:20:57.453897Z"
    },
    "papermill": {
     "duration": 26.531111,
     "end_time": "2021-06-22T21:23:57.246923",
     "exception": false,
     "start_time": "2021-06-22T21:23:30.715812",
     "status": "completed"
    },
    "tags": []
   },
   "outputs": [
    {
     "name": "stdout",
     "output_type": "stream",
     "text": [
      "catalogue-2.0.3-py3-none-any.whl\r\n",
      "pathy-0.5.0-py3-none-any.whl\r\n",
      "pydantic-1.7.3-cp37-cp37m-manylinux2014_x86_64.whl\r\n",
      "smart_open-3.0.0.tar.gz\r\n",
      "spacy-3.0.6-cp37-cp37m-manylinux2014_x86_64.whl\r\n",
      "spacy_alignments-0.8.3-cp37-cp37m-manylinux2014_x86_64.whl\r\n",
      "spacy_legacy-3.0.4-py2.py3-none-any.whl\r\n",
      "spacy_transformers-1.0.3-py2.py3-none-any.whl\r\n",
      "srsly-2.4.1-cp37-cp37m-manylinux2014_x86_64.whl\r\n",
      "thinc-8.0.3-cp37-cp37m-manylinux2014_x86_64.whl\r\n",
      "typer-0.3.2-py3-none-any.whl\r\n",
      "Found existing installation: spacy 2.3.5\r\n",
      "Uninstalling spacy-2.3.5:\r\n",
      "  Successfully uninstalled spacy-2.3.5\r\n",
      "Looking in links: /tmp/pip/cache/\r\n",
      "Processing /tmp/pip/cache/spacy-3.0.6-cp37-cp37m-manylinux2014_x86_64.whl\r\n",
      "Processing /tmp/pip/cache/catalogue-2.0.3-py3-none-any.whl\r\n",
      "Requirement already satisfied: wasabi<1.1.0,>=0.8.1 in /opt/conda/lib/python3.7/site-packages (from spacy[cuda110,transformers]) (0.8.2)\r\n",
      "Processing /tmp/pip/cache/thinc-8.0.3-cp37-cp37m-manylinux2014_x86_64.whl\r\n",
      "Requirement already satisfied: jinja2 in /opt/conda/lib/python3.7/site-packages (from spacy[cuda110,transformers]) (2.11.3)\r\n",
      "Requirement already satisfied: setuptools in /opt/conda/lib/python3.7/site-packages (from spacy[cuda110,transformers]) (49.6.0.post20210108)\r\n",
      "Processing /tmp/pip/cache/pydantic-1.7.3-cp37-cp37m-manylinux2014_x86_64.whl\r\n",
      "Requirement already satisfied: typing-extensions<4.0.0.0,>=3.7.4 in /opt/conda/lib/python3.7/site-packages (from spacy[cuda110,transformers]) (3.7.4.3)\r\n",
      "Processing /tmp/pip/cache/srsly-2.4.1-cp37-cp37m-manylinux2014_x86_64.whl\r\n",
      "Processing /tmp/pip/cache/spacy_legacy-3.0.4-py2.py3-none-any.whl\r\n",
      "Processing /tmp/pip/cache/pathy-0.5.0-py3-none-any.whl\r\n",
      "Requirement already satisfied: requests<3.0.0,>=2.13.0 in /opt/conda/lib/python3.7/site-packages (from spacy[cuda110,transformers]) (2.25.1)\r\n",
      "Requirement already satisfied: preshed<3.1.0,>=3.0.2 in /opt/conda/lib/python3.7/site-packages (from spacy[cuda110,transformers]) (3.0.5)\r\n",
      "Processing /tmp/pip/cache/typer-0.3.2-py3-none-any.whl\r\n",
      "Requirement already satisfied: tqdm<5.0.0,>=4.38.0 in /opt/conda/lib/python3.7/site-packages (from spacy[cuda110,transformers]) (4.59.0)\r\n",
      "Requirement already satisfied: blis<0.8.0,>=0.4.0 in /opt/conda/lib/python3.7/site-packages (from spacy[cuda110,transformers]) (0.7.4)\r\n",
      "Requirement already satisfied: numpy>=1.15.0 in /opt/conda/lib/python3.7/site-packages (from spacy[cuda110,transformers]) (1.19.5)\r\n",
      "Requirement already satisfied: murmurhash<1.1.0,>=0.28.0 in /opt/conda/lib/python3.7/site-packages (from spacy[cuda110,transformers]) (1.0.5)\r\n",
      "Requirement already satisfied: packaging>=20.0 in /opt/conda/lib/python3.7/site-packages (from spacy[cuda110,transformers]) (20.9)\r\n",
      "Requirement already satisfied: cymem<2.1.0,>=2.0.2 in /opt/conda/lib/python3.7/site-packages (from spacy[cuda110,transformers]) (2.0.5)\r\n",
      "Requirement already satisfied: cupy-cuda110<9.0.0,>=5.0.0b4 in /opt/conda/lib/python3.7/site-packages (from spacy[cuda110,transformers]) (8.6.0)\r\n",
      "Processing /tmp/pip/cache/spacy_transformers-1.0.3-py2.py3-none-any.whl\r\n",
      "Requirement already satisfied: zipp>=0.5 in /opt/conda/lib/python3.7/site-packages (from catalogue<2.1.0,>=2.0.3->spacy[cuda110,transformers]) (3.4.1)\r\n",
      "Requirement already satisfied: fastrlock>=0.3 in /opt/conda/lib/python3.7/site-packages (from cupy-cuda110<9.0.0,>=5.0.0b4->spacy[cuda110,transformers]) (0.6)\r\n",
      "Requirement already satisfied: pyparsing>=2.0.2 in /opt/conda/lib/python3.7/site-packages (from packaging>=20.0->spacy[cuda110,transformers]) (2.4.7)\r\n",
      "Processing /tmp/pip/cache/smart_open-3.0.0.tar.gz\r\n",
      "Requirement already satisfied: idna<3,>=2.5 in /opt/conda/lib/python3.7/site-packages (from requests<3.0.0,>=2.13.0->spacy[cuda110,transformers]) (2.10)\r\n",
      "Requirement already satisfied: chardet<5,>=3.0.2 in /opt/conda/lib/python3.7/site-packages (from requests<3.0.0,>=2.13.0->spacy[cuda110,transformers]) (4.0.0)\r\n",
      "Requirement already satisfied: urllib3<1.27,>=1.21.1 in /opt/conda/lib/python3.7/site-packages (from requests<3.0.0,>=2.13.0->spacy[cuda110,transformers]) (1.26.4)\r\n",
      "Requirement already satisfied: certifi>=2017.4.17 in /opt/conda/lib/python3.7/site-packages (from requests<3.0.0,>=2.13.0->spacy[cuda110,transformers]) (2020.12.5)\r\n",
      "Processing /tmp/pip/cache/spacy_alignments-0.8.3-cp37-cp37m-manylinux2014_x86_64.whl\r\n",
      "Requirement already satisfied: torch>=1.5.0 in /opt/conda/lib/python3.7/site-packages (from spacy-transformers<1.1.0,>=1.0.1->spacy[cuda110,transformers]) (1.7.0)\r\n",
      "Requirement already satisfied: transformers<4.7.0,>=3.4.0 in /opt/conda/lib/python3.7/site-packages (from spacy-transformers<1.1.0,>=1.0.1->spacy[cuda110,transformers]) (4.5.1)\r\n",
      "Requirement already satisfied: future in /opt/conda/lib/python3.7/site-packages (from torch>=1.5.0->spacy-transformers<1.1.0,>=1.0.1->spacy[cuda110,transformers]) (0.18.2)\r\n",
      "Requirement already satisfied: dataclasses in /opt/conda/lib/python3.7/site-packages (from torch>=1.5.0->spacy-transformers<1.1.0,>=1.0.1->spacy[cuda110,transformers]) (0.6)\r\n",
      "Requirement already satisfied: filelock in /opt/conda/lib/python3.7/site-packages (from transformers<4.7.0,>=3.4.0->spacy-transformers<1.1.0,>=1.0.1->spacy[cuda110,transformers]) (3.0.12)\r\n",
      "Requirement already satisfied: regex!=2019.12.17 in /opt/conda/lib/python3.7/site-packages (from transformers<4.7.0,>=3.4.0->spacy-transformers<1.1.0,>=1.0.1->spacy[cuda110,transformers]) (2021.3.17)\r\n",
      "Requirement already satisfied: importlib-metadata in /opt/conda/lib/python3.7/site-packages (from transformers<4.7.0,>=3.4.0->spacy-transformers<1.1.0,>=1.0.1->spacy[cuda110,transformers]) (3.4.0)\r\n",
      "Requirement already satisfied: sacremoses in /opt/conda/lib/python3.7/site-packages (from transformers<4.7.0,>=3.4.0->spacy-transformers<1.1.0,>=1.0.1->spacy[cuda110,transformers]) (0.0.45)\r\n",
      "Requirement already satisfied: tokenizers<0.11,>=0.10.1 in /opt/conda/lib/python3.7/site-packages (from transformers<4.7.0,>=3.4.0->spacy-transformers<1.1.0,>=1.0.1->spacy[cuda110,transformers]) (0.10.2)\r\n",
      "Requirement already satisfied: click<7.2.0,>=7.1.1 in /opt/conda/lib/python3.7/site-packages (from typer<0.4.0,>=0.3.0->spacy[cuda110,transformers]) (7.1.2)\r\n",
      "Requirement already satisfied: MarkupSafe>=0.23 in /opt/conda/lib/python3.7/site-packages (from jinja2->spacy[cuda110,transformers]) (1.1.1)\r\n",
      "Requirement already satisfied: joblib in /opt/conda/lib/python3.7/site-packages (from sacremoses->transformers<4.7.0,>=3.4.0->spacy-transformers<1.1.0,>=1.0.1->spacy[cuda110,transformers]) (1.0.1)\r\n",
      "Requirement already satisfied: six in /opt/conda/lib/python3.7/site-packages (from sacremoses->transformers<4.7.0,>=3.4.0->spacy-transformers<1.1.0,>=1.0.1->spacy[cuda110,transformers]) (1.15.0)\r\n",
      "Building wheels for collected packages: smart-open\r\n",
      "  Building wheel for smart-open (setup.py) ... \u001b[?25l-\b \b\\\b \bdone\r\n",
      "\u001b[?25h  Created wheel for smart-open: filename=smart_open-3.0.0-py3-none-any.whl size=107097 sha256=e977e050805bafa4beb94c35032204f6d6e1dee27faa68f674368acd875ab499\r\n",
      "  Stored in directory: /root/.cache/pip/wheels/9d/88/ad/0915f07b223d050b1ced837e7ab71e96f19daaf972872b4fc9\r\n",
      "Successfully built smart-open\r\n",
      "Installing collected packages: catalogue, typer, srsly, smart-open, pydantic, thinc, spacy-legacy, pathy, spacy-alignments, spacy, spacy-transformers\r\n",
      "  Attempting uninstall: catalogue\r\n",
      "    Found existing installation: catalogue 1.0.0\r\n",
      "    Uninstalling catalogue-1.0.0:\r\n",
      "      Successfully uninstalled catalogue-1.0.0\r\n",
      "  Attempting uninstall: srsly\r\n",
      "    Found existing installation: srsly 1.0.5\r\n",
      "    Uninstalling srsly-1.0.5:\r\n",
      "      Successfully uninstalled srsly-1.0.5\r\n",
      "  Attempting uninstall: smart-open\r\n",
      "    Found existing installation: smart-open 5.0.0\r\n",
      "    Uninstalling smart-open-5.0.0:\r\n",
      "      Successfully uninstalled smart-open-5.0.0\r\n",
      "  Attempting uninstall: thinc\r\n",
      "    Found existing installation: thinc 7.4.5\r\n",
      "    Uninstalling thinc-7.4.5:\r\n",
      "      Successfully uninstalled thinc-7.4.5\r\n",
      "\u001b[31mERROR: pip's dependency resolver does not currently take into account all the packages that are installed. This behaviour is the source of the following dependency conflicts.\r\n",
      "fastai 2.3.0 requires spacy<3, but you have spacy 3.0.6 which is incompatible.\r\n",
      "en-core-web-sm 2.3.1 requires spacy<2.4.0,>=2.3.0, but you have spacy 3.0.6 which is incompatible.\r\n",
      "en-core-web-lg 2.3.1 requires spacy<2.4.0,>=2.3.0, but you have spacy 3.0.6 which is incompatible.\u001b[0m\r\n",
      "Successfully installed catalogue-2.0.3 pathy-0.5.0 pydantic-1.7.3 smart-open-3.0.0 spacy-3.0.6 spacy-alignments-0.8.3 spacy-legacy-3.0.4 spacy-transformers-1.0.3 srsly-2.4.1 thinc-8.0.3 typer-0.3.2\r\n"
     ]
    }
   ],
   "source": [
    "# Offline installation of spacy v3\n",
    "!ls /tmp/pip/cache\n",
    "!pip uninstall -y spacy\n",
    "!pip install --no-index --find-links /tmp/pip/cache/ spacy[transformers,cuda110]"
   ]
  },
  {
   "cell_type": "code",
   "execution_count": 4,
   "id": "prescription-science",
   "metadata": {
    "execution": {
     "iopub.execute_input": "2021-06-22T21:23:57.382937Z",
     "iopub.status.busy": "2021-06-22T21:23:57.382076Z",
     "iopub.status.idle": "2021-06-22T21:23:57.518480Z",
     "shell.execute_reply": "2021-06-22T21:23:57.519607Z",
     "shell.execute_reply.started": "2021-06-22T21:21:32.801281Z"
    },
    "papermill": {
     "duration": 0.218531,
     "end_time": "2021-06-22T21:23:57.519814",
     "exception": false,
     "start_time": "2021-06-22T21:23:57.301283",
     "status": "completed"
    },
    "tags": []
   },
   "outputs": [],
   "source": [
    "sample_sub = pd.read_csv('../input/coleridgeinitiative-show-us-the-data/sample_submission.csv')\n",
    "#sample_sub = pd.read_csv('../input/coleridgeinitiative-show-us-the-data/train.csv')\n",
    "train_df = pd.read_csv('../input/coleridgeinitiative-show-us-the-data/train.csv')\n",
    "#test_files_path = '../input/coleridgeinitiative-show-us-the-data/train'\n",
    "train_files_path = '../input/coleridgeinitiative-show-us-the-data/train'\n",
    "test_files_path = '../input/coleridgeinitiative-show-us-the-data/test'"
   ]
  },
  {
   "cell_type": "code",
   "execution_count": 5,
   "id": "satellite-month",
   "metadata": {
    "execution": {
     "iopub.execute_input": "2021-06-22T21:23:57.693448Z",
     "iopub.status.busy": "2021-06-22T21:23:57.692664Z",
     "iopub.status.idle": "2021-06-22T21:23:57.702735Z",
     "shell.execute_reply": "2021-06-22T21:23:57.703663Z",
     "shell.execute_reply.started": "2021-06-22T21:21:32.937743Z"
    },
    "papermill": {
     "duration": 0.100929,
     "end_time": "2021-06-22T21:23:57.703837",
     "exception": false,
     "start_time": "2021-06-22T21:23:57.602908",
     "status": "completed"
    },
    "tags": []
   },
   "outputs": [],
   "source": [
    "def clean_label(txt):\n",
    "    return re.sub('[^A-Za-z0-9]+', ' ', str(txt).lower())\n",
    "\n",
    "def read_append_return(filename, train_files_path=train_files_path, output='all'):\n",
    "    \"\"\"\n",
    "    Function to read json file and then return the text data from them and append to the dataframe\n",
    "    \n",
    "    From: https://www.kaggle.com/prashansdixit/coleridge-initiative-eda-baseline-model\n",
    "    \"\"\"\n",
    "    json_path = os.path.join(train_files_path, f\"{filename}.json\")\n",
    "    headings = []\n",
    "    contents = []\n",
    "    combined = []\n",
    "    with open(json_path, 'r') as f:\n",
    "        json_decode = json.load(f)\n",
    "        for data in json_decode:\n",
    "            headings.append(data.get('section_title'))\n",
    "            contents.append(data.get('text'))\n",
    "            combined.append(data.get('section_title'))\n",
    "            combined.append(data.get('text'))\n",
    "            \n",
    "    \n",
    "    all_headings = ' '.join(headings)\n",
    "    all_contents = ' '.join(contents)\n",
    "    all_data = '. '.join(combined)\n",
    "    \n",
    "    if output == 'text':\n",
    "        return all_contents\n",
    "    elif output == 'head':\n",
    "        return all_headings\n",
    "    else:\n",
    "        return all_data\n",
    "    \n",
    "def sanitize_text(text):\n",
    "    \n",
    "    # Remove quotes\n",
    "    text = text.replace('\"', \"\")\n",
    "        \n",
    "    allowed_chars = \" abcdefghijklmnopqrstuvwxyzABCDEFGHIJKLMNOPQRSTUVWXYZ0123456789\"\n",
    "    text = re.sub(r\"\\s\", \" \", text)\n",
    "    text = re.sub(\"\\s+\", \" \", text)\n",
    "    text = ''.join([k for k in text if k in allowed_chars or k in string.punctuation])\n",
    "    \n",
    "    # Remove repeated sequences (char and spaces)\n",
    "    repeated_seq = re.compile(r\"([\\w\\.]\\s*)\\1{5,}\")\n",
    "    matches = [match.group(0) for match in repeated_seq.finditer(text)]\n",
    "    matches = sorted(matches, reverse=True, key=lambda x: len(x))\n",
    "    for match in matches:\n",
    "        text = re.sub(re.escape(match), \"\", text)\n",
    "\n",
    "    text = re.sub(\" +\", \" \", text)\n",
    "    matches = [match.group(0) for match in repeated_seq.finditer(text)]\n",
    "    matches = sorted(matches, reverse=True, key=lambda x: len(x))\n",
    "    for match in matches:\n",
    "        text = re.sub(re.escape(match), \"\", text)\n",
    "        \n",
    "    return text\n",
    "\n",
    "def clean_text(text):\n",
    "    return re.sub('[^A-Za-z0-9]+', ' ', str(text).lower()).strip()"
   ]
  },
  {
   "cell_type": "code",
   "execution_count": 6,
   "id": "available-atlanta",
   "metadata": {
    "execution": {
     "iopub.execute_input": "2021-06-22T21:23:57.844115Z",
     "iopub.status.busy": "2021-06-22T21:23:57.843508Z",
     "iopub.status.idle": "2021-06-22T21:23:57.868477Z",
     "shell.execute_reply": "2021-06-22T21:23:57.867562Z",
     "shell.execute_reply.started": "2021-06-22T21:21:32.961071Z"
    },
    "papermill": {
     "duration": 0.090341,
     "end_time": "2021-06-22T21:23:57.868606",
     "exception": false,
     "start_time": "2021-06-22T21:23:57.778265",
     "status": "completed"
    },
    "tags": []
   },
   "outputs": [],
   "source": [
    "sample_sub['text'] = sample_sub['Id'].apply(partial(read_append_return, train_files_path=test_files_path))"
   ]
  },
  {
   "cell_type": "code",
   "execution_count": 7,
   "id": "improved-hotel",
   "metadata": {
    "execution": {
     "iopub.execute_input": "2021-06-22T21:23:57.961333Z",
     "iopub.status.busy": "2021-06-22T21:23:57.960563Z",
     "iopub.status.idle": "2021-06-22T21:23:58.213901Z",
     "shell.execute_reply": "2021-06-22T21:23:58.211735Z",
     "shell.execute_reply.started": "2021-06-22T21:21:33.014248Z"
    },
    "papermill": {
     "duration": 0.301729,
     "end_time": "2021-06-22T21:23:58.214078",
     "exception": false,
     "start_time": "2021-06-22T21:23:57.912349",
     "status": "completed"
    },
    "tags": []
   },
   "outputs": [
    {
     "data": {
      "application/vnd.jupyter.widget-view+json": {
       "model_id": "7fbd8f765ec643728d464473d839873a",
       "version_major": 2,
       "version_minor": 0
      },
      "text/plain": [
       "  0%|          | 0/4 [00:00<?, ?it/s]"
      ]
     },
     "metadata": {},
     "output_type": "display_data"
    },
    {
     "name": "stdout",
     "output_type": "stream",
     "text": [
      "CPU times: user 238 ms, sys: 7.28 ms, total: 246 ms\n",
      "Wall time: 248 ms\n"
     ]
    }
   ],
   "source": [
    "%%time\n",
    "tqdm.pandas()\n",
    "sample_sub['text'] = sample_sub['text'].progress_apply(sanitize_text)"
   ]
  },
  {
   "cell_type": "code",
   "execution_count": 8,
   "id": "exotic-overview",
   "metadata": {
    "execution": {
     "iopub.execute_input": "2021-06-22T21:23:58.309774Z",
     "iopub.status.busy": "2021-06-22T21:23:58.309018Z",
     "iopub.status.idle": "2021-06-22T21:24:07.843384Z",
     "shell.execute_reply": "2021-06-22T21:24:07.842535Z",
     "shell.execute_reply.started": "2021-06-22T21:21:33.315520Z"
    },
    "papermill": {
     "duration": 9.583299,
     "end_time": "2021-06-22T21:24:07.843517",
     "exception": false,
     "start_time": "2021-06-22T21:23:58.260218",
     "status": "completed"
    },
    "tags": []
   },
   "outputs": [],
   "source": [
    "import spacy\n",
    "from spacy.pipeline import Sentencizer\n",
    "from spacy.lang.en import English\n",
    "from spacy.matcher import PhraseMatcher"
   ]
  },
  {
   "cell_type": "code",
   "execution_count": 9,
   "id": "breeding-billion",
   "metadata": {
    "execution": {
     "iopub.execute_input": "2021-06-22T21:24:07.938489Z",
     "iopub.status.busy": "2021-06-22T21:24:07.937654Z",
     "iopub.status.idle": "2021-06-22T21:24:08.888500Z",
     "shell.execute_reply": "2021-06-22T21:24:08.887666Z",
     "shell.execute_reply.started": "2021-06-22T21:21:45.765267Z"
    },
    "papermill": {
     "duration": 1.000349,
     "end_time": "2021-06-22T21:24:08.888640",
     "exception": false,
     "start_time": "2021-06-22T21:24:07.888291",
     "status": "completed"
    },
    "tags": []
   },
   "outputs": [],
   "source": [
    "nlp = English()\n",
    "sentencizer = Sentencizer()\n",
    "def extract_sentences(text):\n",
    "    text = re.sub(r\" al.\", \" al\", text)\n",
    "    nlp.max_length = max(1000000, len(text) + 1)\n",
    "    doc = nlp(text)\n",
    "    return [sent.text.strip() for sent in sentencizer(doc).sents if len(sent.text) < 1500]"
   ]
  },
  {
   "cell_type": "code",
   "execution_count": 10,
   "id": "fatty-marketing",
   "metadata": {
    "execution": {
     "iopub.execute_input": "2021-06-22T21:24:09.036314Z",
     "iopub.status.busy": "2021-06-22T21:24:09.010295Z",
     "iopub.status.idle": "2021-06-22T21:24:09.683124Z",
     "shell.execute_reply": "2021-06-22T21:24:09.682620Z",
     "shell.execute_reply.started": "2021-06-22T21:21:46.745765Z"
    },
    "papermill": {
     "duration": 0.750125,
     "end_time": "2021-06-22T21:24:09.683269",
     "exception": false,
     "start_time": "2021-06-22T21:24:08.933144",
     "status": "completed"
    },
    "tags": []
   },
   "outputs": [],
   "source": [
    "sample_sub['sentences'] = sample_sub['text'].apply(extract_sentences)"
   ]
  },
  {
   "cell_type": "code",
   "execution_count": 11,
   "id": "robust-baseball",
   "metadata": {
    "execution": {
     "iopub.execute_input": "2021-06-22T21:24:09.785994Z",
     "iopub.status.busy": "2021-06-22T21:24:09.784756Z",
     "iopub.status.idle": "2021-06-22T21:24:09.786999Z",
     "shell.execute_reply": "2021-06-22T21:24:09.787425Z",
     "shell.execute_reply.started": "2021-06-22T21:21:47.605869Z"
    },
    "papermill": {
     "duration": 0.059811,
     "end_time": "2021-06-22T21:24:09.787549",
     "exception": false,
     "start_time": "2021-06-22T21:24:09.727738",
     "status": "completed"
    },
    "tags": []
   },
   "outputs": [],
   "source": [
    "id_sentences = sample_sub.groupby(\"Id\")[\"sentences\"].agg(list)\n",
    "sample_sub = sample_sub.drop(\"sentences\", axis=1)"
   ]
  },
  {
   "cell_type": "code",
   "execution_count": 12,
   "id": "ordered-technical",
   "metadata": {
    "execution": {
     "iopub.execute_input": "2021-06-22T21:24:09.881880Z",
     "iopub.status.busy": "2021-06-22T21:24:09.881401Z",
     "iopub.status.idle": "2021-06-22T21:24:09.921021Z",
     "shell.execute_reply": "2021-06-22T21:24:09.920435Z",
     "shell.execute_reply.started": "2021-06-22T21:21:47.624443Z"
    },
    "papermill": {
     "duration": 0.089196,
     "end_time": "2021-06-22T21:24:09.921167",
     "exception": false,
     "start_time": "2021-06-22T21:24:09.831971",
     "status": "completed"
    },
    "tags": []
   },
   "outputs": [
    {
     "name": "stdout",
     "output_type": "stream",
     "text": [
      "2013\n"
     ]
    }
   ],
   "source": [
    "import sys\n",
    "sys.path.append(\"../input/dataset-grouping\")\n",
    "sys.path.append(\"../input/extract-abbreviations\")\n",
    "\n",
    "from dataset_grouping_v3 import group_candidates\n",
    "from schwartz_hearst_v2 import extract_abbreviation_definition_pairs\n",
    "\n",
    "\n",
    "all_sentences = []\n",
    "all_ids = []\n",
    "for Id in sample_sub[\"Id\"].unique():\n",
    "    all_sentences.extend(id_sentences[Id][0])\n",
    "    all_ids.extend([Id] * len(id_sentences[Id][0]))\n",
    "print(len(all_sentences))"
   ]
  },
  {
   "cell_type": "code",
   "execution_count": 13,
   "id": "german-notice",
   "metadata": {
    "execution": {
     "iopub.execute_input": "2021-06-22T21:24:10.016759Z",
     "iopub.status.busy": "2021-06-22T21:24:10.016117Z",
     "iopub.status.idle": "2021-06-22T21:24:10.395870Z",
     "shell.execute_reply": "2021-06-22T21:24:10.396408Z",
     "shell.execute_reply.started": "2021-06-22T21:21:47.673270Z"
    },
    "papermill": {
     "duration": 0.429962,
     "end_time": "2021-06-22T21:24:10.396596",
     "exception": false,
     "start_time": "2021-06-22T21:24:09.966634",
     "status": "completed"
    },
    "tags": []
   },
   "outputs": [
    {
     "name": "stdout",
     "output_type": "stream",
     "text": [
      "0\n",
      "0\n",
      "76 4 2013\n"
     ]
    },
    {
     "data": {
      "text/plain": [
       "0"
      ]
     },
     "execution_count": 13,
     "metadata": {},
     "output_type": "execute_result"
    }
   ],
   "source": [
    "abbreviation_definition_pairs = extract_abbreviation_definition_pairs(doc_text=all_sentences, ids=all_ids)\n",
    "abbreviations = abbreviation_definition_pairs[\"abbreviations\"]\n",
    "abbreviation_definition_pairs = extract_abbreviation_definition_pairs(\n",
    "    doc_text=all_sentences,\n",
    "    ids=all_ids,existing_abbreviations={abb.lower() for abb in abbreviations})\n",
    "abbreviations = abbreviation_definition_pairs[\"abbreviations\"]\n",
    "sentences_candidates = abbreviation_definition_pairs[\"sentences_candidates\"]\n",
    "ids_abbreviations = abbreviation_definition_pairs[\"ids_abbreviations\"]\n",
    "print(len(abbreviations), len(ids_abbreviations), len(sentences_candidates))\n",
    "del all_sentences, all_ids, abbreviation_definition_pairs\n",
    "gc.collect()"
   ]
  },
  {
   "cell_type": "code",
   "execution_count": 14,
   "id": "regulation-elephant",
   "metadata": {
    "execution": {
     "iopub.execute_input": "2021-06-22T21:24:10.493794Z",
     "iopub.status.busy": "2021-06-22T21:24:10.493105Z",
     "iopub.status.idle": "2021-06-22T21:24:10.501010Z",
     "shell.execute_reply": "2021-06-22T21:24:10.501390Z",
     "shell.execute_reply.started": "2021-06-22T21:21:48.140313Z"
    },
    "papermill": {
     "duration": 0.059055,
     "end_time": "2021-06-22T21:24:10.501519",
     "exception": false,
     "start_time": "2021-06-22T21:24:10.442464",
     "status": "completed"
    },
    "tags": []
   },
   "outputs": [],
   "source": [
    "title_labels = train_df.groupby(\"dataset_title\")[\"dataset_label\"].agg(set).agg(list).to_dict()\n",
    "for k, v in title_labels.items():\n",
    "    title_labels[k] = sorted(v, reverse=True, key=lambda x: len(x))"
   ]
  },
  {
   "cell_type": "code",
   "execution_count": 15,
   "id": "consistent-brown",
   "metadata": {
    "execution": {
     "iopub.execute_input": "2021-06-22T21:24:10.597456Z",
     "iopub.status.busy": "2021-06-22T21:24:10.596688Z",
     "iopub.status.idle": "2021-06-22T21:24:10.901758Z",
     "shell.execute_reply": "2021-06-22T21:24:10.900974Z",
     "shell.execute_reply.started": "2021-06-22T21:21:48.159099Z"
    },
    "papermill": {
     "duration": 0.355232,
     "end_time": "2021-06-22T21:24:10.901880",
     "exception": false,
     "start_time": "2021-06-22T21:24:10.546648",
     "status": "completed"
    },
    "tags": []
   },
   "outputs": [
    {
     "name": "stderr",
     "output_type": "stream",
     "text": [
      "100%|██████████| 74/74 [00:00<00:00, 16991.21it/s]"
     ]
    },
    {
     "name": "stdout",
     "output_type": "stream",
     "text": [
      "74\n",
      "60\n",
      "60\n",
      "60\n",
      "60\n",
      "60\n",
      "59\n",
      "59\n",
      "59\n",
      "117\n",
      "59\n",
      "117\n",
      "59\n",
      "117\n",
      "56\n",
      "129\n",
      "56\n",
      "193\n",
      "55\n",
      "193\n",
      "55\n",
      "193\n",
      "55\n",
      "193\n",
      "55\n",
      "193\n",
      "53\n",
      "187\n",
      "53\n",
      "190\n",
      "54\n",
      "194\n",
      "55\n",
      "196\n",
      "56\n",
      "199\n",
      "56\n",
      "199\n",
      "57\n",
      "201\n",
      "58\n",
      "203\n",
      "59\n",
      "206\n",
      "60\n",
      "209\n",
      "61\n",
      "210\n",
      "62\n",
      "211\n",
      "63\n",
      "215\n",
      "64\n",
      "216\n",
      "65\n",
      "219\n",
      "66\n",
      "221\n",
      "67\n",
      "225\n",
      "67\n",
      "225\n",
      "68\n",
      "228\n",
      "69\n",
      "229\n",
      "70\n",
      "230\n",
      "71\n",
      "232\n",
      "72\n",
      "233\n",
      "73\n",
      "237\n",
      "74\n",
      "240\n",
      "75\n",
      "246\n",
      "76\n",
      "247\n",
      "77\n",
      "248\n",
      "78\n",
      "249\n",
      "79\n",
      "252\n",
      "80\n",
      "256\n",
      "81\n",
      "259\n",
      "82\n",
      "260\n",
      "83\n",
      "263\n",
      "84\n",
      "280\n",
      "85\n",
      "281\n",
      "86\n",
      "285\n",
      "87\n",
      "289\n",
      "88\n",
      "293\n",
      "89\n",
      "298\n",
      "90\n",
      "302\n",
      "91\n",
      "306\n",
      "92\n",
      "307\n",
      "93\n",
      "309\n",
      "94\n",
      "312\n",
      "94\n"
     ]
    },
    {
     "name": "stderr",
     "output_type": "stream",
     "text": [
      "\n"
     ]
    },
    {
     "data": {
      "text/plain": [
       "0"
      ]
     },
     "execution_count": 15,
     "metadata": {},
     "output_type": "execute_result"
    }
   ],
   "source": [
    "result = group_candidates(abbreviations, sentences_candidates, title_labels)\n",
    "groups = result[\"groups\"]\n",
    "print(len(groups))\n",
    "del result, sentences_candidates\n",
    "gc.collect()"
   ]
  },
  {
   "cell_type": "code",
   "execution_count": 16,
   "id": "victorian-partner",
   "metadata": {
    "execution": {
     "iopub.execute_input": "2021-06-22T21:24:11.001743Z",
     "iopub.status.busy": "2021-06-22T21:24:11.001256Z",
     "iopub.status.idle": "2021-06-22T21:24:11.005763Z",
     "shell.execute_reply": "2021-06-22T21:24:11.006132Z",
     "shell.execute_reply.started": "2021-06-22T21:21:48.532481Z"
    },
    "papermill": {
     "duration": 0.057064,
     "end_time": "2021-06-22T21:24:11.006272",
     "exception": false,
     "start_time": "2021-06-22T21:24:10.949208",
     "status": "completed"
    },
    "tags": []
   },
   "outputs": [
    {
     "name": "stdout",
     "output_type": "stream",
     "text": [
      "312\n"
     ]
    }
   ],
   "source": [
    "label_dataset_mapping = defaultdict(list)\n",
    "for k, v in groups.items():\n",
    "    for cand in v:\n",
    "        if k not in label_dataset_mapping[cand]:\n",
    "            label_dataset_mapping[cand].append(k)\n",
    "print(len(label_dataset_mapping))"
   ]
  },
  {
   "cell_type": "code",
   "execution_count": 17,
   "id": "southeast-heavy",
   "metadata": {
    "execution": {
     "iopub.execute_input": "2021-06-22T21:24:11.108564Z",
     "iopub.status.busy": "2021-06-22T21:24:11.107785Z",
     "iopub.status.idle": "2021-06-22T21:24:21.277443Z",
     "shell.execute_reply": "2021-06-22T21:24:21.276957Z",
     "shell.execute_reply.started": "2021-06-22T21:21:48.543981Z"
    },
    "papermill": {
     "duration": 10.224453,
     "end_time": "2021-06-22T21:24:21.277593",
     "exception": false,
     "start_time": "2021-06-22T21:24:11.053140",
     "status": "completed"
    },
    "tags": []
   },
   "outputs": [],
   "source": [
    "nlp = spacy.load(\"../input/en-core-web-lg/en_core_web_lg-3.0.0/en_core_web_lg/en_core_web_lg-3.0.0\", disable=[\"ner\", \"tok2vec\"])\n",
    "terms = set(label_dataset_mapping.keys())\n",
    "terms = {term for term in terms if len(term) > 2}\n",
    "terms_long = sorted(list({term.lower() for term in terms\n",
    "                     if len(term) > 6 and len(term.split()) > 2}), reverse=True, key=lambda x: len(x))\n",
    "terms_short = sorted([term for term in terms if len(term) <= 6 or len(term.split()) <= 2], reverse=True, key=lambda x: len(x))\n",
    "patterns_long = list(nlp.tokenizer.pipe(terms_long))\n",
    "patterns_short = list(nlp.tokenizer.pipe(terms_short))\n",
    "matcher_long = PhraseMatcher(nlp.vocab, attr=\"LOWER\")\n",
    "matcher_long.add(f\"TerminologyListDataLong\", patterns_long)\n",
    "matcher_short = PhraseMatcher(nlp.vocab)\n",
    "matcher_short.add(f\"TerminologyListDataShort\", patterns_short)"
   ]
  },
  {
   "cell_type": "code",
   "execution_count": 18,
   "id": "partial-clinton",
   "metadata": {
    "execution": {
     "iopub.execute_input": "2021-06-22T21:24:21.421824Z",
     "iopub.status.busy": "2021-06-22T21:24:21.420798Z",
     "iopub.status.idle": "2021-06-22T21:24:21.913784Z",
     "shell.execute_reply": "2021-06-22T21:24:21.912888Z",
     "shell.execute_reply.started": "2021-06-22T21:21:58.877730Z"
    },
    "papermill": {
     "duration": 0.588934,
     "end_time": "2021-06-22T21:24:21.913903",
     "exception": false,
     "start_time": "2021-06-22T21:24:21.324969",
     "status": "completed"
    },
    "tags": []
   },
   "outputs": [
    {
     "data": {
      "application/vnd.jupyter.widget-view+json": {
       "model_id": "e5f4d1e66fd64e10812e946a49456abd",
       "version_major": 2,
       "version_minor": 0
      },
      "text/plain": [
       "  0%|          | 0/4 [00:00<?, ?it/s]"
      ]
     },
     "metadata": {},
     "output_type": "display_data"
    }
   ],
   "source": [
    "def is_intersecting(prev_spans, s, e):\n",
    "    for span in prev_spans:\n",
    "        span_s, span_e = span[0], span[1]\n",
    "        span_range = set(range(span_s, span_e))\n",
    "        new_span_range = set(range(s, e))\n",
    "        if span_range.intersection(new_span_range):\n",
    "            return True\n",
    "    return False\n",
    "\n",
    "def merge_spans(spans):\n",
    "    new_spans = []\n",
    "    start, end = spans[0]\n",
    "    for span in spans:\n",
    "        cur_start, cur_end = span\n",
    "        if cur_start != start:\n",
    "            if not is_intersecting(new_spans, start, end):\n",
    "                new_spans.append((start, end))\n",
    "            start, end = cur_start, cur_end\n",
    "        else:\n",
    "            end = max(end, cur_end)\n",
    "    if not is_intersecting(new_spans, start, end):\n",
    "        new_spans.append((start, end))\n",
    "    return new_spans\n",
    "\n",
    "ner_data = defaultdict(list)\n",
    "for Id in tqdm(sample_sub[\"Id\"].unique(), total=sample_sub[\"Id\"].nunique()):\n",
    "    try:\n",
    "        sentences = [sent for sent in id_sentences[Id][0] if \"data\" in sent.lower()]\n",
    "        for doc in nlp.pipe(sentences):\n",
    "            matches_long = matcher_long(doc)\n",
    "            if matches_long:\n",
    "                merged_spans = merge_spans([(start, end) for _, start, end in matches_long])\n",
    "                ner_data[Id].append(\n",
    "                    (doc.text,\n",
    "                     {\n",
    "                         \"entities\": [],\n",
    "                         \"spans\": []\n",
    "                     })\n",
    "                )\n",
    "                for start, end in merged_spans:\n",
    "                    ner_data[Id][-1][1][\"spans\"].append((start, end))\n",
    "                    ner_data[Id][-1][1][\"entities\"].append((doc[start].idx, doc[end-1].idx+len(doc[end-1])))\n",
    "                ner_data[Id][-1] = tuple(ner_data[Id][-1])\n",
    "                matches_short = matcher_short(doc)\n",
    "                if matches_short:\n",
    "                    merged_spans = merge_spans([(start, end) for _, start, end in matches_short])\n",
    "\n",
    "                    for start, end in merged_spans:\n",
    "                        if not is_intersecting(ner_data[Id][-1][1][\"spans\"], start, end):\n",
    "                            ner_data[Id][-1][1][\"spans\"].append((start, end))\n",
    "                            ner_data[Id][-1][1][\"entities\"].append((doc[start].idx, doc[end-1].idx+len(doc[end-1])))\n",
    "                    ner_data[Id][-1] = tuple(ner_data[Id][-1])\n",
    "            else:\n",
    "                matches_short = matcher_short(doc)\n",
    "                if matches_short:\n",
    "                    merged_spans = merge_spans([(start, end) for _, start, end in matches_short])\n",
    "                    ner_data[Id].append(\n",
    "                        (doc.text,\n",
    "                         {\n",
    "                             \"entities\": [],\n",
    "                             \"spans\": []\n",
    "                         })\n",
    "                    )\n",
    "                    for start, end in merged_spans:\n",
    "                        ner_data[Id][-1][1][\"spans\"].append((start, end))\n",
    "                        ner_data[Id][-1][1][\"entities\"].append((doc[start].idx, doc[end-1].idx+len(doc[end-1])))\n",
    "                    ner_data[Id][-1] = tuple(ner_data[Id][-1])\n",
    "    except:\n",
    "        continue\n",
    "                \n",
    "# sort the entities and merge consecutive candidates\n",
    "for Id, items in ner_data.items():\n",
    "    try:\n",
    "        for j, item in enumerate(items):\n",
    "            indices_to_remove = set()\n",
    "            sentence = item[0]\n",
    "            item[1][\"entities\"] = sorted(item[1][\"entities\"], key=lambda x: x[0])\n",
    "            for i in range(len(item[1][\"entities\"]) - 1):\n",
    "                if item[1][\"entities\"][i][1] == item[1][\"entities\"][i+1][0] - 1:\n",
    "                    ent1 = sentence[item[1][\"entities\"][i][0]:item[1][\"entities\"][i][1]]\n",
    "                    ent2 = sentence[item[1][\"entities\"][i+1][0]:item[1][\"entities\"][i+1][1]]\n",
    "                    if ent1 == ent1.upper() and ent2 == ent2.upper():\n",
    "                        continue\n",
    "                    if (clean_label(ent2) in label_dataset_mapping and\n",
    "                        len(label_dataset_mapping[clean_label(ent2)]) == 1):\n",
    "                        group = label_dataset_mapping[clean_label(ent2)][0]\n",
    "                        item[1][\"entities\"][i+1] = (item[1][\"entities\"][i][0], item[1][\"entities\"][i+1][1])\n",
    "                        new_candidate = sentence[item[1][\"entities\"][i+1][0]:item[1][\"entities\"][i+1][1]]\n",
    "                        if new_candidate not in groups[group]:\n",
    "                            groups[group].append(new_candidate)\n",
    "                        indices_to_remove.add(i)\n",
    "            if indices_to_remove:\n",
    "                items[j][1][\"entities\"] = [ex for i, ex in enumerate(items[j][1][\"entities\"]) if i not in indices_to_remove]\n",
    "    except:\n",
    "        continue\n",
    "        "
   ]
  },
  {
   "cell_type": "code",
   "execution_count": 19,
   "id": "isolated-agency",
   "metadata": {
    "execution": {
     "iopub.execute_input": "2021-06-22T21:24:22.211060Z",
     "iopub.status.busy": "2021-06-22T21:24:22.210041Z",
     "iopub.status.idle": "2021-06-22T21:24:22.214217Z",
     "shell.execute_reply": "2021-06-22T21:24:22.214592Z",
     "shell.execute_reply.started": "2021-06-22T21:21:59.578945Z"
    },
    "papermill": {
     "duration": 0.252881,
     "end_time": "2021-06-22T21:24:22.214742",
     "exception": false,
     "start_time": "2021-06-22T21:24:21.961861",
     "status": "completed"
    },
    "tags": []
   },
   "outputs": [
    {
     "data": {
      "text/plain": [
       "240"
      ]
     },
     "execution_count": 19,
     "metadata": {},
     "output_type": "execute_result"
    }
   ],
   "source": [
    "del terms, terms_long, terms_short, patterns_long, patterns_short, matcher_long, matcher_short\n",
    "gc.collect()"
   ]
  },
  {
   "cell_type": "code",
   "execution_count": 20,
   "id": "clear-melissa",
   "metadata": {
    "execution": {
     "iopub.execute_input": "2021-06-22T21:24:22.519241Z",
     "iopub.status.busy": "2021-06-22T21:24:22.517968Z",
     "iopub.status.idle": "2021-06-22T21:24:22.522723Z",
     "shell.execute_reply": "2021-06-22T21:24:22.522305Z",
     "shell.execute_reply.started": "2021-06-22T21:21:59.817226Z"
    },
    "papermill": {
     "duration": 0.260317,
     "end_time": "2021-06-22T21:24:22.522836",
     "exception": false,
     "start_time": "2021-06-22T21:24:22.262519",
     "status": "completed"
    },
    "tags": []
   },
   "outputs": [
    {
     "name": "stdout",
     "output_type": "stream",
     "text": [
      "162\n"
     ]
    },
    {
     "data": {
      "text/plain": [
       "0"
      ]
     },
     "execution_count": 20,
     "metadata": {},
     "output_type": "execute_result"
    }
   ],
   "source": [
    "full_data = []\n",
    "for Id, items in ner_data.items():\n",
    "    try:\n",
    "        for item in items:\n",
    "            item_data = []\n",
    "            sentence = item[0]\n",
    "            for ent in item[1][\"entities\"]:\n",
    "                candidate = sentence[ent[0]:ent[1]]\n",
    "                masked_sentence = sentence[:ent[0]] + \"@CAND@\" + sentence[ent[1]:]\n",
    "                full_data.append((masked_sentence, {\"Id\": Id, \"candidate\": candidate}))\n",
    "    except:\n",
    "        continue\n",
    "            \n",
    "print(len(full_data))\n",
    "del ner_data\n",
    "gc.collect()"
   ]
  },
  {
   "cell_type": "code",
   "execution_count": 21,
   "id": "advance-suicide",
   "metadata": {
    "execution": {
     "iopub.execute_input": "2021-06-22T21:24:22.672062Z",
     "iopub.status.busy": "2021-06-22T21:24:22.671538Z",
     "iopub.status.idle": "2021-06-22T21:24:43.156702Z",
     "shell.execute_reply": "2021-06-22T21:24:43.156260Z",
     "shell.execute_reply.started": "2021-06-22T21:22:00.054194Z"
    },
    "papermill": {
     "duration": 20.58547,
     "end_time": "2021-06-22T21:24:43.156824",
     "exception": false,
     "start_time": "2021-06-22T21:24:22.571354",
     "status": "completed"
    },
    "tags": []
   },
   "outputs": [
    {
     "data": {
      "application/vnd.jupyter.widget-view+json": {
       "model_id": "141091c8245140fa911514a5230683f4",
       "version_major": 2,
       "version_minor": 0
      },
      "text/plain": [
       "  0%|          | 0/162 [00:00<?, ?it/s]"
      ]
     },
     "metadata": {},
     "output_type": "display_data"
    }
   ],
   "source": [
    "spacy.prefer_gpu()\n",
    "nlp = spacy.load(\"../input/textcat-trf/model-best\")\n",
    "\n",
    "predictions = []\n",
    "for doc, annts in tqdm(nlp.pipe(full_data, as_tuples=True, batch_size=150), total=len(full_data)):\n",
    "    try:\n",
    "        predictions.append((doc.text, {\n",
    "            \"Id\": annts[\"Id\"], \"candidate\": annts[\"candidate\"], \"score\": doc.cats[\"positive\"]\n",
    "        }))\n",
    "    except:\n",
    "        continue"
   ]
  },
  {
   "cell_type": "code",
   "execution_count": 22,
   "id": "intermediate-economy",
   "metadata": {
    "execution": {
     "iopub.execute_input": "2021-06-22T21:24:43.528304Z",
     "iopub.status.busy": "2021-06-22T21:24:43.527395Z",
     "iopub.status.idle": "2021-06-22T21:24:43.530861Z",
     "shell.execute_reply": "2021-06-22T21:24:43.531271Z",
     "shell.execute_reply.started": "2021-06-22T21:22:24.135710Z"
    },
    "papermill": {
     "duration": 0.324452,
     "end_time": "2021-06-22T21:24:43.531413",
     "exception": false,
     "start_time": "2021-06-22T21:24:43.206961",
     "status": "completed"
    },
    "tags": []
   },
   "outputs": [
    {
     "data": {
      "text/plain": [
       "6525"
      ]
     },
     "execution_count": 22,
     "metadata": {},
     "output_type": "execute_result"
    }
   ],
   "source": [
    "del full_data\n",
    "gc.collect()"
   ]
  },
  {
   "cell_type": "code",
   "execution_count": 23,
   "id": "streaming-notebook",
   "metadata": {
    "execution": {
     "iopub.execute_input": "2021-06-22T21:24:43.640418Z",
     "iopub.status.busy": "2021-06-22T21:24:43.639870Z",
     "iopub.status.idle": "2021-06-22T21:24:46.058527Z",
     "shell.execute_reply": "2021-06-22T21:24:46.057638Z",
     "shell.execute_reply.started": "2021-06-22T21:22:24.449111Z"
    },
    "papermill": {
     "duration": 2.477658,
     "end_time": "2021-06-22T21:24:46.058646",
     "exception": false,
     "start_time": "2021-06-22T21:24:43.580988",
     "status": "completed"
    },
    "tags": []
   },
   "outputs": [
    {
     "name": "stderr",
     "output_type": "stream",
     "text": [
      "/opt/conda/lib/python3.7/site-packages/spacy/util.py:1521: UserWarning: [W111] Jupyter notebook detected: if using `prefer_gpu()` or `require_gpu()`, include it in the same cell right before `spacy.load()` to ensure that the model is loaded on the correct device. More information: http://spacy.io/usage/v3#jupyter-notebook-gpu\n",
      "  warnings.warn(Warnings.W111)\n"
     ]
    },
    {
     "data": {
      "application/vnd.jupyter.widget-view+json": {
       "model_id": "a3df9a23c72d4d8db0fe999c9327b485",
       "version_major": 2,
       "version_minor": 0
      },
      "text/plain": [
       "  0%|          | 0/4 [00:00<?, ?it/s]"
      ]
     },
     "metadata": {},
     "output_type": "display_data"
    }
   ],
   "source": [
    "# First search for {candidate} dataset occurencies and constract initial dataset groups\n",
    "\n",
    "nlp = spacy.load(\"../input/en-core-web-lg/en_core_web_lg-3.0.0/en_core_web_lg/en_core_web_lg-3.0.0\", disable=[\"ner\", \"tok2vec\"])\n",
    "terms = set([f\"{cand} dataset\" for cand in label_dataset_mapping.keys()])\n",
    "\n",
    "terms = sorted(list(terms), reverse=True, key=lambda x: len(x))\n",
    "patterns = list(nlp.tokenizer.pipe(terms))\n",
    "matcher = PhraseMatcher(nlp.vocab, attr=\"LOWER\")\n",
    "matcher.add(f\"TerminologyListDataset\", patterns)\n",
    "\n",
    "ner_data = defaultdict(list)\n",
    "#for Id in tqdm(train_df[\"Id\"].unique(), total=train_df[\"Id\"].nunique()):\n",
    "for Id in tqdm(sample_sub[\"Id\"].unique(), total=sample_sub[\"Id\"].nunique()):\n",
    "    try:\n",
    "        sentences = [sent for sent in id_sentences[Id][0] if \"data\" in sent.lower()]\n",
    "        for doc in nlp.pipe(sentences):\n",
    "            matches = matcher(doc)\n",
    "            if matches:\n",
    "                merged_spans = merge_spans([(start, end) for _, start, end in matches])\n",
    "                ner_data[Id].append(\n",
    "                    (doc.text,\n",
    "                     {\n",
    "                         \"entities\": [],\n",
    "                         \"spans\": []\n",
    "                     })\n",
    "                )\n",
    "                for start, end in merged_spans:\n",
    "                    ner_data[Id][-1][1][\"spans\"].append((start, end))\n",
    "                    ner_data[Id][-1][1][\"entities\"].append((doc[start].idx, doc[end-1].idx+len(doc[end-1])))\n",
    "                ner_data[Id][-1] = tuple(ner_data[Id][-1])\n",
    "    except:\n",
    "        continue"
   ]
  },
  {
   "cell_type": "code",
   "execution_count": 24,
   "id": "permanent-transsexual",
   "metadata": {
    "execution": {
     "iopub.execute_input": "2021-06-22T21:24:46.369639Z",
     "iopub.status.busy": "2021-06-22T21:24:46.368815Z",
     "iopub.status.idle": "2021-06-22T21:24:46.374505Z",
     "shell.execute_reply": "2021-06-22T21:24:46.374031Z",
     "shell.execute_reply.started": "2021-06-22T21:22:27.504336Z"
    },
    "papermill": {
     "duration": 0.264474,
     "end_time": "2021-06-22T21:24:46.374630",
     "exception": false,
     "start_time": "2021-06-22T21:24:46.110156",
     "status": "completed"
    },
    "tags": []
   },
   "outputs": [
    {
     "data": {
      "text/plain": [
       "1490"
      ]
     },
     "execution_count": 24,
     "metadata": {},
     "output_type": "execute_result"
    }
   ],
   "source": [
    "del terms, patterns, matcher\n",
    "gc.collect()"
   ]
  },
  {
   "cell_type": "code",
   "execution_count": 25,
   "id": "alternative-impossible",
   "metadata": {
    "execution": {
     "iopub.execute_input": "2021-06-22T21:24:46.496868Z",
     "iopub.status.busy": "2021-06-22T21:24:46.496020Z",
     "iopub.status.idle": "2021-06-22T21:24:46.498538Z",
     "shell.execute_reply": "2021-06-22T21:24:46.498098Z",
     "shell.execute_reply.started": "2021-06-22T21:22:27.741010Z"
    },
    "papermill": {
     "duration": 0.071772,
     "end_time": "2021-06-22T21:24:46.498653",
     "exception": false,
     "start_time": "2021-06-22T21:24:46.426881",
     "status": "completed"
    },
    "tags": []
   },
   "outputs": [],
   "source": [
    "class Dataset():\n",
    "    \n",
    "    def __init__(self, groups):\n",
    "        self.groups = groups\n",
    "        self.label_group_mapping = self._label_group_mapping()\n",
    "        self.scores = []\n",
    "        self.data_groups = {}\n",
    "        self.label_data_mapping = {}\n",
    "        self.rejected = set()\n",
    "        \n",
    "    def _label_group_mapping(self):\n",
    "        label_group_mapping = defaultdict(list)\n",
    "        for k, v in self.groups.items():\n",
    "            for label in v:\n",
    "                cleaned_label = clean_label(label)\n",
    "                if k not in label_group_mapping[cleaned_label]:\n",
    "                    label_group_mapping[cleaned_label].append(k)\n",
    "        return label_group_mapping\n",
    "    \n",
    "    def label_count(self, group):\n",
    "        return len(self.label_group_mapping[group])\n",
    "        \n",
    "    def add_label(self, group, label, Id, score):\n",
    "        cleaned_label = clean_label(label)\n",
    "        if group not in self.data_groups:\n",
    "            self.data_groups[group] = {\"Ids\": set(), \"Id_scores\": defaultdict(list), \"labels\": {}}\n",
    "        self.data_groups[group][\"Ids\"].add(Id)\n",
    "        self.data_groups[group][\"Id_scores\"][Id].append(score)\n",
    "        if label not in self.data_groups[group][\"labels\"]:\n",
    "            self.data_groups[group][\"labels\"][label] = {\n",
    "                \"Ids\": [],\n",
    "                \"scores\": []\n",
    "            }\n",
    "        self.data_groups[group][\"labels\"][label][\"Ids\"].append(Id)\n",
    "        self.data_groups[group][\"labels\"][label][\"scores\"].append(score)\n",
    "        if label not in self.label_data_mapping:\n",
    "            self.label_data_mapping[label] = []\n",
    "        if group not in self.label_data_mapping[label]:\n",
    "            self.label_data_mapping[label].append(group)\n",
    "            \n",
    "    def get_is_dataset_freq(self, group, threshold=0.5):\n",
    "        n_dataset = len([Id for Id, scores in self.data_groups[group][\"Id_scores\"].items()\n",
    "                         if np.max(scores) > threshold])\n",
    "        return n_dataset / len(self.data_groups[group][\"Id_scores\"])\n",
    "            \n",
    "    def mean_group_score(self, group):\n",
    "        scores = []\n",
    "        for label in self.data_groups[group][\"labels\"]:\n",
    "            scores.extend(self.data_groups[group][\"labels\"][label][\"scores\"])\n",
    "        if not scores:\n",
    "            return 0.0\n",
    "        return np.mean(scores)\n",
    "    \n",
    "    def max_group_score(self, group):\n",
    "        scores = []\n",
    "        for label in self.data_groups[group][\"labels\"]:\n",
    "            scores.extend(self.data_groups[group][\"labels\"][label][\"scores\"])\n",
    "        if not scores:\n",
    "            return 0.0\n",
    "        return np.max(scores)\n",
    "    \n",
    "    def mean_label_score(self, group, label):\n",
    "        if label not in self.data_groups[group][\"labels\"] or not self.data_groups[group][\"labels\"][label][\"scores\"]:\n",
    "            return 0\n",
    "        return np.mean(self.data_groups[group][\"labels\"][label][\"scores\"])\n",
    "    \n",
    "    def max_label_score(self, group, label):\n",
    "        if label not in self.data_groups[group][\"labels\"] or not self.data_groups[group][\"labels\"][label][\"scores\"]:\n",
    "            return 0\n",
    "        return np.max(self.data_groups[group][\"labels\"][label][\"scores\"])\n",
    "    \n",
    "    def remove_group(self, group):\n",
    "        for label in self.data_groups[group][\"labels\"]:\n",
    "            self.rejected.add(label)\n",
    "            self.label_data_mapping[label].remove(group)\n",
    "            if len(self.label_data_mapping[label]) == 0:\n",
    "                del self.label_data_mapping[label]\n",
    "        del self.data_groups[group]\n",
    "            \n",
    "    def reject(self, label):\n",
    "        self.rejected.add(label)"
   ]
  },
  {
   "cell_type": "code",
   "execution_count": 26,
   "id": "honest-stylus",
   "metadata": {
    "execution": {
     "iopub.execute_input": "2021-06-22T21:24:46.605667Z",
     "iopub.status.busy": "2021-06-22T21:24:46.605098Z",
     "iopub.status.idle": "2021-06-22T21:24:46.608251Z",
     "shell.execute_reply": "2021-06-22T21:24:46.608833Z",
     "shell.execute_reply.started": "2021-06-22T21:22:27.770737Z"
    },
    "papermill": {
     "duration": 0.059765,
     "end_time": "2021-06-22T21:24:46.608999",
     "exception": false,
     "start_time": "2021-06-22T21:24:46.549234",
     "status": "completed"
    },
    "tags": []
   },
   "outputs": [
    {
     "name": "stdout",
     "output_type": "stream",
     "text": [
      "162\n",
      "156\n"
     ]
    }
   ],
   "source": [
    "# Remove the sentences that contributed to the first step\n",
    "print(len(predictions))\n",
    "indices_to_remove = set()\n",
    "for i, item in enumerate(predictions):\n",
    "    sentence = item[0]\n",
    "    if \"@cand@ dataset\" in sentence.lower():\n",
    "        indices_to_remove.add(i)\n",
    "\n",
    "predictions = [item for i, item in enumerate(predictions) if i not in indices_to_remove]\n",
    "print(len(predictions))"
   ]
  },
  {
   "cell_type": "code",
   "execution_count": 27,
   "id": "approximate-demonstration",
   "metadata": {
    "execution": {
     "iopub.execute_input": "2021-06-22T21:24:46.930761Z",
     "iopub.status.busy": "2021-06-22T21:24:46.929784Z",
     "iopub.status.idle": "2021-06-22T21:24:46.934010Z",
     "shell.execute_reply": "2021-06-22T21:24:46.934414Z",
     "shell.execute_reply.started": "2021-06-22T21:22:27.787794Z"
    },
    "papermill": {
     "duration": 0.272112,
     "end_time": "2021-06-22T21:24:46.934565",
     "exception": false,
     "start_time": "2021-06-22T21:24:46.662453",
     "status": "completed"
    },
    "tags": []
   },
   "outputs": [
    {
     "name": "stdout",
     "output_type": "stream",
     "text": [
      "3\n"
     ]
    },
    {
     "data": {
      "text/plain": [
       "0"
      ]
     },
     "execution_count": 27,
     "metadata": {},
     "output_type": "execute_result"
    }
   ],
   "source": [
    "dataset = Dataset(groups)\n",
    "for Id, items in ner_data.items():\n",
    "    try:\n",
    "        for item in items:\n",
    "            sentence = item[0]\n",
    "            for ent in item[1][\"entities\"]:\n",
    "                candidate = sentence[ent[0]:ent[1]]\n",
    "                candidate_base = \" \".join(candidate.split()[:-1])\n",
    "                cleaned_candidate = clean_label(candidate)\n",
    "                cleaned_candidate_base = clean_label(candidate_base)\n",
    "                if len(candidate_base.split()) > 1:\n",
    "                    if cleaned_candidate in dataset.label_group_mapping:\n",
    "                        cand_groups = sorted(dataset.label_group_mapping[cleaned_candidate],\n",
    "                                     reverse=True, key=lambda x: len(dataset.label_group_mapping[x]))\n",
    "                        group = cand_groups[0]\n",
    "                        dataset.add_label(group, candidate, Id, 2)\n",
    "                    elif cleaned_candidate_base in dataset.label_group_mapping:\n",
    "                        cand_groups = sorted(dataset.label_group_mapping[cleaned_candidate_base],\n",
    "                                     reverse=True, key=lambda x: len(dataset.label_group_mapping[x]))\n",
    "                        group = cand_groups[0]\n",
    "                        dataset.add_label(group, candidate_base, Id, 2)\n",
    "                else:\n",
    "                    if Id in ids_abbreviations and candidate_base in ids_abbreviations[Id]:\n",
    "                        for definition in ids_abbreviations[Id][candidate_base]:\n",
    "                            if clean_label(definition) in dataset.label_group_mapping:    \n",
    "                                cand_groups = sorted(dataset.label_group_mapping[clean_label(definition)],\n",
    "                                             reverse=True, key=lambda x: len(dataset.label_group_mapping[x]))\n",
    "                                group = cand_groups[0]\n",
    "                                dataset.add_label(group, candidate_base, Id, 2)\n",
    "                                break\n",
    "                    elif (len(candidate_base) > 3 and candidate_base == candidate_base.upper() and\n",
    "                          cleaned_candidate_base in dataset.label_group_mapping and\n",
    "                          len(dataset.label_group_mapping[cleaned_candidate_base]) == 1):\n",
    "                        group = dataset.label_group_mapping[cleaned_candidate_base][0]\n",
    "                        dataset.add_label(group, candidate_base, Id, 1)\n",
    "    except:\n",
    "        continue\n",
    "print(len(dataset.data_groups))\n",
    "del ner_data\n",
    "gc.collect()"
   ]
  },
  {
   "cell_type": "code",
   "execution_count": 28,
   "id": "surface-article",
   "metadata": {
    "execution": {
     "iopub.execute_input": "2021-06-22T21:24:47.044650Z",
     "iopub.status.busy": "2021-06-22T21:24:47.043925Z",
     "iopub.status.idle": "2021-06-22T21:24:47.046874Z",
     "shell.execute_reply": "2021-06-22T21:24:47.047301Z",
     "shell.execute_reply.started": "2021-06-22T21:22:28.039019Z"
    },
    "papermill": {
     "duration": 0.061088,
     "end_time": "2021-06-22T21:24:47.047428",
     "exception": false,
     "start_time": "2021-06-22T21:24:46.986340",
     "status": "completed"
    },
    "tags": []
   },
   "outputs": [
    {
     "name": "stdout",
     "output_type": "stream",
     "text": [
      "3\n"
     ]
    }
   ],
   "source": [
    "# Remove titles containing lower case words\n",
    "connecting_words = [\"of\", \"in\", \"on\", \"and\", \"for\", \"from\", \"the\", \"in\", \"a\", \"to\", \"after\", \"with\", \"at\", \"by\", \"&\"]\n",
    "for group in dataset.data_groups.copy():\n",
    "    if any([w == w.lower() and w not in connecting_words  and w != \"dataset\" and not re.search(r\"[0-9]\", w) for w in group.split()]):\n",
    "        dataset.remove_group(group)\n",
    "print(len(dataset.data_groups))"
   ]
  },
  {
   "cell_type": "code",
   "execution_count": 29,
   "id": "swiss-angle",
   "metadata": {
    "execution": {
     "iopub.execute_input": "2021-06-22T21:24:47.167054Z",
     "iopub.status.busy": "2021-06-22T21:24:47.166492Z",
     "iopub.status.idle": "2021-06-22T21:24:47.169534Z",
     "shell.execute_reply": "2021-06-22T21:24:47.170040Z",
     "shell.execute_reply.started": "2021-06-22T21:22:28.054193Z"
    },
    "papermill": {
     "duration": 0.071368,
     "end_time": "2021-06-22T21:24:47.170196",
     "exception": false,
     "start_time": "2021-06-22T21:24:47.098828",
     "status": "completed"
    },
    "tags": []
   },
   "outputs": [
    {
     "name": "stdout",
     "output_type": "stream",
     "text": [
      "78\n"
     ]
    }
   ],
   "source": [
    "candidate_scores = defaultdict(list)\n",
    "databases = [\"database\", \"data base\", \"dataset\", \"data set\", \"data\", \"data system\"]\n",
    "\n",
    "def get_thresholds(group, dataset):\n",
    "    if not group:\n",
    "        return [0.95, 0.4]\n",
    "    if \"(\" in group:\n",
    "        title = group[:group.rfind(\"(\")].strip().lower()\n",
    "    else:\n",
    "        title = group.lower()\n",
    "    if (any([title.endswith(database) for database in databases]) or\n",
    "        any([f\"{database} for\" in title for database in databases]) or\n",
    "        any([f\"{database} of\" in title for database in databases])):\n",
    "        return [0.05, 0.05]\n",
    "    if group in dataset.data_groups:\n",
    "        return [0.85, 0.25]\n",
    "    return [0.95, 0.4]\n",
    "    \n",
    "\n",
    "for i, item in enumerate(predictions):\n",
    "    try:\n",
    "        sentence = item[0]\n",
    "        candidate = item[1][\"candidate\"]\n",
    "        clean_candidate = clean_label(candidate)\n",
    "        candidate_scores[clean_candidate].append(item[1][\"score\"])\n",
    "    except:\n",
    "        continue\n",
    "    \n",
    "cands_to_remove = set()\n",
    "for candidate, v in candidate_scores.items():\n",
    "    try:\n",
    "        clean_candidate = clean_label(candidate)\n",
    "        if len(candidate.split()) > 1:\n",
    "            cand_groups = sorted(dataset.label_group_mapping[clean_candidate],\n",
    "                             reverse=True, key=lambda x: len(dataset.label_group_mapping[x]))\n",
    "            if cand_groups:\n",
    "                group = cand_groups[0]\n",
    "            else:\n",
    "                group = None\n",
    "        else:\n",
    "            group = None\n",
    "        max_threshold, mean_threshold = get_thresholds(group, dataset)\n",
    "        if np.max(v) < max_threshold or np.mean(v) < mean_threshold:\n",
    "            cands_to_remove.add(candidate)\n",
    "    except:\n",
    "        continue\n",
    "    \n",
    "indices_to_remove = set()\n",
    "for i, item in enumerate(predictions):\n",
    "    try:\n",
    "        candidate = item[1][\"candidate\"]\n",
    "        clean_candidate = clean_label(candidate)\n",
    "        if clean_candidate in cands_to_remove:\n",
    "            indices_to_remove.add(i)\n",
    "    except:\n",
    "        continue\n",
    "\n",
    "predictions = [item for i, item in enumerate(predictions) if i not in indices_to_remove]\n",
    "print(len(predictions))"
   ]
  },
  {
   "cell_type": "code",
   "execution_count": 30,
   "id": "color-injection",
   "metadata": {
    "execution": {
     "iopub.execute_input": "2021-06-22T21:24:47.282770Z",
     "iopub.status.busy": "2021-06-22T21:24:47.282209Z",
     "iopub.status.idle": "2021-06-22T21:24:47.286261Z",
     "shell.execute_reply": "2021-06-22T21:24:47.285671Z",
     "shell.execute_reply.started": "2021-06-22T21:22:28.081210Z"
    },
    "papermill": {
     "duration": 0.062994,
     "end_time": "2021-06-22T21:24:47.286409",
     "exception": false,
     "start_time": "2021-06-22T21:24:47.223415",
     "status": "completed"
    },
    "tags": []
   },
   "outputs": [
    {
     "name": "stdout",
     "output_type": "stream",
     "text": [
      "67\n",
      "6\n"
     ]
    }
   ],
   "source": [
    "indices_to_remove = set()\n",
    "\n",
    "for i, item in enumerate(predictions):\n",
    "    try:\n",
    "        Id = item[1][\"Id\"]\n",
    "        score = item[1][\"score\"]\n",
    "        candidate = item[1][\"candidate\"]\n",
    "        cleaned_candidate = clean_label(candidate)\n",
    "        if len(candidate.split()) == 1:\n",
    "            continue\n",
    "        cand_groups = sorted(dataset.label_group_mapping[cleaned_candidate],\n",
    "                             reverse=True, key=lambda x: len(dataset.label_group_mapping[x]))\n",
    "        group = cand_groups[0]\n",
    "        dataset.add_label(group, candidate, Id, score)\n",
    "        indices_to_remove.add(i)\n",
    "    except:\n",
    "        continue\n",
    "predictions = [item for i, item in enumerate(predictions) if i not in indices_to_remove]\n",
    "print(len(predictions))\n",
    "print(len(dataset.data_groups))"
   ]
  },
  {
   "cell_type": "code",
   "execution_count": 31,
   "id": "popular-princeton",
   "metadata": {
    "execution": {
     "iopub.execute_input": "2021-06-22T21:24:47.411284Z",
     "iopub.status.busy": "2021-06-22T21:24:47.410673Z",
     "iopub.status.idle": "2021-06-22T21:24:47.413793Z",
     "shell.execute_reply": "2021-06-22T21:24:47.414408Z",
     "shell.execute_reply.started": "2021-06-22T21:22:28.099929Z"
    },
    "papermill": {
     "duration": 0.075174,
     "end_time": "2021-06-22T21:24:47.414583",
     "exception": false,
     "start_time": "2021-06-22T21:24:47.339409",
     "status": "completed"
    },
    "tags": []
   },
   "outputs": [
    {
     "name": "stdout",
     "output_type": "stream",
     "text": [
      "0\n",
      "6\n",
      "0\n",
      "6\n"
     ]
    }
   ],
   "source": [
    "def find_matching_label(label, abbreviation, dataset):\n",
    "    \"\"\"Finds a matching label that the label startwith\n",
    "    Example: label=\"National Education Longitudinal Study of 1988\"\n",
    "             matching_label = \"National Education Longitudinal Study\"\n",
    "    \"\"\"\n",
    "    cleaned_label = clean_label(label)\n",
    "    candidates = set()\n",
    "    if abbreviation not in dataset.label_data_mapping:\n",
    "        return None\n",
    "    else:\n",
    "        for group in dataset.label_data_mapping[abbreviation]:     \n",
    "            for cand in dataset.data_groups[group][\"labels\"]:\n",
    "                if len(cand.split()) == 1:\n",
    "                    continue\n",
    "                if cleaned_label.startswith(clean_label(cand)) and len(cand.split()) >= len(abbreviation):\n",
    "                    candidates.add(cand)\n",
    "    if candidates:\n",
    "        return sorted(list(candidates), reverse=True, key=lambda x: len(x))[0]\n",
    "    return None\n",
    "\n",
    "indices_to_remove = set()\n",
    "\n",
    "for i, item in enumerate(predictions):\n",
    "    try:\n",
    "        Id = item[1][\"Id\"]\n",
    "        score = item[1][\"score\"]\n",
    "        candidate = item[1][\"candidate\"]\n",
    "        cleaned_candidate = clean_label(candidate)\n",
    "        if len(candidate.split()) != 1:\n",
    "            continue\n",
    "        if candidate not in ids_abbreviations[Id]:\n",
    "            continue\n",
    "        for definition in ids_abbreviations[Id][candidate]:\n",
    "            if clean_label(definition) in dataset.label_group_mapping:    \n",
    "                cand_groups = sorted(dataset.label_group_mapping[clean_label(definition)],\n",
    "                                     reverse=True, key=lambda x: len(dataset.label_group_mapping[x]))\n",
    "                group = cand_groups[0]\n",
    "                if group in dataset.data_groups:\n",
    "                    dataset.add_label(group, candidate, Id, score)\n",
    "                indices_to_remove.add(i)\n",
    "                break\n",
    "    except:\n",
    "        continue\n",
    "predictions = [item for i, item in enumerate(predictions) if i not in indices_to_remove]\n",
    "print(len(predictions))\n",
    "print(len(dataset.data_groups))\n",
    "\n",
    "indices_to_remove = set()\n",
    "for i, item in enumerate(predictions):\n",
    "    try:\n",
    "        Id = item[1][\"Id\"]\n",
    "        score = item[1][\"score\"]\n",
    "        candidate = item[1][\"candidate\"]\n",
    "        cleaned_candidate = clean_label(candidate)\n",
    "        if len(candidate.split()) != 1:\n",
    "            continue\n",
    "        if candidate not in ids_abbreviations[Id]:\n",
    "            continue\n",
    "        for definition in ids_abbreviations[Id][candidate]:\n",
    "            if clean_label(definition) not in dataset.label_group_mapping:    \n",
    "                matched_definition = find_matching_label(definition, candidate, dataset)\n",
    "                if matched_definition and clean_label(matched_definition) in dataset.label_group_mapping:\n",
    "                    cand_groups = sorted(dataset.label_group_mapping[clean_label(matched_definition)],\n",
    "                                     reverse=True, key=lambda x: len(dataset.label_group_mapping[x]))\n",
    "                    group = cand_groups[0]\n",
    "                    if group in dataset.data_groups:\n",
    "                        dataset.add_label(group, candidate, Id, score)\n",
    "                    indices_to_remove.add(i)\n",
    "                    break\n",
    "    except:\n",
    "        continue\n",
    "        \n",
    "predictions = [item for i, item in enumerate(predictions) if i not in indices_to_remove]\n",
    "print(len(predictions))\n",
    "print(len(dataset.data_groups))"
   ]
  },
  {
   "cell_type": "code",
   "execution_count": 32,
   "id": "experimental-bundle",
   "metadata": {
    "execution": {
     "iopub.execute_input": "2021-06-22T21:24:47.527655Z",
     "iopub.status.busy": "2021-06-22T21:24:47.527107Z",
     "iopub.status.idle": "2021-06-22T21:24:47.530085Z",
     "shell.execute_reply": "2021-06-22T21:24:47.530683Z",
     "shell.execute_reply.started": "2021-06-22T21:22:28.127565Z"
    },
    "papermill": {
     "duration": 0.062319,
     "end_time": "2021-06-22T21:24:47.530851",
     "exception": false,
     "start_time": "2021-06-22T21:24:47.468532",
     "status": "completed"
    },
    "tags": []
   },
   "outputs": [
    {
     "name": "stdout",
     "output_type": "stream",
     "text": [
      "0\n",
      "6\n"
     ]
    }
   ],
   "source": [
    "indices_to_remove = set()\n",
    "\n",
    "for i, item in enumerate(predictions):\n",
    "    try:\n",
    "        Id = item[1][\"Id\"]\n",
    "        score = item[1][\"score\"]\n",
    "        candidate = item[1][\"candidate\"]\n",
    "        cleaned_candidate = clean_label(candidate)\n",
    "        if cleaned_candidate in dataset.label_data_mapping:\n",
    "            group = dataset.label_data_mapping[cleaned_candidate][0]\n",
    "            dataset.add_label(group, candidate, Id, score)\n",
    "            indices_to_remove.add(i)\n",
    "        else:\n",
    "            indices_to_remove.add(i)\n",
    "    except:\n",
    "        continue\n",
    "        \n",
    "predictions = [item for i, item in enumerate(predictions) if i not in indices_to_remove]\n",
    "print(len(predictions))\n",
    "print(len(dataset.data_groups))"
   ]
  },
  {
   "cell_type": "code",
   "execution_count": 33,
   "id": "alike-breath",
   "metadata": {
    "execution": {
     "iopub.execute_input": "2021-06-22T21:24:47.652018Z",
     "iopub.status.busy": "2021-06-22T21:24:47.651253Z",
     "iopub.status.idle": "2021-06-22T21:24:47.653853Z",
     "shell.execute_reply": "2021-06-22T21:24:47.653370Z",
     "shell.execute_reply.started": "2021-06-22T21:22:28.146227Z"
    },
    "papermill": {
     "duration": 0.069374,
     "end_time": "2021-06-22T21:24:47.653954",
     "exception": false,
     "start_time": "2021-06-22T21:24:47.584580",
     "status": "completed"
    },
    "tags": []
   },
   "outputs": [],
   "source": [
    "def is_group_unclear(title, cands):\n",
    "    if len(title.split()) < 3:\n",
    "        return False\n",
    "    keywords = [\"survey\", \"study\", \"initiative\", \"program\", \"programme\",\n",
    "                \"assessment\", \"database\", \"data base\", \"data set\", \"dataset\", \"data\"]\n",
    "    for key in keywords:\n",
    "        if title.lower().endswith(key):\n",
    "            if (\"institute of\" in title.lower() or \"association of\" in title.lower() or\n",
    "                \"institute for\" in title.lower() or \"association for\" in title.lower() or\n",
    "                \"institute on\" in title.lower() or \"association on\" in title.lower()):\n",
    "                return False\n",
    "            return True\n",
    "        if f\"{key} of \" in title.lower() or f\"{key} on \" in title.lower() or f\"{key} for \" in title.lower() :\n",
    "            if (\"institute of\" in title.lower() or \"association of\" in title.lower() or\n",
    "                \"institute for\" in title.lower() or \"association for\" in title.lower() or\n",
    "                \"institute on\" in title.lower() or \"association on\" in title.lower()):\n",
    "                return False\n",
    "            return True\n",
    "    for key in keywords:\n",
    "        if any([cand.lower().endswith(f\" key\") for cand in cands]):\n",
    "            return True\n",
    "    return False\n",
    "\n",
    "def is_org(candidate):\n",
    "    if len(candidate.split()) == 1:\n",
    "        return False\n",
    "    if \"data\" in candidate and not candidate.endswith(\"center\"):\n",
    "        return False\n",
    "    keywords = [\"institute\", \"institute\", \"center\", \"foundation\", \"organisation\", \"administration\",\n",
    "                \"organizations\", \"alliance\", \"clinics\", \"institut\", \"institutes\", \"society\", \"centers\",\n",
    "                \"unit\", \"collaboration\",\n",
    "                \"bureau\", \"university\", \"service\", \"department\", \"divisiion\", \"agency\",\n",
    "                \"office\", \"library\", \"organization\", \"board\", \"council\", \"union\", \"college\",\n",
    "                \"committee\", \"consortium\", \"association\", \"clinic\", \"hospital\", \"laboratory\",\n",
    "                \"centre\", \"ministry\", \"panel\", \"school\", \"schools\", \"facility\", \"commission\", \"league\",\n",
    "                \"taskforce\", \"register\", \"insurance\"]\n",
    "    \n",
    "    if any([candidate.endswith(keyword) for keyword in keywords]):\n",
    "        if not is_group_unclear(candidate.lower(), [candidate.lower()]):\n",
    "            return True\n",
    "        else:\n",
    "            return False\n",
    "    if any([f\"{keyword} of\" in candidate for keyword in keywords]):\n",
    "        if not is_group_unclear(candidate.lower(), [candidate.lower()]):\n",
    "            return True\n",
    "        else:\n",
    "            return False\n",
    "    if any([f\"{keyword} on\" in candidate for keyword in keywords]):\n",
    "        if not is_group_unclear(candidate.lower(), [candidate.lower()]):\n",
    "            return True\n",
    "    if any([f\"{keyword} for\" in candidate for keyword in keywords]):\n",
    "        if not is_group_unclear(candidate.lower(), [candidate.lower()]):\n",
    "            return True\n",
    "    return False"
   ]
  },
  {
   "cell_type": "code",
   "execution_count": 34,
   "id": "incomplete-arthritis",
   "metadata": {
    "execution": {
     "iopub.execute_input": "2021-06-22T21:24:47.766685Z",
     "iopub.status.busy": "2021-06-22T21:24:47.766060Z",
     "iopub.status.idle": "2021-06-22T21:24:47.768828Z",
     "shell.execute_reply": "2021-06-22T21:24:47.769434Z",
     "shell.execute_reply.started": "2021-06-22T21:22:28.167482Z"
    },
    "papermill": {
     "duration": 0.06211,
     "end_time": "2021-06-22T21:24:47.769583",
     "exception": false,
     "start_time": "2021-06-22T21:24:47.707473",
     "status": "completed"
    },
    "tags": []
   },
   "outputs": [
    {
     "name": "stdout",
     "output_type": "stream",
     "text": [
      "5\n"
     ]
    }
   ],
   "source": [
    "for group in dataset.data_groups.copy():\n",
    "    try:\n",
    "        if \"(\" in group:\n",
    "            title = group[:group.rfind(\"(\")].strip().lower()\n",
    "        else:\n",
    "            title = group.lower()\n",
    "        if is_org(title):\n",
    "            dataset.remove_group(group)\n",
    "    except:\n",
    "        continue\n",
    "print(len(dataset.data_groups))"
   ]
  },
  {
   "cell_type": "code",
   "execution_count": 35,
   "id": "guided-starter",
   "metadata": {
    "execution": {
     "iopub.execute_input": "2021-06-22T21:24:47.884655Z",
     "iopub.status.busy": "2021-06-22T21:24:47.884029Z",
     "iopub.status.idle": "2021-06-22T21:24:47.887370Z",
     "shell.execute_reply": "2021-06-22T21:24:47.887958Z",
     "shell.execute_reply.started": "2021-06-22T21:22:28.186434Z"
    },
    "papermill": {
     "duration": 0.064119,
     "end_time": "2021-06-22T21:24:47.888136",
     "exception": false,
     "start_time": "2021-06-22T21:24:47.824017",
     "status": "completed"
    },
    "tags": []
   },
   "outputs": [
    {
     "name": "stdout",
     "output_type": "stream",
     "text": [
      "5\n"
     ]
    }
   ],
   "source": [
    "data_keywords = [\"survey\", \"study\", \"initiative\", \"program\", \"programme\",\n",
    "                 \"assessment\", \"database\", \"data base\", \"data set\", \"dataset\", \"data\"]\n",
    "for group in dataset.data_groups.copy():\n",
    "    try:\n",
    "        if \"(\" in group:\n",
    "            title = group[:group.rfind(\"(\")].strip()\n",
    "            abb = group[group.rfind(\"(\")+1:-1].strip()\n",
    "        else:\n",
    "            title = group\n",
    "            abb = None\n",
    "        if len(title.split()) < 3:\n",
    "            if any([w == w.lower() for w in title.split()]):\n",
    "                dataset.remove_group(group)\n",
    "            elif len([w for w in title.lower().split() if w in data_keywords]) > 1:\n",
    "                dataset.remove_group(group)\n",
    "            elif title == title.upper() or (abb and len(abb) < 3):\n",
    "                dataset.remove_group(group)\n",
    "    except:\n",
    "        continue\n",
    "print(len(dataset.data_groups))"
   ]
  },
  {
   "cell_type": "code",
   "execution_count": 36,
   "id": "fatal-genius",
   "metadata": {
    "execution": {
     "iopub.execute_input": "2021-06-22T21:24:48.002858Z",
     "iopub.status.busy": "2021-06-22T21:24:48.002272Z",
     "iopub.status.idle": "2021-06-22T21:24:48.005562Z",
     "shell.execute_reply": "2021-06-22T21:24:48.006261Z",
     "shell.execute_reply.started": "2021-06-22T21:22:28.202335Z"
    },
    "papermill": {
     "duration": 0.064188,
     "end_time": "2021-06-22T21:24:48.006428",
     "exception": false,
     "start_time": "2021-06-22T21:24:47.942240",
     "status": "completed"
    },
    "tags": []
   },
   "outputs": [
    {
     "name": "stdout",
     "output_type": "stream",
     "text": [
      "5\n"
     ]
    }
   ],
   "source": [
    "nondata_keywords = [\"method\", \"example\", \"resonance\", \"tool\", \"agreement\", \"procedure\", \"builder\"]\n",
    "reject_keywords  = [\"test\", \"sample\", \"cohort\", \"supplement\",\n",
    "                    \"act\", \"file\", \"index\", \"trial\", \"protocol\", \"instrument\", \"form\",\n",
    "                    \"conference\", \"infrastructure\", \"trials\"]\n",
    "for group in dataset.data_groups.copy():\n",
    "    try:\n",
    "        if \"(\" in group:\n",
    "            title = group[:group.rfind(\"(\")].strip().lower()\n",
    "            abb = group[group.rfind(\"(\")+1:-1].strip()\n",
    "        else:\n",
    "            title = group.lower()\n",
    "            abb = None\n",
    "        if any([keyword in title for keyword in nondata_keywords]):\n",
    "            dataset.remove_group(group)\n",
    "        elif any([title.endswith(keyword) for keyword in reject_keywords]):\n",
    "            dataset.remove_group(group)\n",
    "    except:\n",
    "        continue\n",
    "print(len(dataset.data_groups))"
   ]
  },
  {
   "cell_type": "code",
   "execution_count": 37,
   "id": "previous-education",
   "metadata": {
    "execution": {
     "iopub.execute_input": "2021-06-22T21:24:48.122826Z",
     "iopub.status.busy": "2021-06-22T21:24:48.122275Z",
     "iopub.status.idle": "2021-06-22T21:24:48.125304Z",
     "shell.execute_reply": "2021-06-22T21:24:48.125889Z",
     "shell.execute_reply.started": "2021-06-22T21:22:28.218975Z"
    },
    "papermill": {
     "duration": 0.062991,
     "end_time": "2021-06-22T21:24:48.126080",
     "exception": false,
     "start_time": "2021-06-22T21:24:48.063089",
     "status": "completed"
    },
    "tags": []
   },
   "outputs": [
    {
     "name": "stdout",
     "output_type": "stream",
     "text": [
      "3\n"
     ]
    }
   ],
   "source": [
    "for group in dataset.data_groups.copy():\n",
    "    try:\n",
    "        if all(len(cand) < 10 for cand in dataset.data_groups[group][\"labels\"]):\n",
    "            dataset.remove_group(group)\n",
    "    except:\n",
    "        continue\n",
    "print(len(dataset.data_groups))"
   ]
  },
  {
   "cell_type": "code",
   "execution_count": 38,
   "id": "artificial-measurement",
   "metadata": {
    "execution": {
     "iopub.execute_input": "2021-06-22T21:24:48.248552Z",
     "iopub.status.busy": "2021-06-22T21:24:48.247888Z",
     "iopub.status.idle": "2021-06-22T21:24:48.251709Z",
     "shell.execute_reply": "2021-06-22T21:24:48.252470Z",
     "shell.execute_reply.started": "2021-06-22T21:22:28.231299Z"
    },
    "papermill": {
     "duration": 0.071639,
     "end_time": "2021-06-22T21:24:48.252679",
     "exception": false,
     "start_time": "2021-06-22T21:24:48.181040",
     "status": "completed"
    },
    "tags": []
   },
   "outputs": [
    {
     "name": "stdout",
     "output_type": "stream",
     "text": [
      "3\n"
     ]
    }
   ],
   "source": [
    "groups_to_remove = set()\n",
    "all_group_titles = sorted([group for group in dataset.data_groups],\n",
    "                          reverse=True, key=lambda x: len(dataset.data_groups[x][\"labels\"]))\n",
    "for i in range(len(all_group_titles)-1):\n",
    "    try:\n",
    "        group_1 = all_group_titles[i]\n",
    "        if \"(\" in group_1:\n",
    "            abb1 = group_1[group_1.rfind(\"(\")+1:-1].strip()\n",
    "        else:\n",
    "            abb1 = None\n",
    "        for j in range(i+1, len(all_group_titles)):\n",
    "            group_2 = all_group_titles[j]\n",
    "            for label in dataset.data_groups[group_2][\"labels\"]:\n",
    "                if any([label.startswith(cand) and len(label.replace(cand, \"\")) > 2 and\n",
    "                        len(label.replace(cand, \"\")) < 10 for cand in dataset.data_groups[group_1][\"labels\"]]):\n",
    "                    if \"(\" in group_2:\n",
    "                        abb2 = group_2[group_2.rfind(\"(\")+1:-1].strip()\n",
    "                        if len(abb2.split()) > 1 or re.search(r\"[^A-Za-z]\", abb2):\n",
    "                            groups_to_remove.add(group_2)\n",
    "                        elif abb1 and not abb2.startswith(abb1) and re.search(r\"[^A-Za-z]\", abb2):\n",
    "                            groups_to_remove.add(title2)\n",
    "                elif any([label.startswith(cand) and len(label.replace(cand, \"\")) > 2\n",
    "                          for cand in dataset.data_groups[group_1][\"labels\"]]):\n",
    "                    if \"(\" in group_2:\n",
    "                        abb2 = group_2[group_2.rfind(\"(\")+1:-1].strip()\n",
    "                        if abb1 and abb2.startswith(abb1) and re.search(r\"[^A-Za-z]\", abb1):\n",
    "                            groups_to_remove.add(group_2)\n",
    "    except:\n",
    "        continue\n",
    "                        \n",
    "\n",
    "for group in groups_to_remove:\n",
    "    try:\n",
    "        dataset.remove_group(group)\n",
    "    except:\n",
    "        continue\n",
    "    \n",
    "print(len(dataset.data_groups))"
   ]
  },
  {
   "cell_type": "code",
   "execution_count": 39,
   "id": "acquired-eating",
   "metadata": {
    "execution": {
     "iopub.execute_input": "2021-06-22T21:24:48.368594Z",
     "iopub.status.busy": "2021-06-22T21:24:48.367769Z",
     "iopub.status.idle": "2021-06-22T21:24:48.370309Z",
     "shell.execute_reply": "2021-06-22T21:24:48.369793Z",
     "shell.execute_reply.started": "2021-06-22T21:22:28.254186Z"
    },
    "papermill": {
     "duration": 0.062502,
     "end_time": "2021-06-22T21:24:48.370416",
     "exception": false,
     "start_time": "2021-06-22T21:24:48.307914",
     "status": "completed"
    },
    "tags": []
   },
   "outputs": [],
   "source": [
    "def is_data_like(title, cands):\n",
    "    keywords = [\"survey\", \"study\", \"initiative\", \"program\", \"programme\", \"inventory\",\n",
    "                \"assessment\", \"model\", \"network\", \"sequence\", \"practice\", \"project\", \"datum\",\n",
    "                \"database\", \"data base\", \"data set\", \"list\", \"archive\", \"interpolation\", \"atlas\",\n",
    "                \"surveys\", \"studies\", \"dataset\", \"data\", \"model\", \"registry\", \"census\", \"encyclopedia\"]\n",
    "    if any([key in title.lower() for key in keywords]):\n",
    "        return True\n",
    "    for key in keywords:\n",
    "        if any([cand.lower().endswith(key) for cand in cands]):\n",
    "            return True\n",
    "    return False"
   ]
  },
  {
   "cell_type": "code",
   "execution_count": 40,
   "id": "worse-recycling",
   "metadata": {
    "execution": {
     "iopub.execute_input": "2021-06-22T21:24:48.487759Z",
     "iopub.status.busy": "2021-06-22T21:24:48.487150Z",
     "iopub.status.idle": "2021-06-22T21:24:48.490070Z",
     "shell.execute_reply": "2021-06-22T21:24:48.490566Z",
     "shell.execute_reply.started": "2021-06-22T21:22:28.268773Z"
    },
    "papermill": {
     "duration": 0.065804,
     "end_time": "2021-06-22T21:24:48.490687",
     "exception": false,
     "start_time": "2021-06-22T21:24:48.424883",
     "status": "completed"
    },
    "tags": []
   },
   "outputs": [
    {
     "name": "stdout",
     "output_type": "stream",
     "text": [
      "3\n"
     ]
    }
   ],
   "source": [
    "for group in dataset.data_groups.copy():\n",
    "    try:\n",
    "        if \"(\" in group:\n",
    "            title = group[:group.rfind(\"(\")].strip().lower()\n",
    "            abb = group[group.rfind(\"(\")+1:-1].strip()\n",
    "        else:\n",
    "            title = group.lower()\n",
    "        if not is_data_like(title, list(dataset.data_groups[group][\"labels\"].keys())):\n",
    "            if abb and re.search(\"[^A-Z&a-z0-9]\", abb):\n",
    "                dataset.remove_group(group)\n",
    "            elif any([w == w.lower() and w not in connecting_words and not re.search(r\"[0-9]\", w) for w in group.split()]):\n",
    "                dataset.remove_group(group)\n",
    "            elif len(dataset.data_groups[group][\"Ids\"]) < 5:\n",
    "                dataset.remove_group(group)\n",
    "            elif title.endswith(\"system\"):\n",
    "                dataset.remove_group(group)\n",
    "    except:\n",
    "        continue\n",
    "print(len(dataset.data_groups))"
   ]
  },
  {
   "cell_type": "code",
   "execution_count": 41,
   "id": "cross-filling",
   "metadata": {
    "execution": {
     "iopub.execute_input": "2021-06-22T21:24:48.604102Z",
     "iopub.status.busy": "2021-06-22T21:24:48.603374Z",
     "iopub.status.idle": "2021-06-22T21:24:48.605962Z",
     "shell.execute_reply": "2021-06-22T21:24:48.605559Z",
     "shell.execute_reply.started": "2021-06-22T21:22:28.287136Z"
    },
    "papermill": {
     "duration": 0.061202,
     "end_time": "2021-06-22T21:24:48.606071",
     "exception": false,
     "start_time": "2021-06-22T21:24:48.544869",
     "status": "completed"
    },
    "tags": []
   },
   "outputs": [],
   "source": [
    "data_groups = {}\n",
    "for group in dataset.data_groups.copy():\n",
    "    try:\n",
    "        data_groups[group] = list(set(dataset.data_groups[group][\"labels\"].keys()))\n",
    "    except:\n",
    "        continue"
   ]
  },
  {
   "cell_type": "code",
   "execution_count": 42,
   "id": "prospective-delhi",
   "metadata": {
    "execution": {
     "iopub.execute_input": "2021-06-22T21:24:48.720634Z",
     "iopub.status.busy": "2021-06-22T21:24:48.719989Z",
     "iopub.status.idle": "2021-06-22T21:24:48.724790Z",
     "shell.execute_reply": "2021-06-22T21:24:48.725403Z",
     "shell.execute_reply.started": "2021-06-22T21:22:28.297745Z"
    },
    "papermill": {
     "duration": 0.065009,
     "end_time": "2021-06-22T21:24:48.725580",
     "exception": false,
     "start_time": "2021-06-22T21:24:48.660571",
     "status": "completed"
    },
    "tags": []
   },
   "outputs": [
    {
     "name": "stdout",
     "output_type": "stream",
     "text": [
      "3\n"
     ]
    }
   ],
   "source": [
    "group_ids = defaultdict(set)\n",
    "for group in dataset.data_groups:\n",
    "    try:\n",
    "        for label in dataset.data_groups[group][\"labels\"]:\n",
    "            group_ids[group].update(dataset.data_groups[group][\"labels\"][label][\"Ids\"])\n",
    "    except:\n",
    "        continue\n",
    "        \n",
    "print(len(group_ids))"
   ]
  },
  {
   "cell_type": "code",
   "execution_count": 43,
   "id": "operational-romania",
   "metadata": {
    "execution": {
     "iopub.execute_input": "2021-06-22T21:24:48.862786Z",
     "iopub.status.busy": "2021-06-22T21:24:48.861935Z",
     "iopub.status.idle": "2021-06-22T21:24:48.900353Z",
     "shell.execute_reply": "2021-06-22T21:24:48.901242Z",
     "shell.execute_reply.started": "2021-06-22T21:22:28.310467Z"
    },
    "papermill": {
     "duration": 0.120165,
     "end_time": "2021-06-22T21:24:48.901459",
     "exception": false,
     "start_time": "2021-06-22T21:24:48.781294",
     "status": "completed"
    },
    "tags": []
   },
   "outputs": [
    {
     "data": {
      "application/vnd.jupyter.widget-view+json": {
       "model_id": "6c85df37a7eb44c2be3b0b8b7a5e1cd2",
       "version_major": 2,
       "version_minor": 0
      },
      "text/plain": [
       "  0%|          | 0/4 [00:00<?, ?it/s]"
      ]
     },
     "metadata": {},
     "output_type": "display_data"
    },
    {
     "name": "stdout",
     "output_type": "stream",
     "text": [
      "CPU times: user 56 ms, sys: 1.27 ms, total: 57.2 ms\n",
      "Wall time: 55.9 ms\n"
     ]
    }
   ],
   "source": [
    "%%time\n",
    "tqdm.pandas()\n",
    "sample_sub['clean_text'] = sample_sub['text'].progress_apply(clean_text)"
   ]
  },
  {
   "cell_type": "code",
   "execution_count": 44,
   "id": "adaptive-designer",
   "metadata": {
    "execution": {
     "iopub.execute_input": "2021-06-22T21:24:49.044266Z",
     "iopub.status.busy": "2021-06-22T21:24:49.043407Z",
     "iopub.status.idle": "2021-06-22T21:24:49.058148Z",
     "shell.execute_reply": "2021-06-22T21:24:49.056413Z",
     "shell.execute_reply.started": "2021-06-22T21:22:28.401538Z"
    },
    "papermill": {
     "duration": 0.100023,
     "end_time": "2021-06-22T21:24:49.058271",
     "exception": false,
     "start_time": "2021-06-22T21:24:48.958248",
     "status": "completed"
    },
    "tags": []
   },
   "outputs": [
    {
     "data": {
      "application/vnd.jupyter.widget-view+json": {
       "model_id": "ffc146271ead48e8986a7a33900e2496",
       "version_major": 2,
       "version_minor": 0
      },
      "text/plain": [
       "  0%|          | 0/3 [00:00<?, ?it/s]"
      ]
     },
     "metadata": {},
     "output_type": "display_data"
    }
   ],
   "source": [
    "id_clean_text = sample_sub.groupby(\"Id\")[\"clean_text\"].agg(list)\n",
    "group_label_counter_found = {}\n",
    "group_label_counter_all = {}\n",
    "for group in tqdm(dataset.data_groups, total=len(dataset.data_groups)):\n",
    "    try:\n",
    "        group_label_counter_found[group] = Counter()\n",
    "        group_label_counter_all[group] = Counter()\n",
    "        for row_id in sample_sub[\"Id\"].unique():\n",
    "        #for row_id in train_df[\"Id\"].unique():\n",
    "            cleaned_text = id_clean_text[row_id][0]\n",
    "            for label in {clean_label(l) for l in dataset.data_groups[group][\"labels\"]}:\n",
    "                if f\" {label.strip()} \" in cleaned_text:\n",
    "                    if row_id in group_ids[group]:\n",
    "                        group_label_counter_found[group][label] += 1\n",
    "                    group_label_counter_all[group][label] += 1\n",
    "    except:\n",
    "        continue"
   ]
  },
  {
   "cell_type": "code",
   "execution_count": 45,
   "id": "compatible-hollywood",
   "metadata": {
    "execution": {
     "iopub.execute_input": "2021-06-22T21:24:49.180612Z",
     "iopub.status.busy": "2021-06-22T21:24:49.179792Z",
     "iopub.status.idle": "2021-06-22T21:24:49.182553Z",
     "shell.execute_reply": "2021-06-22T21:24:49.182139Z",
     "shell.execute_reply.started": "2021-06-22T21:22:28.460977Z"
    },
    "papermill": {
     "duration": 0.068032,
     "end_time": "2021-06-22T21:24:49.182664",
     "exception": false,
     "start_time": "2021-06-22T21:24:49.114632",
     "status": "completed"
    },
    "tags": []
   },
   "outputs": [],
   "source": [
    "for group in dataset.data_groups.copy():\n",
    "    try:\n",
    "        for label, count_all in group_label_counter_all[group].items():\n",
    "            if group in group_label_counter_found and label in group_label_counter_found[group]:\n",
    "                count_found = group_label_counter_found[group][label]\n",
    "                if len(label) < 8 and count_found < count_all / 4:\n",
    "                    for cand in dataset.data_groups[group][\"labels\"].copy():\n",
    "                        if clean_label(cand) == label:\n",
    "                            try:\n",
    "                                del dataset.data_groups[group][\"labels\"][cand]\n",
    "                            except KeyError:\n",
    "                                continue\n",
    "                    if len(dataset.data_groups[group][\"labels\"]) == 0:\n",
    "                        dataset.remove_group(group)\n",
    "                    elif all([len(cand) < 6 for cand in dataset.data_groups[group][\"labels\"]]):\n",
    "                        dataset.remove_group(group)\n",
    "                elif len(label) >= 8 and count_found < count_all / 20:\n",
    "                    for cand in dataset.data_groups[group][\"labels\"].copy():\n",
    "                        if clean_label(cand) == label:\n",
    "                            try:\n",
    "                                del dataset.data_groups[group][\"labels\"][cand]\n",
    "                            except KeyError:\n",
    "                                continue\n",
    "                    if len(dataset.data_groups[group][\"labels\"]) == 0:\n",
    "                        dataset.remove_group(group)\n",
    "                    elif all([len(cand) < 6 for cand in dataset.data_groups[group][\"labels\"]]):\n",
    "                        dataset.remove_group(group)\n",
    "    except:\n",
    "        continue"
   ]
  },
  {
   "cell_type": "code",
   "execution_count": 46,
   "id": "simplified-michigan",
   "metadata": {
    "execution": {
     "iopub.execute_input": "2021-06-22T21:24:49.326282Z",
     "iopub.status.busy": "2021-06-22T21:24:49.325423Z",
     "iopub.status.idle": "2021-06-22T21:24:49.340031Z",
     "shell.execute_reply": "2021-06-22T21:24:49.337858Z",
     "shell.execute_reply.started": "2021-06-22T21:22:28.480785Z"
    },
    "papermill": {
     "duration": 0.101833,
     "end_time": "2021-06-22T21:24:49.340155",
     "exception": false,
     "start_time": "2021-06-22T21:24:49.238322",
     "status": "completed"
    },
    "tags": []
   },
   "outputs": [
    {
     "data": {
      "application/vnd.jupyter.widget-view+json": {
       "model_id": "cb8546c8bd6e40da882e54e6bb1097a7",
       "version_major": 2,
       "version_minor": 0
      },
      "text/plain": [
       "  0%|          | 0/3 [00:00<?, ?it/s]"
      ]
     },
     "metadata": {},
     "output_type": "display_data"
    }
   ],
   "source": [
    "id_clean_text = sample_sub.groupby(\"Id\")[\"clean_text\"].agg(list)\n",
    "group_label_single_counter = {}\n",
    "for group in tqdm(dataset.data_groups, total=len(dataset.data_groups)):\n",
    "    try:\n",
    "        group_label_single_counter[group] = Counter()\n",
    "        for row_id in sample_sub[\"Id\"].unique():\n",
    "            cleaned_text = id_clean_text[row_id][0]\n",
    "            for label in sorted(list({clean_label(l) for l in dataset.data_groups[group][\"labels\"]}),\n",
    "                                reverse=True, key=lambda x: len(x)):\n",
    "                if f\" {label.strip()} \" in cleaned_text:\n",
    "                    group_label_single_counter[group][label] += 1\n",
    "                    break\n",
    "    except:\n",
    "        continue"
   ]
  },
  {
   "cell_type": "code",
   "execution_count": 47,
   "id": "turned-palestine",
   "metadata": {
    "execution": {
     "iopub.execute_input": "2021-06-22T21:24:49.461901Z",
     "iopub.status.busy": "2021-06-22T21:24:49.460936Z",
     "iopub.status.idle": "2021-06-22T21:24:49.463636Z",
     "shell.execute_reply": "2021-06-22T21:24:49.463122Z",
     "shell.execute_reply.started": "2021-06-22T21:22:28.546909Z"
    },
    "papermill": {
     "duration": 0.066892,
     "end_time": "2021-06-22T21:24:49.463744",
     "exception": false,
     "start_time": "2021-06-22T21:24:49.396852",
     "status": "completed"
    },
    "tags": []
   },
   "outputs": [],
   "source": [
    "included_abbreviations = set()\n",
    "group_label_frequencies = {}\n",
    "for group in group_label_single_counter:\n",
    "    try:\n",
    "        group_label_frequencies[group] = {}\n",
    "        count = sum([v for v in group_label_single_counter[group].values()])\n",
    "        if count == 0:\n",
    "            continue\n",
    "        for label in group_label_single_counter[group]:\n",
    "            group_label_frequencies[group][label] = group_label_single_counter[group][label] / count\n",
    "            if len(label) < 8 and len(label) > 3:\n",
    "                abb_freq = group_label_frequencies[group][label]\n",
    "                if len(label) < 5:\n",
    "                    if abb_freq > 0.15 and abb_freq < 0.25:\n",
    "                        included_abbreviations.add(label)\n",
    "                else:\n",
    "                    if abb_freq > 0.01 and abb_freq < 0.35:\n",
    "                        included_abbreviations.add(label)\n",
    "    except:\n",
    "        continue"
   ]
  },
  {
   "cell_type": "code",
   "execution_count": 48,
   "id": "external-lawyer",
   "metadata": {
    "execution": {
     "iopub.execute_input": "2021-06-22T21:24:49.587776Z",
     "iopub.status.busy": "2021-06-22T21:24:49.586979Z",
     "iopub.status.idle": "2021-06-22T21:24:49.589700Z",
     "shell.execute_reply": "2021-06-22T21:24:49.589240Z",
     "shell.execute_reply.started": "2021-06-22T21:22:28.567932Z"
    },
    "papermill": {
     "duration": 0.069462,
     "end_time": "2021-06-22T21:24:49.589811",
     "exception": false,
     "start_time": "2021-06-22T21:24:49.520349",
     "status": "completed"
    },
    "tags": []
   },
   "outputs": [],
   "source": [
    "final_group_labels = {}\n",
    "for group in dataset.data_groups:\n",
    "    try:\n",
    "        if group not in group_label_counter_all:\n",
    "            continue\n",
    "        final_group_labels[group] = {\"abbreviation\": None, \"most_common\": None, \"remaining\": []}\n",
    "        all_labels = [clean_label(label) for label in dataset.data_groups[group][\"labels\"]\n",
    "                      if (clean_label(label) in group_label_counter_all[group] and\n",
    "                          clean_label(label) in group_label_single_counter[group] and\n",
    "                          group_label_frequencies[group][clean_label(label)] > 0.005 and\n",
    "                          group_label_single_counter[group][clean_label(label)] > 1)]\n",
    "        for label in all_labels.copy():\n",
    "            if len(label) < 8 and label in included_abbreviations:\n",
    "                final_group_labels[group][\"abbreviation\"] = label\n",
    "                all_labels.remove(label)\n",
    "            elif len(label) < 8:\n",
    "                all_labels.remove(label)\n",
    "\n",
    "        try:\n",
    "            all_labels = sorted(set(all_labels), reverse=True, key=lambda x: group_label_counter_all[group][x])\n",
    "            final_group_labels[group][\"most_common\"] = all_labels[0]\n",
    "            final_group_labels[group][\"remaining\"] = all_labels[1:]\n",
    "            if len(final_group_labels[group][\"remaining\"]) != 1:\n",
    "                for label in final_group_labels[group][\"remaining\"].copy():\n",
    "                    if (label.startswith(final_group_labels[group][\"most_common\"]) and\n",
    "                        len(label.split()) == len(final_group_labels[group][\"most_common\"].split()) + 1):\n",
    "                        final_group_labels[group][\"remaining\"].remove(label)\n",
    "        except:\n",
    "            continue\n",
    "    except:\n",
    "        continue"
   ]
  },
  {
   "cell_type": "code",
   "execution_count": 49,
   "id": "strategic-station",
   "metadata": {
    "execution": {
     "iopub.execute_input": "2021-06-22T21:24:49.733869Z",
     "iopub.status.busy": "2021-06-22T21:24:49.733027Z",
     "iopub.status.idle": "2021-06-22T21:24:49.748100Z",
     "shell.execute_reply": "2021-06-22T21:24:49.744230Z",
     "shell.execute_reply.started": "2021-06-22T21:22:28.597813Z"
    },
    "papermill": {
     "duration": 0.101706,
     "end_time": "2021-06-22T21:24:49.748219",
     "exception": false,
     "start_time": "2021-06-22T21:24:49.646513",
     "status": "completed"
    },
    "tags": []
   },
   "outputs": [
    {
     "data": {
      "application/vnd.jupyter.widget-view+json": {
       "model_id": "9233b7489aa3426cad2f35c09299de4c",
       "version_major": 2,
       "version_minor": 0
      },
      "text/plain": [
       "0it [00:00, ?it/s]"
      ]
     },
     "metadata": {},
     "output_type": "display_data"
    }
   ],
   "source": [
    "id_list = []\n",
    "lables_list = []\n",
    "for index, row in tqdm(sample_sub.iterrows()):\n",
    "    sample_clean_text = row['clean_text']\n",
    "    row_id = row['Id']\n",
    "    cleaned_labels = []\n",
    "    for group in final_group_labels:\n",
    "        try:\n",
    "            abbreviation = final_group_labels[group][\"abbreviation\"]\n",
    "            most_common = final_group_labels[group][\"most_common\"]\n",
    "            remaining_labels = final_group_labels[group][\"remaining\"]\n",
    "            if abbreviation:\n",
    "                if f\" {clean_text(abbreviation)} \" in sample_clean_text:\n",
    "                    cleaned_labels.append(abbreviation)\n",
    "            if most_common:\n",
    "                if f\" {clean_text(most_common)} \" in sample_clean_text:\n",
    "                    cleaned_labels.append(most_common)\n",
    "            for remaining_label in remaining_labels:\n",
    "                if f\" {clean_text(remaining_label)} \" in sample_clean_text:\n",
    "                    cleaned_labels.append(remaining_label)\n",
    "                    break\n",
    "        except:\n",
    "            continue\n",
    "    cleaned_labels = [clean_label(x) for x in cleaned_labels]\n",
    "    cleaned_labels = set(cleaned_labels)\n",
    "    lables_list.append('|'.join(cleaned_labels))\n",
    "    id_list.append(row_id)"
   ]
  },
  {
   "cell_type": "code",
   "execution_count": 50,
   "id": "duplicate-preservation",
   "metadata": {
    "execution": {
     "iopub.execute_input": "2021-06-22T21:24:49.868929Z",
     "iopub.status.busy": "2021-06-22T21:24:49.868277Z",
     "iopub.status.idle": "2021-06-22T21:24:49.871015Z",
     "shell.execute_reply": "2021-06-22T21:24:49.870547Z",
     "shell.execute_reply.started": "2021-06-22T21:22:28.658084Z"
    },
    "papermill": {
     "duration": 0.065452,
     "end_time": "2021-06-22T21:24:49.871124",
     "exception": false,
     "start_time": "2021-06-22T21:24:49.805672",
     "status": "completed"
    },
    "tags": []
   },
   "outputs": [],
   "source": [
    "submission = pd.DataFrame()\n",
    "submission['Id'] = id_list\n",
    "submission['PredictionString'] = lables_list"
   ]
  },
  {
   "cell_type": "code",
   "execution_count": 51,
   "id": "destroyed-township",
   "metadata": {
    "execution": {
     "iopub.execute_input": "2021-06-22T21:24:49.987977Z",
     "iopub.status.busy": "2021-06-22T21:24:49.987398Z",
     "iopub.status.idle": "2021-06-22T21:24:50.222126Z",
     "shell.execute_reply": "2021-06-22T21:24:50.221311Z",
     "shell.execute_reply.started": "2021-06-22T21:22:28.669485Z"
    },
    "papermill": {
     "duration": 0.294478,
     "end_time": "2021-06-22T21:24:50.222299",
     "exception": false,
     "start_time": "2021-06-22T21:24:49.927821",
     "status": "completed"
    },
    "tags": []
   },
   "outputs": [],
   "source": [
    "submission.to_csv(\"submission.csv\", index=None)"
   ]
  },
  {
   "cell_type": "code",
   "execution_count": 52,
   "id": "sunrise-committee",
   "metadata": {
    "execution": {
     "iopub.execute_input": "2021-06-22T21:24:50.340719Z",
     "iopub.status.busy": "2021-06-22T21:24:50.339944Z",
     "iopub.status.idle": "2021-06-22T21:24:50.343298Z",
     "shell.execute_reply": "2021-06-22T21:24:50.343789Z",
     "shell.execute_reply.started": "2021-06-22T21:22:29.022034Z"
    },
    "papermill": {
     "duration": 0.064955,
     "end_time": "2021-06-22T21:24:50.343917",
     "exception": false,
     "start_time": "2021-06-22T21:24:50.278962",
     "status": "completed"
    },
    "tags": []
   },
   "outputs": [
    {
     "data": {
      "text/plain": [
       "['', '', '', '']"
      ]
     },
     "execution_count": 52,
     "metadata": {},
     "output_type": "execute_result"
    }
   ],
   "source": [
    "lables_list[:10]"
   ]
  },
  {
   "cell_type": "code",
   "execution_count": null,
   "id": "subject-thesaurus",
   "metadata": {
    "papermill": {
     "duration": 0.056609,
     "end_time": "2021-06-22T21:24:50.456966",
     "exception": false,
     "start_time": "2021-06-22T21:24:50.400357",
     "status": "completed"
    },
    "tags": []
   },
   "outputs": [],
   "source": []
  }
 ],
 "metadata": {
  "kernelspec": {
   "display_name": "Python 3",
   "language": "python",
   "name": "python3"
  },
  "language_info": {
   "codemirror_mode": {
    "name": "ipython",
    "version": 3
   },
   "file_extension": ".py",
   "mimetype": "text/x-python",
   "name": "python",
   "nbconvert_exporter": "python",
   "pygments_lexer": "ipython3",
   "version": "3.7.10"
  },
  "papermill": {
   "default_parameters": {},
   "duration": 98.671859,
   "end_time": "2021-06-22T21:24:53.806809",
   "environment_variables": {},
   "exception": null,
   "input_path": "__notebook__.ipynb",
   "output_path": "__notebook__.ipynb",
   "parameters": {},
   "start_time": "2021-06-22T21:23:15.134950",
   "version": "2.3.3"
  },
  "widgets": {
   "application/vnd.jupyter.widget-state+json": {
    "state": {
     "0b00bd0c290e4a5187744a1d9382470d": {
      "model_module": "@jupyter-widgets/controls",
      "model_module_version": "1.5.0",
      "model_name": "ProgressStyleModel",
      "state": {
       "_model_module": "@jupyter-widgets/controls",
       "_model_module_version": "1.5.0",
       "_model_name": "ProgressStyleModel",
       "_view_count": null,
       "_view_module": "@jupyter-widgets/base",
       "_view_module_version": "1.2.0",
       "_view_name": "StyleView",
       "bar_color": null,
       "description_width": ""
      }
     },
     "0c3f89f9342649b9b500cd9de4430505": {
      "model_module": "@jupyter-widgets/controls",
      "model_module_version": "1.5.0",
      "model_name": "DescriptionStyleModel",
      "state": {
       "_model_module": "@jupyter-widgets/controls",
       "_model_module_version": "1.5.0",
       "_model_name": "DescriptionStyleModel",
       "_view_count": null,
       "_view_module": "@jupyter-widgets/base",
       "_view_module_version": "1.2.0",
       "_view_name": "StyleView",
       "description_width": ""
      }
     },
     "0f8f03c5fc584eedb5e1586fdb4a4924": {
      "model_module": "@jupyter-widgets/controls",
      "model_module_version": "1.5.0",
      "model_name": "DescriptionStyleModel",
      "state": {
       "_model_module": "@jupyter-widgets/controls",
       "_model_module_version": "1.5.0",
       "_model_name": "DescriptionStyleModel",
       "_view_count": null,
       "_view_module": "@jupyter-widgets/base",
       "_view_module_version": "1.2.0",
       "_view_name": "StyleView",
       "description_width": ""
      }
     },
     "1076f177de87488fb1664f194e5729e1": {
      "model_module": "@jupyter-widgets/controls",
      "model_module_version": "1.5.0",
      "model_name": "HTMLModel",
      "state": {
       "_dom_classes": [],
       "_model_module": "@jupyter-widgets/controls",
       "_model_module_version": "1.5.0",
       "_model_name": "HTMLModel",
       "_view_count": null,
       "_view_module": "@jupyter-widgets/controls",
       "_view_module_version": "1.5.0",
       "_view_name": "HTMLView",
       "description": "",
       "description_tooltip": null,
       "layout": "IPY_MODEL_7336ddb7012f43ef9915a6c610040463",
       "placeholder": "​",
       "style": "IPY_MODEL_c5d4e77910164d148ce8b1087df5bed8",
       "value": ""
      }
     },
     "1101beaac0f84acba27ca9034f3df025": {
      "model_module": "@jupyter-widgets/base",
      "model_module_version": "1.2.0",
      "model_name": "LayoutModel",
      "state": {
       "_model_module": "@jupyter-widgets/base",
       "_model_module_version": "1.2.0",
       "_model_name": "LayoutModel",
       "_view_count": null,
       "_view_module": "@jupyter-widgets/base",
       "_view_module_version": "1.2.0",
       "_view_name": "LayoutView",
       "align_content": null,
       "align_items": null,
       "align_self": null,
       "border": null,
       "bottom": null,
       "display": null,
       "flex": null,
       "flex_flow": null,
       "grid_area": null,
       "grid_auto_columns": null,
       "grid_auto_flow": null,
       "grid_auto_rows": null,
       "grid_column": null,
       "grid_gap": null,
       "grid_row": null,
       "grid_template_areas": null,
       "grid_template_columns": null,
       "grid_template_rows": null,
       "height": null,
       "justify_content": null,
       "justify_items": null,
       "left": null,
       "margin": null,
       "max_height": null,
       "max_width": null,
       "min_height": null,
       "min_width": null,
       "object_fit": null,
       "object_position": null,
       "order": null,
       "overflow": null,
       "overflow_x": null,
       "overflow_y": null,
       "padding": null,
       "right": null,
       "top": null,
       "visibility": null,
       "width": null
      }
     },
     "141091c8245140fa911514a5230683f4": {
      "model_module": "@jupyter-widgets/controls",
      "model_module_version": "1.5.0",
      "model_name": "HBoxModel",
      "state": {
       "_dom_classes": [],
       "_model_module": "@jupyter-widgets/controls",
       "_model_module_version": "1.5.0",
       "_model_name": "HBoxModel",
       "_view_count": null,
       "_view_module": "@jupyter-widgets/controls",
       "_view_module_version": "1.5.0",
       "_view_name": "HBoxView",
       "box_style": "",
       "children": [
        "IPY_MODEL_c12f1f03a3a841aea11f3b75d79029af",
        "IPY_MODEL_786de016c5174965a530b2b3687cb384",
        "IPY_MODEL_e569bcd67b164eb78ed67064ac989f7b"
       ],
       "layout": "IPY_MODEL_8d7ea5968264459685f2f253c041451c"
      }
     },
     "1521ea05a8614b3f89c86a7339b9e33b": {
      "model_module": "@jupyter-widgets/controls",
      "model_module_version": "1.5.0",
      "model_name": "FloatProgressModel",
      "state": {
       "_dom_classes": [],
       "_model_module": "@jupyter-widgets/controls",
       "_model_module_version": "1.5.0",
       "_model_name": "FloatProgressModel",
       "_view_count": null,
       "_view_module": "@jupyter-widgets/controls",
       "_view_module_version": "1.5.0",
       "_view_name": "ProgressView",
       "bar_style": "success",
       "description": "",
       "description_tooltip": null,
       "layout": "IPY_MODEL_aeda94a888254c62baad77b8b4791338",
       "max": 3.0,
       "min": 0.0,
       "orientation": "horizontal",
       "style": "IPY_MODEL_54683f1afef842728488765698608af4",
       "value": 3.0
      }
     },
     "1684919439de45338ca89995b9678fdc": {
      "model_module": "@jupyter-widgets/base",
      "model_module_version": "1.2.0",
      "model_name": "LayoutModel",
      "state": {
       "_model_module": "@jupyter-widgets/base",
       "_model_module_version": "1.2.0",
       "_model_name": "LayoutModel",
       "_view_count": null,
       "_view_module": "@jupyter-widgets/base",
       "_view_module_version": "1.2.0",
       "_view_name": "LayoutView",
       "align_content": null,
       "align_items": null,
       "align_self": null,
       "border": null,
       "bottom": null,
       "display": null,
       "flex": null,
       "flex_flow": null,
       "grid_area": null,
       "grid_auto_columns": null,
       "grid_auto_flow": null,
       "grid_auto_rows": null,
       "grid_column": null,
       "grid_gap": null,
       "grid_row": null,
       "grid_template_areas": null,
       "grid_template_columns": null,
       "grid_template_rows": null,
       "height": null,
       "justify_content": null,
       "justify_items": null,
       "left": null,
       "margin": null,
       "max_height": null,
       "max_width": null,
       "min_height": null,
       "min_width": null,
       "object_fit": null,
       "object_position": null,
       "order": null,
       "overflow": null,
       "overflow_x": null,
       "overflow_y": null,
       "padding": null,
       "right": null,
       "top": null,
       "visibility": null,
       "width": null
      }
     },
     "1a40d73edfe944259c977bd04e90b7aa": {
      "model_module": "@jupyter-widgets/base",
      "model_module_version": "1.2.0",
      "model_name": "LayoutModel",
      "state": {
       "_model_module": "@jupyter-widgets/base",
       "_model_module_version": "1.2.0",
       "_model_name": "LayoutModel",
       "_view_count": null,
       "_view_module": "@jupyter-widgets/base",
       "_view_module_version": "1.2.0",
       "_view_name": "LayoutView",
       "align_content": null,
       "align_items": null,
       "align_self": null,
       "border": null,
       "bottom": null,
       "display": null,
       "flex": null,
       "flex_flow": null,
       "grid_area": null,
       "grid_auto_columns": null,
       "grid_auto_flow": null,
       "grid_auto_rows": null,
       "grid_column": null,
       "grid_gap": null,
       "grid_row": null,
       "grid_template_areas": null,
       "grid_template_columns": null,
       "grid_template_rows": null,
       "height": null,
       "justify_content": null,
       "justify_items": null,
       "left": null,
       "margin": null,
       "max_height": null,
       "max_width": null,
       "min_height": null,
       "min_width": null,
       "object_fit": null,
       "object_position": null,
       "order": null,
       "overflow": null,
       "overflow_x": null,
       "overflow_y": null,
       "padding": null,
       "right": null,
       "top": null,
       "visibility": null,
       "width": null
      }
     },
     "29fa6f48fd354092bbc18648936fc4a0": {
      "model_module": "@jupyter-widgets/controls",
      "model_module_version": "1.5.0",
      "model_name": "HTMLModel",
      "state": {
       "_dom_classes": [],
       "_model_module": "@jupyter-widgets/controls",
       "_model_module_version": "1.5.0",
       "_model_name": "HTMLModel",
       "_view_count": null,
       "_view_module": "@jupyter-widgets/controls",
       "_view_module_version": "1.5.0",
       "_view_name": "HTMLView",
       "description": "",
       "description_tooltip": null,
       "layout": "IPY_MODEL_43832238c01d402a97bf03f54da1d500",
       "placeholder": "​",
       "style": "IPY_MODEL_51cabaeac24c483b92cca8d45d94f704",
       "value": " 4/4 [00:00&lt;00:00,  8.01it/s]"
      }
     },
     "2cae73701f0447daa7a8547bbdc57e3b": {
      "model_module": "@jupyter-widgets/base",
      "model_module_version": "1.2.0",
      "model_name": "LayoutModel",
      "state": {
       "_model_module": "@jupyter-widgets/base",
       "_model_module_version": "1.2.0",
       "_model_name": "LayoutModel",
       "_view_count": null,
       "_view_module": "@jupyter-widgets/base",
       "_view_module_version": "1.2.0",
       "_view_name": "LayoutView",
       "align_content": null,
       "align_items": null,
       "align_self": null,
       "border": null,
       "bottom": null,
       "display": null,
       "flex": null,
       "flex_flow": null,
       "grid_area": null,
       "grid_auto_columns": null,
       "grid_auto_flow": null,
       "grid_auto_rows": null,
       "grid_column": null,
       "grid_gap": null,
       "grid_row": null,
       "grid_template_areas": null,
       "grid_template_columns": null,
       "grid_template_rows": null,
       "height": null,
       "justify_content": null,
       "justify_items": null,
       "left": null,
       "margin": null,
       "max_height": null,
       "max_width": null,
       "min_height": null,
       "min_width": null,
       "object_fit": null,
       "object_position": null,
       "order": null,
       "overflow": null,
       "overflow_x": null,
       "overflow_y": null,
       "padding": null,
       "right": null,
       "top": null,
       "visibility": null,
       "width": null
      }
     },
     "312a4fee334b4123a5f061909cdd1c48": {
      "model_module": "@jupyter-widgets/base",
      "model_module_version": "1.2.0",
      "model_name": "LayoutModel",
      "state": {
       "_model_module": "@jupyter-widgets/base",
       "_model_module_version": "1.2.0",
       "_model_name": "LayoutModel",
       "_view_count": null,
       "_view_module": "@jupyter-widgets/base",
       "_view_module_version": "1.2.0",
       "_view_name": "LayoutView",
       "align_content": null,
       "align_items": null,
       "align_self": null,
       "border": null,
       "bottom": null,
       "display": null,
       "flex": null,
       "flex_flow": null,
       "grid_area": null,
       "grid_auto_columns": null,
       "grid_auto_flow": null,
       "grid_auto_rows": null,
       "grid_column": null,
       "grid_gap": null,
       "grid_row": null,
       "grid_template_areas": null,
       "grid_template_columns": null,
       "grid_template_rows": null,
       "height": null,
       "justify_content": null,
       "justify_items": null,
       "left": null,
       "margin": null,
       "max_height": null,
       "max_width": null,
       "min_height": null,
       "min_width": null,
       "object_fit": null,
       "object_position": null,
       "order": null,
       "overflow": null,
       "overflow_x": null,
       "overflow_y": null,
       "padding": null,
       "right": null,
       "top": null,
       "visibility": null,
       "width": null
      }
     },
     "343a58188a804bd2abd072286ab52237": {
      "model_module": "@jupyter-widgets/base",
      "model_module_version": "1.2.0",
      "model_name": "LayoutModel",
      "state": {
       "_model_module": "@jupyter-widgets/base",
       "_model_module_version": "1.2.0",
       "_model_name": "LayoutModel",
       "_view_count": null,
       "_view_module": "@jupyter-widgets/base",
       "_view_module_version": "1.2.0",
       "_view_name": "LayoutView",
       "align_content": null,
       "align_items": null,
       "align_self": null,
       "border": null,
       "bottom": null,
       "display": null,
       "flex": null,
       "flex_flow": null,
       "grid_area": null,
       "grid_auto_columns": null,
       "grid_auto_flow": null,
       "grid_auto_rows": null,
       "grid_column": null,
       "grid_gap": null,
       "grid_row": null,
       "grid_template_areas": null,
       "grid_template_columns": null,
       "grid_template_rows": null,
       "height": null,
       "justify_content": null,
       "justify_items": null,
       "left": null,
       "margin": null,
       "max_height": null,
       "max_width": null,
       "min_height": null,
       "min_width": null,
       "object_fit": null,
       "object_position": null,
       "order": null,
       "overflow": null,
       "overflow_x": null,
       "overflow_y": null,
       "padding": null,
       "right": null,
       "top": null,
       "visibility": null,
       "width": null
      }
     },
     "382165ccb82d4abe9d2e3e9c6fd4e9bb": {
      "model_module": "@jupyter-widgets/base",
      "model_module_version": "1.2.0",
      "model_name": "LayoutModel",
      "state": {
       "_model_module": "@jupyter-widgets/base",
       "_model_module_version": "1.2.0",
       "_model_name": "LayoutModel",
       "_view_count": null,
       "_view_module": "@jupyter-widgets/base",
       "_view_module_version": "1.2.0",
       "_view_name": "LayoutView",
       "align_content": null,
       "align_items": null,
       "align_self": null,
       "border": null,
       "bottom": null,
       "display": null,
       "flex": null,
       "flex_flow": null,
       "grid_area": null,
       "grid_auto_columns": null,
       "grid_auto_flow": null,
       "grid_auto_rows": null,
       "grid_column": null,
       "grid_gap": null,
       "grid_row": null,
       "grid_template_areas": null,
       "grid_template_columns": null,
       "grid_template_rows": null,
       "height": null,
       "justify_content": null,
       "justify_items": null,
       "left": null,
       "margin": null,
       "max_height": null,
       "max_width": null,
       "min_height": null,
       "min_width": null,
       "object_fit": null,
       "object_position": null,
       "order": null,
       "overflow": null,
       "overflow_x": null,
       "overflow_y": null,
       "padding": null,
       "right": null,
       "top": null,
       "visibility": null,
       "width": null
      }
     },
     "38a5c9b6f82a45d7acd57e94fc100b05": {
      "model_module": "@jupyter-widgets/controls",
      "model_module_version": "1.5.0",
      "model_name": "ProgressStyleModel",
      "state": {
       "_model_module": "@jupyter-widgets/controls",
       "_model_module_version": "1.5.0",
       "_model_name": "ProgressStyleModel",
       "_view_count": null,
       "_view_module": "@jupyter-widgets/base",
       "_view_module_version": "1.2.0",
       "_view_name": "StyleView",
       "bar_color": null,
       "description_width": ""
      }
     },
     "43832238c01d402a97bf03f54da1d500": {
      "model_module": "@jupyter-widgets/base",
      "model_module_version": "1.2.0",
      "model_name": "LayoutModel",
      "state": {
       "_model_module": "@jupyter-widgets/base",
       "_model_module_version": "1.2.0",
       "_model_name": "LayoutModel",
       "_view_count": null,
       "_view_module": "@jupyter-widgets/base",
       "_view_module_version": "1.2.0",
       "_view_name": "LayoutView",
       "align_content": null,
       "align_items": null,
       "align_self": null,
       "border": null,
       "bottom": null,
       "display": null,
       "flex": null,
       "flex_flow": null,
       "grid_area": null,
       "grid_auto_columns": null,
       "grid_auto_flow": null,
       "grid_auto_rows": null,
       "grid_column": null,
       "grid_gap": null,
       "grid_row": null,
       "grid_template_areas": null,
       "grid_template_columns": null,
       "grid_template_rows": null,
       "height": null,
       "justify_content": null,
       "justify_items": null,
       "left": null,
       "margin": null,
       "max_height": null,
       "max_width": null,
       "min_height": null,
       "min_width": null,
       "object_fit": null,
       "object_position": null,
       "order": null,
       "overflow": null,
       "overflow_x": null,
       "overflow_y": null,
       "padding": null,
       "right": null,
       "top": null,
       "visibility": null,
       "width": null
      }
     },
     "4708e6ff81a94c31a1f09fa949263c31": {
      "model_module": "@jupyter-widgets/base",
      "model_module_version": "1.2.0",
      "model_name": "LayoutModel",
      "state": {
       "_model_module": "@jupyter-widgets/base",
       "_model_module_version": "1.2.0",
       "_model_name": "LayoutModel",
       "_view_count": null,
       "_view_module": "@jupyter-widgets/base",
       "_view_module_version": "1.2.0",
       "_view_name": "LayoutView",
       "align_content": null,
       "align_items": null,
       "align_self": null,
       "border": null,
       "bottom": null,
       "display": null,
       "flex": null,
       "flex_flow": null,
       "grid_area": null,
       "grid_auto_columns": null,
       "grid_auto_flow": null,
       "grid_auto_rows": null,
       "grid_column": null,
       "grid_gap": null,
       "grid_row": null,
       "grid_template_areas": null,
       "grid_template_columns": null,
       "grid_template_rows": null,
       "height": null,
       "justify_content": null,
       "justify_items": null,
       "left": null,
       "margin": null,
       "max_height": null,
       "max_width": null,
       "min_height": null,
       "min_width": null,
       "object_fit": null,
       "object_position": null,
       "order": null,
       "overflow": null,
       "overflow_x": null,
       "overflow_y": null,
       "padding": null,
       "right": null,
       "top": null,
       "visibility": null,
       "width": null
      }
     },
     "4b498cc51b9043b4933b229b202b1163": {
      "model_module": "@jupyter-widgets/controls",
      "model_module_version": "1.5.0",
      "model_name": "ProgressStyleModel",
      "state": {
       "_model_module": "@jupyter-widgets/controls",
       "_model_module_version": "1.5.0",
       "_model_name": "ProgressStyleModel",
       "_view_count": null,
       "_view_module": "@jupyter-widgets/base",
       "_view_module_version": "1.2.0",
       "_view_name": "StyleView",
       "bar_color": null,
       "description_width": ""
      }
     },
     "519cc9e4219747e4aa190e1e2ee9167e": {
      "model_module": "@jupyter-widgets/controls",
      "model_module_version": "1.5.0",
      "model_name": "DescriptionStyleModel",
      "state": {
       "_model_module": "@jupyter-widgets/controls",
       "_model_module_version": "1.5.0",
       "_model_name": "DescriptionStyleModel",
       "_view_count": null,
       "_view_module": "@jupyter-widgets/base",
       "_view_module_version": "1.2.0",
       "_view_name": "StyleView",
       "description_width": ""
      }
     },
     "51cabaeac24c483b92cca8d45d94f704": {
      "model_module": "@jupyter-widgets/controls",
      "model_module_version": "1.5.0",
      "model_name": "DescriptionStyleModel",
      "state": {
       "_model_module": "@jupyter-widgets/controls",
       "_model_module_version": "1.5.0",
       "_model_name": "DescriptionStyleModel",
       "_view_count": null,
       "_view_module": "@jupyter-widgets/base",
       "_view_module_version": "1.2.0",
       "_view_name": "StyleView",
       "description_width": ""
      }
     },
     "54683f1afef842728488765698608af4": {
      "model_module": "@jupyter-widgets/controls",
      "model_module_version": "1.5.0",
      "model_name": "ProgressStyleModel",
      "state": {
       "_model_module": "@jupyter-widgets/controls",
       "_model_module_version": "1.5.0",
       "_model_name": "ProgressStyleModel",
       "_view_count": null,
       "_view_module": "@jupyter-widgets/base",
       "_view_module_version": "1.2.0",
       "_view_name": "StyleView",
       "bar_color": null,
       "description_width": ""
      }
     },
     "60f8ed7d693d4007869d445c15a10b5a": {
      "model_module": "@jupyter-widgets/controls",
      "model_module_version": "1.5.0",
      "model_name": "ProgressStyleModel",
      "state": {
       "_model_module": "@jupyter-widgets/controls",
       "_model_module_version": "1.5.0",
       "_model_name": "ProgressStyleModel",
       "_view_count": null,
       "_view_module": "@jupyter-widgets/base",
       "_view_module_version": "1.2.0",
       "_view_name": "StyleView",
       "bar_color": null,
       "description_width": ""
      }
     },
     "64ebca52e1184c8f8f7449bf0fb4251a": {
      "model_module": "@jupyter-widgets/controls",
      "model_module_version": "1.5.0",
      "model_name": "ProgressStyleModel",
      "state": {
       "_model_module": "@jupyter-widgets/controls",
       "_model_module_version": "1.5.0",
       "_model_name": "ProgressStyleModel",
       "_view_count": null,
       "_view_module": "@jupyter-widgets/base",
       "_view_module_version": "1.2.0",
       "_view_name": "StyleView",
       "bar_color": null,
       "description_width": ""
      }
     },
     "69872ec783544efcbb6d7f3e54d08630": {
      "model_module": "@jupyter-widgets/controls",
      "model_module_version": "1.5.0",
      "model_name": "HTMLModel",
      "state": {
       "_dom_classes": [],
       "_model_module": "@jupyter-widgets/controls",
       "_model_module_version": "1.5.0",
       "_model_name": "HTMLModel",
       "_view_count": null,
       "_view_module": "@jupyter-widgets/controls",
       "_view_module_version": "1.5.0",
       "_view_name": "HTMLView",
       "description": "",
       "description_tooltip": null,
       "layout": "IPY_MODEL_1684919439de45338ca89995b9678fdc",
       "placeholder": "​",
       "style": "IPY_MODEL_7f9c8e82a5f040d1b4e399064ed205f0",
       "value": "100%"
      }
     },
     "6c85df37a7eb44c2be3b0b8b7a5e1cd2": {
      "model_module": "@jupyter-widgets/controls",
      "model_module_version": "1.5.0",
      "model_name": "HBoxModel",
      "state": {
       "_dom_classes": [],
       "_model_module": "@jupyter-widgets/controls",
       "_model_module_version": "1.5.0",
       "_model_name": "HBoxModel",
       "_view_count": null,
       "_view_module": "@jupyter-widgets/controls",
       "_view_module_version": "1.5.0",
       "_view_name": "HBoxView",
       "box_style": "",
       "children": [
        "IPY_MODEL_7e2b62560f924f99b937ddc49c056873",
        "IPY_MODEL_79fbc07620a24afb8decc900dd020ef8",
        "IPY_MODEL_9d9ff0f7c6f94ff793e0f0eb83c36737"
       ],
       "layout": "IPY_MODEL_343a58188a804bd2abd072286ab52237"
      }
     },
     "70d0f5c662284838a512ec94e88460a9": {
      "model_module": "@jupyter-widgets/controls",
      "model_module_version": "1.5.0",
      "model_name": "DescriptionStyleModel",
      "state": {
       "_model_module": "@jupyter-widgets/controls",
       "_model_module_version": "1.5.0",
       "_model_name": "DescriptionStyleModel",
       "_view_count": null,
       "_view_module": "@jupyter-widgets/base",
       "_view_module_version": "1.2.0",
       "_view_name": "StyleView",
       "description_width": ""
      }
     },
     "70d2da62669a4bc59d5405505c0d4c30": {
      "model_module": "@jupyter-widgets/controls",
      "model_module_version": "1.5.0",
      "model_name": "HTMLModel",
      "state": {
       "_dom_classes": [],
       "_model_module": "@jupyter-widgets/controls",
       "_model_module_version": "1.5.0",
       "_model_name": "HTMLModel",
       "_view_count": null,
       "_view_module": "@jupyter-widgets/controls",
       "_view_module_version": "1.5.0",
       "_view_name": "HTMLView",
       "description": "",
       "description_tooltip": null,
       "layout": "IPY_MODEL_73b51be547df4a449b72fdf21275c2d7",
       "placeholder": "​",
       "style": "IPY_MODEL_519cc9e4219747e4aa190e1e2ee9167e",
       "value": "100%"
      }
     },
     "71adc9b50822483e875c4d88b7ed4e24": {
      "model_module": "@jupyter-widgets/base",
      "model_module_version": "1.2.0",
      "model_name": "LayoutModel",
      "state": {
       "_model_module": "@jupyter-widgets/base",
       "_model_module_version": "1.2.0",
       "_model_name": "LayoutModel",
       "_view_count": null,
       "_view_module": "@jupyter-widgets/base",
       "_view_module_version": "1.2.0",
       "_view_name": "LayoutView",
       "align_content": null,
       "align_items": null,
       "align_self": null,
       "border": null,
       "bottom": null,
       "display": null,
       "flex": null,
       "flex_flow": null,
       "grid_area": null,
       "grid_auto_columns": null,
       "grid_auto_flow": null,
       "grid_auto_rows": null,
       "grid_column": null,
       "grid_gap": null,
       "grid_row": null,
       "grid_template_areas": null,
       "grid_template_columns": null,
       "grid_template_rows": null,
       "height": null,
       "justify_content": null,
       "justify_items": null,
       "left": null,
       "margin": null,
       "max_height": null,
       "max_width": null,
       "min_height": null,
       "min_width": null,
       "object_fit": null,
       "object_position": null,
       "order": null,
       "overflow": null,
       "overflow_x": null,
       "overflow_y": null,
       "padding": null,
       "right": null,
       "top": null,
       "visibility": null,
       "width": null
      }
     },
     "7336ddb7012f43ef9915a6c610040463": {
      "model_module": "@jupyter-widgets/base",
      "model_module_version": "1.2.0",
      "model_name": "LayoutModel",
      "state": {
       "_model_module": "@jupyter-widgets/base",
       "_model_module_version": "1.2.0",
       "_model_name": "LayoutModel",
       "_view_count": null,
       "_view_module": "@jupyter-widgets/base",
       "_view_module_version": "1.2.0",
       "_view_name": "LayoutView",
       "align_content": null,
       "align_items": null,
       "align_self": null,
       "border": null,
       "bottom": null,
       "display": null,
       "flex": null,
       "flex_flow": null,
       "grid_area": null,
       "grid_auto_columns": null,
       "grid_auto_flow": null,
       "grid_auto_rows": null,
       "grid_column": null,
       "grid_gap": null,
       "grid_row": null,
       "grid_template_areas": null,
       "grid_template_columns": null,
       "grid_template_rows": null,
       "height": null,
       "justify_content": null,
       "justify_items": null,
       "left": null,
       "margin": null,
       "max_height": null,
       "max_width": null,
       "min_height": null,
       "min_width": null,
       "object_fit": null,
       "object_position": null,
       "order": null,
       "overflow": null,
       "overflow_x": null,
       "overflow_y": null,
       "padding": null,
       "right": null,
       "top": null,
       "visibility": null,
       "width": null
      }
     },
     "73b51be547df4a449b72fdf21275c2d7": {
      "model_module": "@jupyter-widgets/base",
      "model_module_version": "1.2.0",
      "model_name": "LayoutModel",
      "state": {
       "_model_module": "@jupyter-widgets/base",
       "_model_module_version": "1.2.0",
       "_model_name": "LayoutModel",
       "_view_count": null,
       "_view_module": "@jupyter-widgets/base",
       "_view_module_version": "1.2.0",
       "_view_name": "LayoutView",
       "align_content": null,
       "align_items": null,
       "align_self": null,
       "border": null,
       "bottom": null,
       "display": null,
       "flex": null,
       "flex_flow": null,
       "grid_area": null,
       "grid_auto_columns": null,
       "grid_auto_flow": null,
       "grid_auto_rows": null,
       "grid_column": null,
       "grid_gap": null,
       "grid_row": null,
       "grid_template_areas": null,
       "grid_template_columns": null,
       "grid_template_rows": null,
       "height": null,
       "justify_content": null,
       "justify_items": null,
       "left": null,
       "margin": null,
       "max_height": null,
       "max_width": null,
       "min_height": null,
       "min_width": null,
       "object_fit": null,
       "object_position": null,
       "order": null,
       "overflow": null,
       "overflow_x": null,
       "overflow_y": null,
       "padding": null,
       "right": null,
       "top": null,
       "visibility": null,
       "width": null
      }
     },
     "786a9f332ce441eda1c1ef95398e108d": {
      "model_module": "@jupyter-widgets/base",
      "model_module_version": "1.2.0",
      "model_name": "LayoutModel",
      "state": {
       "_model_module": "@jupyter-widgets/base",
       "_model_module_version": "1.2.0",
       "_model_name": "LayoutModel",
       "_view_count": null,
       "_view_module": "@jupyter-widgets/base",
       "_view_module_version": "1.2.0",
       "_view_name": "LayoutView",
       "align_content": null,
       "align_items": null,
       "align_self": null,
       "border": null,
       "bottom": null,
       "display": null,
       "flex": null,
       "flex_flow": null,
       "grid_area": null,
       "grid_auto_columns": null,
       "grid_auto_flow": null,
       "grid_auto_rows": null,
       "grid_column": null,
       "grid_gap": null,
       "grid_row": null,
       "grid_template_areas": null,
       "grid_template_columns": null,
       "grid_template_rows": null,
       "height": null,
       "justify_content": null,
       "justify_items": null,
       "left": null,
       "margin": null,
       "max_height": null,
       "max_width": null,
       "min_height": null,
       "min_width": null,
       "object_fit": null,
       "object_position": null,
       "order": null,
       "overflow": null,
       "overflow_x": null,
       "overflow_y": null,
       "padding": null,
       "right": null,
       "top": null,
       "visibility": null,
       "width": "20px"
      }
     },
     "786de016c5174965a530b2b3687cb384": {
      "model_module": "@jupyter-widgets/controls",
      "model_module_version": "1.5.0",
      "model_name": "FloatProgressModel",
      "state": {
       "_dom_classes": [],
       "_model_module": "@jupyter-widgets/controls",
       "_model_module_version": "1.5.0",
       "_model_name": "FloatProgressModel",
       "_view_count": null,
       "_view_module": "@jupyter-widgets/controls",
       "_view_module_version": "1.5.0",
       "_view_name": "ProgressView",
       "bar_style": "success",
       "description": "",
       "description_tooltip": null,
       "layout": "IPY_MODEL_1101beaac0f84acba27ca9034f3df025",
       "max": 162.0,
       "min": 0.0,
       "orientation": "horizontal",
       "style": "IPY_MODEL_64ebca52e1184c8f8f7449bf0fb4251a",
       "value": 162.0
      }
     },
     "792bbf68aa344011be4f8c14c220717d": {
      "model_module": "@jupyter-widgets/base",
      "model_module_version": "1.2.0",
      "model_name": "LayoutModel",
      "state": {
       "_model_module": "@jupyter-widgets/base",
       "_model_module_version": "1.2.0",
       "_model_name": "LayoutModel",
       "_view_count": null,
       "_view_module": "@jupyter-widgets/base",
       "_view_module_version": "1.2.0",
       "_view_name": "LayoutView",
       "align_content": null,
       "align_items": null,
       "align_self": null,
       "border": null,
       "bottom": null,
       "display": null,
       "flex": null,
       "flex_flow": null,
       "grid_area": null,
       "grid_auto_columns": null,
       "grid_auto_flow": null,
       "grid_auto_rows": null,
       "grid_column": null,
       "grid_gap": null,
       "grid_row": null,
       "grid_template_areas": null,
       "grid_template_columns": null,
       "grid_template_rows": null,
       "height": null,
       "justify_content": null,
       "justify_items": null,
       "left": null,
       "margin": null,
       "max_height": null,
       "max_width": null,
       "min_height": null,
       "min_width": null,
       "object_fit": null,
       "object_position": null,
       "order": null,
       "overflow": null,
       "overflow_x": null,
       "overflow_y": null,
       "padding": null,
       "right": null,
       "top": null,
       "visibility": null,
       "width": null
      }
     },
     "797c4328f5bb4754af5d8a58625df492": {
      "model_module": "@jupyter-widgets/base",
      "model_module_version": "1.2.0",
      "model_name": "LayoutModel",
      "state": {
       "_model_module": "@jupyter-widgets/base",
       "_model_module_version": "1.2.0",
       "_model_name": "LayoutModel",
       "_view_count": null,
       "_view_module": "@jupyter-widgets/base",
       "_view_module_version": "1.2.0",
       "_view_name": "LayoutView",
       "align_content": null,
       "align_items": null,
       "align_self": null,
       "border": null,
       "bottom": null,
       "display": null,
       "flex": null,
       "flex_flow": null,
       "grid_area": null,
       "grid_auto_columns": null,
       "grid_auto_flow": null,
       "grid_auto_rows": null,
       "grid_column": null,
       "grid_gap": null,
       "grid_row": null,
       "grid_template_areas": null,
       "grid_template_columns": null,
       "grid_template_rows": null,
       "height": null,
       "justify_content": null,
       "justify_items": null,
       "left": null,
       "margin": null,
       "max_height": null,
       "max_width": null,
       "min_height": null,
       "min_width": null,
       "object_fit": null,
       "object_position": null,
       "order": null,
       "overflow": null,
       "overflow_x": null,
       "overflow_y": null,
       "padding": null,
       "right": null,
       "top": null,
       "visibility": null,
       "width": null
      }
     },
     "79fbc07620a24afb8decc900dd020ef8": {
      "model_module": "@jupyter-widgets/controls",
      "model_module_version": "1.5.0",
      "model_name": "FloatProgressModel",
      "state": {
       "_dom_classes": [],
       "_model_module": "@jupyter-widgets/controls",
       "_model_module_version": "1.5.0",
       "_model_name": "FloatProgressModel",
       "_view_count": null,
       "_view_module": "@jupyter-widgets/controls",
       "_view_module_version": "1.5.0",
       "_view_name": "ProgressView",
       "bar_style": "success",
       "description": "",
       "description_tooltip": null,
       "layout": "IPY_MODEL_2cae73701f0447daa7a8547bbdc57e3b",
       "max": 4.0,
       "min": 0.0,
       "orientation": "horizontal",
       "style": "IPY_MODEL_c70bab2198dc4afba8af0bf5e1b4d6c1",
       "value": 4.0
      }
     },
     "7c4dcb77796340dc820ce0a5d34cf745": {
      "model_module": "@jupyter-widgets/controls",
      "model_module_version": "1.5.0",
      "model_name": "HTMLModel",
      "state": {
       "_dom_classes": [],
       "_model_module": "@jupyter-widgets/controls",
       "_model_module_version": "1.5.0",
       "_model_name": "HTMLModel",
       "_view_count": null,
       "_view_module": "@jupyter-widgets/controls",
       "_view_module_version": "1.5.0",
       "_view_name": "HTMLView",
       "description": "",
       "description_tooltip": null,
       "layout": "IPY_MODEL_797c4328f5bb4754af5d8a58625df492",
       "placeholder": "​",
       "style": "IPY_MODEL_b0ce20c2f6f4462bb6d9c220f6023cbd",
       "value": "100%"
      }
     },
     "7d422e0aff844e5081001ffecf62c5e0": {
      "model_module": "@jupyter-widgets/base",
      "model_module_version": "1.2.0",
      "model_name": "LayoutModel",
      "state": {
       "_model_module": "@jupyter-widgets/base",
       "_model_module_version": "1.2.0",
       "_model_name": "LayoutModel",
       "_view_count": null,
       "_view_module": "@jupyter-widgets/base",
       "_view_module_version": "1.2.0",
       "_view_name": "LayoutView",
       "align_content": null,
       "align_items": null,
       "align_self": null,
       "border": null,
       "bottom": null,
       "display": null,
       "flex": null,
       "flex_flow": null,
       "grid_area": null,
       "grid_auto_columns": null,
       "grid_auto_flow": null,
       "grid_auto_rows": null,
       "grid_column": null,
       "grid_gap": null,
       "grid_row": null,
       "grid_template_areas": null,
       "grid_template_columns": null,
       "grid_template_rows": null,
       "height": null,
       "justify_content": null,
       "justify_items": null,
       "left": null,
       "margin": null,
       "max_height": null,
       "max_width": null,
       "min_height": null,
       "min_width": null,
       "object_fit": null,
       "object_position": null,
       "order": null,
       "overflow": null,
       "overflow_x": null,
       "overflow_y": null,
       "padding": null,
       "right": null,
       "top": null,
       "visibility": null,
       "width": null
      }
     },
     "7e2b62560f924f99b937ddc49c056873": {
      "model_module": "@jupyter-widgets/controls",
      "model_module_version": "1.5.0",
      "model_name": "HTMLModel",
      "state": {
       "_dom_classes": [],
       "_model_module": "@jupyter-widgets/controls",
       "_model_module_version": "1.5.0",
       "_model_name": "HTMLModel",
       "_view_count": null,
       "_view_module": "@jupyter-widgets/controls",
       "_view_module_version": "1.5.0",
       "_view_name": "HTMLView",
       "description": "",
       "description_tooltip": null,
       "layout": "IPY_MODEL_9b04e4ca49384796a5572d81742dca70",
       "placeholder": "​",
       "style": "IPY_MODEL_0c3f89f9342649b9b500cd9de4430505",
       "value": "100%"
      }
     },
     "7f79494790c54cff930404d48bf7791f": {
      "model_module": "@jupyter-widgets/controls",
      "model_module_version": "1.5.0",
      "model_name": "DescriptionStyleModel",
      "state": {
       "_model_module": "@jupyter-widgets/controls",
       "_model_module_version": "1.5.0",
       "_model_name": "DescriptionStyleModel",
       "_view_count": null,
       "_view_module": "@jupyter-widgets/base",
       "_view_module_version": "1.2.0",
       "_view_name": "StyleView",
       "description_width": ""
      }
     },
     "7f9c8e82a5f040d1b4e399064ed205f0": {
      "model_module": "@jupyter-widgets/controls",
      "model_module_version": "1.5.0",
      "model_name": "DescriptionStyleModel",
      "state": {
       "_model_module": "@jupyter-widgets/controls",
       "_model_module_version": "1.5.0",
       "_model_name": "DescriptionStyleModel",
       "_view_count": null,
       "_view_module": "@jupyter-widgets/base",
       "_view_module_version": "1.2.0",
       "_view_name": "StyleView",
       "description_width": ""
      }
     },
     "7fbd8f765ec643728d464473d839873a": {
      "model_module": "@jupyter-widgets/controls",
      "model_module_version": "1.5.0",
      "model_name": "HBoxModel",
      "state": {
       "_dom_classes": [],
       "_model_module": "@jupyter-widgets/controls",
       "_model_module_version": "1.5.0",
       "_model_name": "HBoxModel",
       "_view_count": null,
       "_view_module": "@jupyter-widgets/controls",
       "_view_module_version": "1.5.0",
       "_view_name": "HBoxView",
       "box_style": "",
       "children": [
        "IPY_MODEL_70d2da62669a4bc59d5405505c0d4c30",
        "IPY_MODEL_81a246934e5a4be1b8cfd0d7294384f1",
        "IPY_MODEL_d2170ffe335d4aecb322b63bbb57aadc"
       ],
       "layout": "IPY_MODEL_d3aa4526e93d447bbbd00381aba8f31c"
      }
     },
     "8017791c26ef42f6a838b2810550cbdc": {
      "model_module": "@jupyter-widgets/base",
      "model_module_version": "1.2.0",
      "model_name": "LayoutModel",
      "state": {
       "_model_module": "@jupyter-widgets/base",
       "_model_module_version": "1.2.0",
       "_model_name": "LayoutModel",
       "_view_count": null,
       "_view_module": "@jupyter-widgets/base",
       "_view_module_version": "1.2.0",
       "_view_name": "LayoutView",
       "align_content": null,
       "align_items": null,
       "align_self": null,
       "border": null,
       "bottom": null,
       "display": null,
       "flex": null,
       "flex_flow": null,
       "grid_area": null,
       "grid_auto_columns": null,
       "grid_auto_flow": null,
       "grid_auto_rows": null,
       "grid_column": null,
       "grid_gap": null,
       "grid_row": null,
       "grid_template_areas": null,
       "grid_template_columns": null,
       "grid_template_rows": null,
       "height": null,
       "justify_content": null,
       "justify_items": null,
       "left": null,
       "margin": null,
       "max_height": null,
       "max_width": null,
       "min_height": null,
       "min_width": null,
       "object_fit": null,
       "object_position": null,
       "order": null,
       "overflow": null,
       "overflow_x": null,
       "overflow_y": null,
       "padding": null,
       "right": null,
       "top": null,
       "visibility": null,
       "width": null
      }
     },
     "81a246934e5a4be1b8cfd0d7294384f1": {
      "model_module": "@jupyter-widgets/controls",
      "model_module_version": "1.5.0",
      "model_name": "FloatProgressModel",
      "state": {
       "_dom_classes": [],
       "_model_module": "@jupyter-widgets/controls",
       "_model_module_version": "1.5.0",
       "_model_name": "FloatProgressModel",
       "_view_count": null,
       "_view_module": "@jupyter-widgets/controls",
       "_view_module_version": "1.5.0",
       "_view_name": "ProgressView",
       "bar_style": "success",
       "description": "",
       "description_tooltip": null,
       "layout": "IPY_MODEL_792bbf68aa344011be4f8c14c220717d",
       "max": 4.0,
       "min": 0.0,
       "orientation": "horizontal",
       "style": "IPY_MODEL_60f8ed7d693d4007869d445c15a10b5a",
       "value": 4.0
      }
     },
     "8543d0c3e26f4391907b3c2b4a05272b": {
      "model_module": "@jupyter-widgets/base",
      "model_module_version": "1.2.0",
      "model_name": "LayoutModel",
      "state": {
       "_model_module": "@jupyter-widgets/base",
       "_model_module_version": "1.2.0",
       "_model_name": "LayoutModel",
       "_view_count": null,
       "_view_module": "@jupyter-widgets/base",
       "_view_module_version": "1.2.0",
       "_view_name": "LayoutView",
       "align_content": null,
       "align_items": null,
       "align_self": null,
       "border": null,
       "bottom": null,
       "display": null,
       "flex": null,
       "flex_flow": null,
       "grid_area": null,
       "grid_auto_columns": null,
       "grid_auto_flow": null,
       "grid_auto_rows": null,
       "grid_column": null,
       "grid_gap": null,
       "grid_row": null,
       "grid_template_areas": null,
       "grid_template_columns": null,
       "grid_template_rows": null,
       "height": null,
       "justify_content": null,
       "justify_items": null,
       "left": null,
       "margin": null,
       "max_height": null,
       "max_width": null,
       "min_height": null,
       "min_width": null,
       "object_fit": null,
       "object_position": null,
       "order": null,
       "overflow": null,
       "overflow_x": null,
       "overflow_y": null,
       "padding": null,
       "right": null,
       "top": null,
       "visibility": null,
       "width": null
      }
     },
     "8749526df9954abb8fb8b5bee2b84d40": {
      "model_module": "@jupyter-widgets/controls",
      "model_module_version": "1.5.0",
      "model_name": "FloatProgressModel",
      "state": {
       "_dom_classes": [],
       "_model_module": "@jupyter-widgets/controls",
       "_model_module_version": "1.5.0",
       "_model_name": "FloatProgressModel",
       "_view_count": null,
       "_view_module": "@jupyter-widgets/controls",
       "_view_module_version": "1.5.0",
       "_view_name": "ProgressView",
       "bar_style": "success",
       "description": "",
       "description_tooltip": null,
       "layout": "IPY_MODEL_afe8cebfafbb49b4b06a9f2647a7f3bd",
       "max": 4.0,
       "min": 0.0,
       "orientation": "horizontal",
       "style": "IPY_MODEL_96a6d5875e8c4672bcbe1b5e41791b6c",
       "value": 4.0
      }
     },
     "8b354dec27844ef29c2ef7eb47e68db6": {
      "model_module": "@jupyter-widgets/base",
      "model_module_version": "1.2.0",
      "model_name": "LayoutModel",
      "state": {
       "_model_module": "@jupyter-widgets/base",
       "_model_module_version": "1.2.0",
       "_model_name": "LayoutModel",
       "_view_count": null,
       "_view_module": "@jupyter-widgets/base",
       "_view_module_version": "1.2.0",
       "_view_name": "LayoutView",
       "align_content": null,
       "align_items": null,
       "align_self": null,
       "border": null,
       "bottom": null,
       "display": null,
       "flex": null,
       "flex_flow": null,
       "grid_area": null,
       "grid_auto_columns": null,
       "grid_auto_flow": null,
       "grid_auto_rows": null,
       "grid_column": null,
       "grid_gap": null,
       "grid_row": null,
       "grid_template_areas": null,
       "grid_template_columns": null,
       "grid_template_rows": null,
       "height": null,
       "justify_content": null,
       "justify_items": null,
       "left": null,
       "margin": null,
       "max_height": null,
       "max_width": null,
       "min_height": null,
       "min_width": null,
       "object_fit": null,
       "object_position": null,
       "order": null,
       "overflow": null,
       "overflow_x": null,
       "overflow_y": null,
       "padding": null,
       "right": null,
       "top": null,
       "visibility": null,
       "width": null
      }
     },
     "8d01ae68ee1340d58d41293da157d5bb": {
      "model_module": "@jupyter-widgets/controls",
      "model_module_version": "1.5.0",
      "model_name": "HTMLModel",
      "state": {
       "_dom_classes": [],
       "_model_module": "@jupyter-widgets/controls",
       "_model_module_version": "1.5.0",
       "_model_name": "HTMLModel",
       "_view_count": null,
       "_view_module": "@jupyter-widgets/controls",
       "_view_module_version": "1.5.0",
       "_view_name": "HTMLView",
       "description": "",
       "description_tooltip": null,
       "layout": "IPY_MODEL_b1a59107667241aba3cbd30e4a6f1f34",
       "placeholder": "​",
       "style": "IPY_MODEL_d9a3c13c235943758bf5b80096d93262",
       "value": " 3/3 [00:00&lt;00:00, 107.08it/s]"
      }
     },
     "8d7ea5968264459685f2f253c041451c": {
      "model_module": "@jupyter-widgets/base",
      "model_module_version": "1.2.0",
      "model_name": "LayoutModel",
      "state": {
       "_model_module": "@jupyter-widgets/base",
       "_model_module_version": "1.2.0",
       "_model_name": "LayoutModel",
       "_view_count": null,
       "_view_module": "@jupyter-widgets/base",
       "_view_module_version": "1.2.0",
       "_view_name": "LayoutView",
       "align_content": null,
       "align_items": null,
       "align_self": null,
       "border": null,
       "bottom": null,
       "display": null,
       "flex": null,
       "flex_flow": null,
       "grid_area": null,
       "grid_auto_columns": null,
       "grid_auto_flow": null,
       "grid_auto_rows": null,
       "grid_column": null,
       "grid_gap": null,
       "grid_row": null,
       "grid_template_areas": null,
       "grid_template_columns": null,
       "grid_template_rows": null,
       "height": null,
       "justify_content": null,
       "justify_items": null,
       "left": null,
       "margin": null,
       "max_height": null,
       "max_width": null,
       "min_height": null,
       "min_width": null,
       "object_fit": null,
       "object_position": null,
       "order": null,
       "overflow": null,
       "overflow_x": null,
       "overflow_y": null,
       "padding": null,
       "right": null,
       "top": null,
       "visibility": null,
       "width": null
      }
     },
     "9233b7489aa3426cad2f35c09299de4c": {
      "model_module": "@jupyter-widgets/controls",
      "model_module_version": "1.5.0",
      "model_name": "HBoxModel",
      "state": {
       "_dom_classes": [],
       "_model_module": "@jupyter-widgets/controls",
       "_model_module_version": "1.5.0",
       "_model_name": "HBoxModel",
       "_view_count": null,
       "_view_module": "@jupyter-widgets/controls",
       "_view_module_version": "1.5.0",
       "_view_name": "HBoxView",
       "box_style": "",
       "children": [
        "IPY_MODEL_1076f177de87488fb1664f194e5729e1",
        "IPY_MODEL_f849637247ed4911855e354f81d1dc7f",
        "IPY_MODEL_d4dcf671c09d489089a5bc3b3d67b135"
       ],
       "layout": "IPY_MODEL_8017791c26ef42f6a838b2810550cbdc"
      }
     },
     "96a6d5875e8c4672bcbe1b5e41791b6c": {
      "model_module": "@jupyter-widgets/controls",
      "model_module_version": "1.5.0",
      "model_name": "ProgressStyleModel",
      "state": {
       "_model_module": "@jupyter-widgets/controls",
       "_model_module_version": "1.5.0",
       "_model_name": "ProgressStyleModel",
       "_view_count": null,
       "_view_module": "@jupyter-widgets/base",
       "_view_module_version": "1.2.0",
       "_view_name": "StyleView",
       "bar_color": null,
       "description_width": ""
      }
     },
     "9b04e4ca49384796a5572d81742dca70": {
      "model_module": "@jupyter-widgets/base",
      "model_module_version": "1.2.0",
      "model_name": "LayoutModel",
      "state": {
       "_model_module": "@jupyter-widgets/base",
       "_model_module_version": "1.2.0",
       "_model_name": "LayoutModel",
       "_view_count": null,
       "_view_module": "@jupyter-widgets/base",
       "_view_module_version": "1.2.0",
       "_view_name": "LayoutView",
       "align_content": null,
       "align_items": null,
       "align_self": null,
       "border": null,
       "bottom": null,
       "display": null,
       "flex": null,
       "flex_flow": null,
       "grid_area": null,
       "grid_auto_columns": null,
       "grid_auto_flow": null,
       "grid_auto_rows": null,
       "grid_column": null,
       "grid_gap": null,
       "grid_row": null,
       "grid_template_areas": null,
       "grid_template_columns": null,
       "grid_template_rows": null,
       "height": null,
       "justify_content": null,
       "justify_items": null,
       "left": null,
       "margin": null,
       "max_height": null,
       "max_width": null,
       "min_height": null,
       "min_width": null,
       "object_fit": null,
       "object_position": null,
       "order": null,
       "overflow": null,
       "overflow_x": null,
       "overflow_y": null,
       "padding": null,
       "right": null,
       "top": null,
       "visibility": null,
       "width": null
      }
     },
     "9d9ff0f7c6f94ff793e0f0eb83c36737": {
      "model_module": "@jupyter-widgets/controls",
      "model_module_version": "1.5.0",
      "model_name": "HTMLModel",
      "state": {
       "_dom_classes": [],
       "_model_module": "@jupyter-widgets/controls",
       "_model_module_version": "1.5.0",
       "_model_name": "HTMLModel",
       "_view_count": null,
       "_view_module": "@jupyter-widgets/controls",
       "_view_module_version": "1.5.0",
       "_view_name": "HTMLView",
       "description": "",
       "description_tooltip": null,
       "layout": "IPY_MODEL_eacb088039a24046a15f818ae5ac1df3",
       "placeholder": "​",
       "style": "IPY_MODEL_cc6310fe64e14216855bb87822c51193",
       "value": " 4/4 [00:00&lt;00:00, 75.70it/s]"
      }
     },
     "a22c2062b5c5401291a6027e351cb058": {
      "model_module": "@jupyter-widgets/base",
      "model_module_version": "1.2.0",
      "model_name": "LayoutModel",
      "state": {
       "_model_module": "@jupyter-widgets/base",
       "_model_module_version": "1.2.0",
       "_model_name": "LayoutModel",
       "_view_count": null,
       "_view_module": "@jupyter-widgets/base",
       "_view_module_version": "1.2.0",
       "_view_name": "LayoutView",
       "align_content": null,
       "align_items": null,
       "align_self": null,
       "border": null,
       "bottom": null,
       "display": null,
       "flex": null,
       "flex_flow": null,
       "grid_area": null,
       "grid_auto_columns": null,
       "grid_auto_flow": null,
       "grid_auto_rows": null,
       "grid_column": null,
       "grid_gap": null,
       "grid_row": null,
       "grid_template_areas": null,
       "grid_template_columns": null,
       "grid_template_rows": null,
       "height": null,
       "justify_content": null,
       "justify_items": null,
       "left": null,
       "margin": null,
       "max_height": null,
       "max_width": null,
       "min_height": null,
       "min_width": null,
       "object_fit": null,
       "object_position": null,
       "order": null,
       "overflow": null,
       "overflow_x": null,
       "overflow_y": null,
       "padding": null,
       "right": null,
       "top": null,
       "visibility": null,
       "width": null
      }
     },
     "a3df9a23c72d4d8db0fe999c9327b485": {
      "model_module": "@jupyter-widgets/controls",
      "model_module_version": "1.5.0",
      "model_name": "HBoxModel",
      "state": {
       "_dom_classes": [],
       "_model_module": "@jupyter-widgets/controls",
       "_model_module_version": "1.5.0",
       "_model_name": "HBoxModel",
       "_view_count": null,
       "_view_module": "@jupyter-widgets/controls",
       "_view_module_version": "1.5.0",
       "_view_name": "HBoxView",
       "box_style": "",
       "children": [
        "IPY_MODEL_cc767a3b904149db996d63cf48e2f4b6",
        "IPY_MODEL_8749526df9954abb8fb8b5bee2b84d40",
        "IPY_MODEL_f2662ceb9c0046b8a62e0877b8eb983e"
       ],
       "layout": "IPY_MODEL_dbde5aed7a194c9a8a49c3acc1fc3ad6"
      }
     },
     "a4251d2248d84262a4c57ca2fd47cd2c": {
      "model_module": "@jupyter-widgets/base",
      "model_module_version": "1.2.0",
      "model_name": "LayoutModel",
      "state": {
       "_model_module": "@jupyter-widgets/base",
       "_model_module_version": "1.2.0",
       "_model_name": "LayoutModel",
       "_view_count": null,
       "_view_module": "@jupyter-widgets/base",
       "_view_module_version": "1.2.0",
       "_view_name": "LayoutView",
       "align_content": null,
       "align_items": null,
       "align_self": null,
       "border": null,
       "bottom": null,
       "display": null,
       "flex": null,
       "flex_flow": null,
       "grid_area": null,
       "grid_auto_columns": null,
       "grid_auto_flow": null,
       "grid_auto_rows": null,
       "grid_column": null,
       "grid_gap": null,
       "grid_row": null,
       "grid_template_areas": null,
       "grid_template_columns": null,
       "grid_template_rows": null,
       "height": null,
       "justify_content": null,
       "justify_items": null,
       "left": null,
       "margin": null,
       "max_height": null,
       "max_width": null,
       "min_height": null,
       "min_width": null,
       "object_fit": null,
       "object_position": null,
       "order": null,
       "overflow": null,
       "overflow_x": null,
       "overflow_y": null,
       "padding": null,
       "right": null,
       "top": null,
       "visibility": null,
       "width": null
      }
     },
     "a8466d1e13ab4062a2817e3c06064701": {
      "model_module": "@jupyter-widgets/base",
      "model_module_version": "1.2.0",
      "model_name": "LayoutModel",
      "state": {
       "_model_module": "@jupyter-widgets/base",
       "_model_module_version": "1.2.0",
       "_model_name": "LayoutModel",
       "_view_count": null,
       "_view_module": "@jupyter-widgets/base",
       "_view_module_version": "1.2.0",
       "_view_name": "LayoutView",
       "align_content": null,
       "align_items": null,
       "align_self": null,
       "border": null,
       "bottom": null,
       "display": null,
       "flex": null,
       "flex_flow": null,
       "grid_area": null,
       "grid_auto_columns": null,
       "grid_auto_flow": null,
       "grid_auto_rows": null,
       "grid_column": null,
       "grid_gap": null,
       "grid_row": null,
       "grid_template_areas": null,
       "grid_template_columns": null,
       "grid_template_rows": null,
       "height": null,
       "justify_content": null,
       "justify_items": null,
       "left": null,
       "margin": null,
       "max_height": null,
       "max_width": null,
       "min_height": null,
       "min_width": null,
       "object_fit": null,
       "object_position": null,
       "order": null,
       "overflow": null,
       "overflow_x": null,
       "overflow_y": null,
       "padding": null,
       "right": null,
       "top": null,
       "visibility": null,
       "width": null
      }
     },
     "aeda94a888254c62baad77b8b4791338": {
      "model_module": "@jupyter-widgets/base",
      "model_module_version": "1.2.0",
      "model_name": "LayoutModel",
      "state": {
       "_model_module": "@jupyter-widgets/base",
       "_model_module_version": "1.2.0",
       "_model_name": "LayoutModel",
       "_view_count": null,
       "_view_module": "@jupyter-widgets/base",
       "_view_module_version": "1.2.0",
       "_view_name": "LayoutView",
       "align_content": null,
       "align_items": null,
       "align_self": null,
       "border": null,
       "bottom": null,
       "display": null,
       "flex": null,
       "flex_flow": null,
       "grid_area": null,
       "grid_auto_columns": null,
       "grid_auto_flow": null,
       "grid_auto_rows": null,
       "grid_column": null,
       "grid_gap": null,
       "grid_row": null,
       "grid_template_areas": null,
       "grid_template_columns": null,
       "grid_template_rows": null,
       "height": null,
       "justify_content": null,
       "justify_items": null,
       "left": null,
       "margin": null,
       "max_height": null,
       "max_width": null,
       "min_height": null,
       "min_width": null,
       "object_fit": null,
       "object_position": null,
       "order": null,
       "overflow": null,
       "overflow_x": null,
       "overflow_y": null,
       "padding": null,
       "right": null,
       "top": null,
       "visibility": null,
       "width": null
      }
     },
     "afe8cebfafbb49b4b06a9f2647a7f3bd": {
      "model_module": "@jupyter-widgets/base",
      "model_module_version": "1.2.0",
      "model_name": "LayoutModel",
      "state": {
       "_model_module": "@jupyter-widgets/base",
       "_model_module_version": "1.2.0",
       "_model_name": "LayoutModel",
       "_view_count": null,
       "_view_module": "@jupyter-widgets/base",
       "_view_module_version": "1.2.0",
       "_view_name": "LayoutView",
       "align_content": null,
       "align_items": null,
       "align_self": null,
       "border": null,
       "bottom": null,
       "display": null,
       "flex": null,
       "flex_flow": null,
       "grid_area": null,
       "grid_auto_columns": null,
       "grid_auto_flow": null,
       "grid_auto_rows": null,
       "grid_column": null,
       "grid_gap": null,
       "grid_row": null,
       "grid_template_areas": null,
       "grid_template_columns": null,
       "grid_template_rows": null,
       "height": null,
       "justify_content": null,
       "justify_items": null,
       "left": null,
       "margin": null,
       "max_height": null,
       "max_width": null,
       "min_height": null,
       "min_width": null,
       "object_fit": null,
       "object_position": null,
       "order": null,
       "overflow": null,
       "overflow_x": null,
       "overflow_y": null,
       "padding": null,
       "right": null,
       "top": null,
       "visibility": null,
       "width": null
      }
     },
     "b0ce20c2f6f4462bb6d9c220f6023cbd": {
      "model_module": "@jupyter-widgets/controls",
      "model_module_version": "1.5.0",
      "model_name": "DescriptionStyleModel",
      "state": {
       "_model_module": "@jupyter-widgets/controls",
       "_model_module_version": "1.5.0",
       "_model_name": "DescriptionStyleModel",
       "_view_count": null,
       "_view_module": "@jupyter-widgets/base",
       "_view_module_version": "1.2.0",
       "_view_name": "StyleView",
       "description_width": ""
      }
     },
     "b1a59107667241aba3cbd30e4a6f1f34": {
      "model_module": "@jupyter-widgets/base",
      "model_module_version": "1.2.0",
      "model_name": "LayoutModel",
      "state": {
       "_model_module": "@jupyter-widgets/base",
       "_model_module_version": "1.2.0",
       "_model_name": "LayoutModel",
       "_view_count": null,
       "_view_module": "@jupyter-widgets/base",
       "_view_module_version": "1.2.0",
       "_view_name": "LayoutView",
       "align_content": null,
       "align_items": null,
       "align_self": null,
       "border": null,
       "bottom": null,
       "display": null,
       "flex": null,
       "flex_flow": null,
       "grid_area": null,
       "grid_auto_columns": null,
       "grid_auto_flow": null,
       "grid_auto_rows": null,
       "grid_column": null,
       "grid_gap": null,
       "grid_row": null,
       "grid_template_areas": null,
       "grid_template_columns": null,
       "grid_template_rows": null,
       "height": null,
       "justify_content": null,
       "justify_items": null,
       "left": null,
       "margin": null,
       "max_height": null,
       "max_width": null,
       "min_height": null,
       "min_width": null,
       "object_fit": null,
       "object_position": null,
       "order": null,
       "overflow": null,
       "overflow_x": null,
       "overflow_y": null,
       "padding": null,
       "right": null,
       "top": null,
       "visibility": null,
       "width": null
      }
     },
     "bae52bfc18d844a1851c4384da466ec5": {
      "model_module": "@jupyter-widgets/controls",
      "model_module_version": "1.5.0",
      "model_name": "DescriptionStyleModel",
      "state": {
       "_model_module": "@jupyter-widgets/controls",
       "_model_module_version": "1.5.0",
       "_model_name": "DescriptionStyleModel",
       "_view_count": null,
       "_view_module": "@jupyter-widgets/base",
       "_view_module_version": "1.2.0",
       "_view_name": "StyleView",
       "description_width": ""
      }
     },
     "c12f1f03a3a841aea11f3b75d79029af": {
      "model_module": "@jupyter-widgets/controls",
      "model_module_version": "1.5.0",
      "model_name": "HTMLModel",
      "state": {
       "_dom_classes": [],
       "_model_module": "@jupyter-widgets/controls",
       "_model_module_version": "1.5.0",
       "_model_name": "HTMLModel",
       "_view_count": null,
       "_view_module": "@jupyter-widgets/controls",
       "_view_module_version": "1.5.0",
       "_view_name": "HTMLView",
       "description": "",
       "description_tooltip": null,
       "layout": "IPY_MODEL_8543d0c3e26f4391907b3c2b4a05272b",
       "placeholder": "​",
       "style": "IPY_MODEL_e57584938d8a4333b48346b7b64cc24a",
       "value": "100%"
      }
     },
     "c5d4e77910164d148ce8b1087df5bed8": {
      "model_module": "@jupyter-widgets/controls",
      "model_module_version": "1.5.0",
      "model_name": "DescriptionStyleModel",
      "state": {
       "_model_module": "@jupyter-widgets/controls",
       "_model_module_version": "1.5.0",
       "_model_name": "DescriptionStyleModel",
       "_view_count": null,
       "_view_module": "@jupyter-widgets/base",
       "_view_module_version": "1.2.0",
       "_view_name": "StyleView",
       "description_width": ""
      }
     },
     "c70bab2198dc4afba8af0bf5e1b4d6c1": {
      "model_module": "@jupyter-widgets/controls",
      "model_module_version": "1.5.0",
      "model_name": "ProgressStyleModel",
      "state": {
       "_model_module": "@jupyter-widgets/controls",
       "_model_module_version": "1.5.0",
       "_model_name": "ProgressStyleModel",
       "_view_count": null,
       "_view_module": "@jupyter-widgets/base",
       "_view_module_version": "1.2.0",
       "_view_name": "StyleView",
       "bar_color": null,
       "description_width": ""
      }
     },
     "cb8546c8bd6e40da882e54e6bb1097a7": {
      "model_module": "@jupyter-widgets/controls",
      "model_module_version": "1.5.0",
      "model_name": "HBoxModel",
      "state": {
       "_dom_classes": [],
       "_model_module": "@jupyter-widgets/controls",
       "_model_module_version": "1.5.0",
       "_model_name": "HBoxModel",
       "_view_count": null,
       "_view_module": "@jupyter-widgets/controls",
       "_view_module_version": "1.5.0",
       "_view_name": "HBoxView",
       "box_style": "",
       "children": [
        "IPY_MODEL_7c4dcb77796340dc820ce0a5d34cf745",
        "IPY_MODEL_1521ea05a8614b3f89c86a7339b9e33b",
        "IPY_MODEL_8d01ae68ee1340d58d41293da157d5bb"
       ],
       "layout": "IPY_MODEL_7d422e0aff844e5081001ffecf62c5e0"
      }
     },
     "cc6310fe64e14216855bb87822c51193": {
      "model_module": "@jupyter-widgets/controls",
      "model_module_version": "1.5.0",
      "model_name": "DescriptionStyleModel",
      "state": {
       "_model_module": "@jupyter-widgets/controls",
       "_model_module_version": "1.5.0",
       "_model_name": "DescriptionStyleModel",
       "_view_count": null,
       "_view_module": "@jupyter-widgets/base",
       "_view_module_version": "1.2.0",
       "_view_name": "StyleView",
       "description_width": ""
      }
     },
     "cc767a3b904149db996d63cf48e2f4b6": {
      "model_module": "@jupyter-widgets/controls",
      "model_module_version": "1.5.0",
      "model_name": "HTMLModel",
      "state": {
       "_dom_classes": [],
       "_model_module": "@jupyter-widgets/controls",
       "_model_module_version": "1.5.0",
       "_model_name": "HTMLModel",
       "_view_count": null,
       "_view_module": "@jupyter-widgets/controls",
       "_view_module_version": "1.5.0",
       "_view_name": "HTMLView",
       "description": "",
       "description_tooltip": null,
       "layout": "IPY_MODEL_a8466d1e13ab4062a2817e3c06064701",
       "placeholder": "​",
       "style": "IPY_MODEL_f96066def3ee4ca39200340db909c648",
       "value": "100%"
      }
     },
     "d2170ffe335d4aecb322b63bbb57aadc": {
      "model_module": "@jupyter-widgets/controls",
      "model_module_version": "1.5.0",
      "model_name": "HTMLModel",
      "state": {
       "_dom_classes": [],
       "_model_module": "@jupyter-widgets/controls",
       "_model_module_version": "1.5.0",
       "_model_name": "HTMLModel",
       "_view_count": null,
       "_view_module": "@jupyter-widgets/controls",
       "_view_module_version": "1.5.0",
       "_view_name": "HTMLView",
       "description": "",
       "description_tooltip": null,
       "layout": "IPY_MODEL_312a4fee334b4123a5f061909cdd1c48",
       "placeholder": "​",
       "style": "IPY_MODEL_0f8f03c5fc584eedb5e1586fdb4a4924",
       "value": " 4/4 [00:00&lt;00:00, 18.57it/s]"
      }
     },
     "d3aa4526e93d447bbbd00381aba8f31c": {
      "model_module": "@jupyter-widgets/base",
      "model_module_version": "1.2.0",
      "model_name": "LayoutModel",
      "state": {
       "_model_module": "@jupyter-widgets/base",
       "_model_module_version": "1.2.0",
       "_model_name": "LayoutModel",
       "_view_count": null,
       "_view_module": "@jupyter-widgets/base",
       "_view_module_version": "1.2.0",
       "_view_name": "LayoutView",
       "align_content": null,
       "align_items": null,
       "align_self": null,
       "border": null,
       "bottom": null,
       "display": null,
       "flex": null,
       "flex_flow": null,
       "grid_area": null,
       "grid_auto_columns": null,
       "grid_auto_flow": null,
       "grid_auto_rows": null,
       "grid_column": null,
       "grid_gap": null,
       "grid_row": null,
       "grid_template_areas": null,
       "grid_template_columns": null,
       "grid_template_rows": null,
       "height": null,
       "justify_content": null,
       "justify_items": null,
       "left": null,
       "margin": null,
       "max_height": null,
       "max_width": null,
       "min_height": null,
       "min_width": null,
       "object_fit": null,
       "object_position": null,
       "order": null,
       "overflow": null,
       "overflow_x": null,
       "overflow_y": null,
       "padding": null,
       "right": null,
       "top": null,
       "visibility": null,
       "width": null
      }
     },
     "d4dcf671c09d489089a5bc3b3d67b135": {
      "model_module": "@jupyter-widgets/controls",
      "model_module_version": "1.5.0",
      "model_name": "HTMLModel",
      "state": {
       "_dom_classes": [],
       "_model_module": "@jupyter-widgets/controls",
       "_model_module_version": "1.5.0",
       "_model_name": "HTMLModel",
       "_view_count": null,
       "_view_module": "@jupyter-widgets/controls",
       "_view_module_version": "1.5.0",
       "_view_name": "HTMLView",
       "description": "",
       "description_tooltip": null,
       "layout": "IPY_MODEL_1a40d73edfe944259c977bd04e90b7aa",
       "placeholder": "​",
       "style": "IPY_MODEL_bae52bfc18d844a1851c4384da466ec5",
       "value": " 4/? [00:00&lt;00:00, 138.68it/s]"
      }
     },
     "d8265aee76ee4a9c96a01390fd8a8053": {
      "model_module": "@jupyter-widgets/controls",
      "model_module_version": "1.5.0",
      "model_name": "DescriptionStyleModel",
      "state": {
       "_model_module": "@jupyter-widgets/controls",
       "_model_module_version": "1.5.0",
       "_model_name": "DescriptionStyleModel",
       "_view_count": null,
       "_view_module": "@jupyter-widgets/base",
       "_view_module_version": "1.2.0",
       "_view_name": "StyleView",
       "description_width": ""
      }
     },
     "d9a3c13c235943758bf5b80096d93262": {
      "model_module": "@jupyter-widgets/controls",
      "model_module_version": "1.5.0",
      "model_name": "DescriptionStyleModel",
      "state": {
       "_model_module": "@jupyter-widgets/controls",
       "_model_module_version": "1.5.0",
       "_model_name": "DescriptionStyleModel",
       "_view_count": null,
       "_view_module": "@jupyter-widgets/base",
       "_view_module_version": "1.2.0",
       "_view_name": "StyleView",
       "description_width": ""
      }
     },
     "dbc6a5d871f4422396c5d9dd1aa472a6": {
      "model_module": "@jupyter-widgets/base",
      "model_module_version": "1.2.0",
      "model_name": "LayoutModel",
      "state": {
       "_model_module": "@jupyter-widgets/base",
       "_model_module_version": "1.2.0",
       "_model_name": "LayoutModel",
       "_view_count": null,
       "_view_module": "@jupyter-widgets/base",
       "_view_module_version": "1.2.0",
       "_view_name": "LayoutView",
       "align_content": null,
       "align_items": null,
       "align_self": null,
       "border": null,
       "bottom": null,
       "display": null,
       "flex": null,
       "flex_flow": null,
       "grid_area": null,
       "grid_auto_columns": null,
       "grid_auto_flow": null,
       "grid_auto_rows": null,
       "grid_column": null,
       "grid_gap": null,
       "grid_row": null,
       "grid_template_areas": null,
       "grid_template_columns": null,
       "grid_template_rows": null,
       "height": null,
       "justify_content": null,
       "justify_items": null,
       "left": null,
       "margin": null,
       "max_height": null,
       "max_width": null,
       "min_height": null,
       "min_width": null,
       "object_fit": null,
       "object_position": null,
       "order": null,
       "overflow": null,
       "overflow_x": null,
       "overflow_y": null,
       "padding": null,
       "right": null,
       "top": null,
       "visibility": null,
       "width": null
      }
     },
     "dbde5aed7a194c9a8a49c3acc1fc3ad6": {
      "model_module": "@jupyter-widgets/base",
      "model_module_version": "1.2.0",
      "model_name": "LayoutModel",
      "state": {
       "_model_module": "@jupyter-widgets/base",
       "_model_module_version": "1.2.0",
       "_model_name": "LayoutModel",
       "_view_count": null,
       "_view_module": "@jupyter-widgets/base",
       "_view_module_version": "1.2.0",
       "_view_name": "LayoutView",
       "align_content": null,
       "align_items": null,
       "align_self": null,
       "border": null,
       "bottom": null,
       "display": null,
       "flex": null,
       "flex_flow": null,
       "grid_area": null,
       "grid_auto_columns": null,
       "grid_auto_flow": null,
       "grid_auto_rows": null,
       "grid_column": null,
       "grid_gap": null,
       "grid_row": null,
       "grid_template_areas": null,
       "grid_template_columns": null,
       "grid_template_rows": null,
       "height": null,
       "justify_content": null,
       "justify_items": null,
       "left": null,
       "margin": null,
       "max_height": null,
       "max_width": null,
       "min_height": null,
       "min_width": null,
       "object_fit": null,
       "object_position": null,
       "order": null,
       "overflow": null,
       "overflow_x": null,
       "overflow_y": null,
       "padding": null,
       "right": null,
       "top": null,
       "visibility": null,
       "width": null
      }
     },
     "dcaacf904d4b4d7a9cbebe41b34be760": {
      "model_module": "@jupyter-widgets/controls",
      "model_module_version": "1.5.0",
      "model_name": "FloatProgressModel",
      "state": {
       "_dom_classes": [],
       "_model_module": "@jupyter-widgets/controls",
       "_model_module_version": "1.5.0",
       "_model_name": "FloatProgressModel",
       "_view_count": null,
       "_view_module": "@jupyter-widgets/controls",
       "_view_module_version": "1.5.0",
       "_view_name": "ProgressView",
       "bar_style": "success",
       "description": "",
       "description_tooltip": null,
       "layout": "IPY_MODEL_fb00e2375462454fad16ca2364beb942",
       "max": 3.0,
       "min": 0.0,
       "orientation": "horizontal",
       "style": "IPY_MODEL_4b498cc51b9043b4933b229b202b1163",
       "value": 3.0
      }
     },
     "e56289e05f464ce29d2a14ba53e02827": {
      "model_module": "@jupyter-widgets/controls",
      "model_module_version": "1.5.0",
      "model_name": "HTMLModel",
      "state": {
       "_dom_classes": [],
       "_model_module": "@jupyter-widgets/controls",
       "_model_module_version": "1.5.0",
       "_model_name": "HTMLModel",
       "_view_count": null,
       "_view_module": "@jupyter-widgets/controls",
       "_view_module_version": "1.5.0",
       "_view_name": "HTMLView",
       "description": "",
       "description_tooltip": null,
       "layout": "IPY_MODEL_382165ccb82d4abe9d2e3e9c6fd4e9bb",
       "placeholder": "​",
       "style": "IPY_MODEL_7f79494790c54cff930404d48bf7791f",
       "value": " 3/3 [00:00&lt;00:00, 110.76it/s]"
      }
     },
     "e569bcd67b164eb78ed67064ac989f7b": {
      "model_module": "@jupyter-widgets/controls",
      "model_module_version": "1.5.0",
      "model_name": "HTMLModel",
      "state": {
       "_dom_classes": [],
       "_model_module": "@jupyter-widgets/controls",
       "_model_module_version": "1.5.0",
       "_model_name": "HTMLModel",
       "_view_count": null,
       "_view_module": "@jupyter-widgets/controls",
       "_view_module_version": "1.5.0",
       "_view_name": "HTMLView",
       "description": "",
       "description_tooltip": null,
       "layout": "IPY_MODEL_a22c2062b5c5401291a6027e351cb058",
       "placeholder": "​",
       "style": "IPY_MODEL_70d0f5c662284838a512ec94e88460a9",
       "value": " 162/162 [00:06&lt;00:00,  6.91s/it]"
      }
     },
     "e57584938d8a4333b48346b7b64cc24a": {
      "model_module": "@jupyter-widgets/controls",
      "model_module_version": "1.5.0",
      "model_name": "DescriptionStyleModel",
      "state": {
       "_model_module": "@jupyter-widgets/controls",
       "_model_module_version": "1.5.0",
       "_model_name": "DescriptionStyleModel",
       "_view_count": null,
       "_view_module": "@jupyter-widgets/base",
       "_view_module_version": "1.2.0",
       "_view_name": "StyleView",
       "description_width": ""
      }
     },
     "e5f4d1e66fd64e10812e946a49456abd": {
      "model_module": "@jupyter-widgets/controls",
      "model_module_version": "1.5.0",
      "model_name": "HBoxModel",
      "state": {
       "_dom_classes": [],
       "_model_module": "@jupyter-widgets/controls",
       "_model_module_version": "1.5.0",
       "_model_name": "HBoxModel",
       "_view_count": null,
       "_view_module": "@jupyter-widgets/controls",
       "_view_module_version": "1.5.0",
       "_view_name": "HBoxView",
       "box_style": "",
       "children": [
        "IPY_MODEL_ea09275e52f141e6876919ad53ed900b",
        "IPY_MODEL_fd25dc95e9d7464f9ea8fd3a38da99a7",
        "IPY_MODEL_29fa6f48fd354092bbc18648936fc4a0"
       ],
       "layout": "IPY_MODEL_dbc6a5d871f4422396c5d9dd1aa472a6"
      }
     },
     "ea09275e52f141e6876919ad53ed900b": {
      "model_module": "@jupyter-widgets/controls",
      "model_module_version": "1.5.0",
      "model_name": "HTMLModel",
      "state": {
       "_dom_classes": [],
       "_model_module": "@jupyter-widgets/controls",
       "_model_module_version": "1.5.0",
       "_model_name": "HTMLModel",
       "_view_count": null,
       "_view_module": "@jupyter-widgets/controls",
       "_view_module_version": "1.5.0",
       "_view_name": "HTMLView",
       "description": "",
       "description_tooltip": null,
       "layout": "IPY_MODEL_8b354dec27844ef29c2ef7eb47e68db6",
       "placeholder": "​",
       "style": "IPY_MODEL_d8265aee76ee4a9c96a01390fd8a8053",
       "value": "100%"
      }
     },
     "eacb088039a24046a15f818ae5ac1df3": {
      "model_module": "@jupyter-widgets/base",
      "model_module_version": "1.2.0",
      "model_name": "LayoutModel",
      "state": {
       "_model_module": "@jupyter-widgets/base",
       "_model_module_version": "1.2.0",
       "_model_name": "LayoutModel",
       "_view_count": null,
       "_view_module": "@jupyter-widgets/base",
       "_view_module_version": "1.2.0",
       "_view_name": "LayoutView",
       "align_content": null,
       "align_items": null,
       "align_self": null,
       "border": null,
       "bottom": null,
       "display": null,
       "flex": null,
       "flex_flow": null,
       "grid_area": null,
       "grid_auto_columns": null,
       "grid_auto_flow": null,
       "grid_auto_rows": null,
       "grid_column": null,
       "grid_gap": null,
       "grid_row": null,
       "grid_template_areas": null,
       "grid_template_columns": null,
       "grid_template_rows": null,
       "height": null,
       "justify_content": null,
       "justify_items": null,
       "left": null,
       "margin": null,
       "max_height": null,
       "max_width": null,
       "min_height": null,
       "min_width": null,
       "object_fit": null,
       "object_position": null,
       "order": null,
       "overflow": null,
       "overflow_x": null,
       "overflow_y": null,
       "padding": null,
       "right": null,
       "top": null,
       "visibility": null,
       "width": null
      }
     },
     "f2662ceb9c0046b8a62e0877b8eb983e": {
      "model_module": "@jupyter-widgets/controls",
      "model_module_version": "1.5.0",
      "model_name": "HTMLModel",
      "state": {
       "_dom_classes": [],
       "_model_module": "@jupyter-widgets/controls",
       "_model_module_version": "1.5.0",
       "_model_name": "HTMLModel",
       "_view_count": null,
       "_view_module": "@jupyter-widgets/controls",
       "_view_module_version": "1.5.0",
       "_view_name": "HTMLView",
       "description": "",
       "description_tooltip": null,
       "layout": "IPY_MODEL_71adc9b50822483e875c4d88b7ed4e24",
       "placeholder": "​",
       "style": "IPY_MODEL_fe50b0e2c2494c1eaa267b75b0067af2",
       "value": " 4/4 [00:00&lt;00:00,  7.91it/s]"
      }
     },
     "f849637247ed4911855e354f81d1dc7f": {
      "model_module": "@jupyter-widgets/controls",
      "model_module_version": "1.5.0",
      "model_name": "FloatProgressModel",
      "state": {
       "_dom_classes": [],
       "_model_module": "@jupyter-widgets/controls",
       "_model_module_version": "1.5.0",
       "_model_name": "FloatProgressModel",
       "_view_count": null,
       "_view_module": "@jupyter-widgets/controls",
       "_view_module_version": "1.5.0",
       "_view_name": "ProgressView",
       "bar_style": "success",
       "description": "",
       "description_tooltip": null,
       "layout": "IPY_MODEL_786a9f332ce441eda1c1ef95398e108d",
       "max": 1.0,
       "min": 0.0,
       "orientation": "horizontal",
       "style": "IPY_MODEL_0b00bd0c290e4a5187744a1d9382470d",
       "value": 1.0
      }
     },
     "f96066def3ee4ca39200340db909c648": {
      "model_module": "@jupyter-widgets/controls",
      "model_module_version": "1.5.0",
      "model_name": "DescriptionStyleModel",
      "state": {
       "_model_module": "@jupyter-widgets/controls",
       "_model_module_version": "1.5.0",
       "_model_name": "DescriptionStyleModel",
       "_view_count": null,
       "_view_module": "@jupyter-widgets/base",
       "_view_module_version": "1.2.0",
       "_view_name": "StyleView",
       "description_width": ""
      }
     },
     "fb00e2375462454fad16ca2364beb942": {
      "model_module": "@jupyter-widgets/base",
      "model_module_version": "1.2.0",
      "model_name": "LayoutModel",
      "state": {
       "_model_module": "@jupyter-widgets/base",
       "_model_module_version": "1.2.0",
       "_model_name": "LayoutModel",
       "_view_count": null,
       "_view_module": "@jupyter-widgets/base",
       "_view_module_version": "1.2.0",
       "_view_name": "LayoutView",
       "align_content": null,
       "align_items": null,
       "align_self": null,
       "border": null,
       "bottom": null,
       "display": null,
       "flex": null,
       "flex_flow": null,
       "grid_area": null,
       "grid_auto_columns": null,
       "grid_auto_flow": null,
       "grid_auto_rows": null,
       "grid_column": null,
       "grid_gap": null,
       "grid_row": null,
       "grid_template_areas": null,
       "grid_template_columns": null,
       "grid_template_rows": null,
       "height": null,
       "justify_content": null,
       "justify_items": null,
       "left": null,
       "margin": null,
       "max_height": null,
       "max_width": null,
       "min_height": null,
       "min_width": null,
       "object_fit": null,
       "object_position": null,
       "order": null,
       "overflow": null,
       "overflow_x": null,
       "overflow_y": null,
       "padding": null,
       "right": null,
       "top": null,
       "visibility": null,
       "width": null
      }
     },
     "fd25dc95e9d7464f9ea8fd3a38da99a7": {
      "model_module": "@jupyter-widgets/controls",
      "model_module_version": "1.5.0",
      "model_name": "FloatProgressModel",
      "state": {
       "_dom_classes": [],
       "_model_module": "@jupyter-widgets/controls",
       "_model_module_version": "1.5.0",
       "_model_name": "FloatProgressModel",
       "_view_count": null,
       "_view_module": "@jupyter-widgets/controls",
       "_view_module_version": "1.5.0",
       "_view_name": "ProgressView",
       "bar_style": "success",
       "description": "",
       "description_tooltip": null,
       "layout": "IPY_MODEL_a4251d2248d84262a4c57ca2fd47cd2c",
       "max": 4.0,
       "min": 0.0,
       "orientation": "horizontal",
       "style": "IPY_MODEL_38a5c9b6f82a45d7acd57e94fc100b05",
       "value": 4.0
      }
     },
     "fe50b0e2c2494c1eaa267b75b0067af2": {
      "model_module": "@jupyter-widgets/controls",
      "model_module_version": "1.5.0",
      "model_name": "DescriptionStyleModel",
      "state": {
       "_model_module": "@jupyter-widgets/controls",
       "_model_module_version": "1.5.0",
       "_model_name": "DescriptionStyleModel",
       "_view_count": null,
       "_view_module": "@jupyter-widgets/base",
       "_view_module_version": "1.2.0",
       "_view_name": "StyleView",
       "description_width": ""
      }
     },
     "ffc146271ead48e8986a7a33900e2496": {
      "model_module": "@jupyter-widgets/controls",
      "model_module_version": "1.5.0",
      "model_name": "HBoxModel",
      "state": {
       "_dom_classes": [],
       "_model_module": "@jupyter-widgets/controls",
       "_model_module_version": "1.5.0",
       "_model_name": "HBoxModel",
       "_view_count": null,
       "_view_module": "@jupyter-widgets/controls",
       "_view_module_version": "1.5.0",
       "_view_name": "HBoxView",
       "box_style": "",
       "children": [
        "IPY_MODEL_69872ec783544efcbb6d7f3e54d08630",
        "IPY_MODEL_dcaacf904d4b4d7a9cbebe41b34be760",
        "IPY_MODEL_e56289e05f464ce29d2a14ba53e02827"
       ],
       "layout": "IPY_MODEL_4708e6ff81a94c31a1f09fa949263c31"
      }
     }
    },
    "version_major": 2,
    "version_minor": 0
   }
  }
 },
 "nbformat": 4,
 "nbformat_minor": 5
}
